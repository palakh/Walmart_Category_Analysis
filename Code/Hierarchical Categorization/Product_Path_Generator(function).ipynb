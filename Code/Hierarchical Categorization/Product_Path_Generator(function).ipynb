{
 "cells": [
  {
   "cell_type": "code",
   "execution_count": 1,
   "metadata": {},
   "outputs": [],
   "source": [
    "import numpy as np\n",
    "import pandas as pd\n",
    "import math\n",
    "from sklearn.model_selection import train_test_split\n",
    "from sklearn.svm import LinearSVC\n",
    "from sklearn.svm import SVC\n",
    "from sklearn.metrics import mean_squared_error\n",
    "from sklearn.metrics import accuracy_score\n",
    "from sklearn.metrics import roc_curve, roc_auc_score, f1_score\n",
    "from sklearn import metrics\n",
    "from joblib import dump, load\n",
    "import tensorflow as tf\n",
    "import tensorflow_hub as hub\n",
    "import matplotlib.pyplot as plt\n",
    "import numpy as np\n",
    "import os\n",
    "import pandas as pd\n",
    "import re\n",
    "import seaborn as sns\n",
    "from joblib import dump, load"
   ]
  },
  {
   "cell_type": "code",
   "execution_count": 2,
   "metadata": {},
   "outputs": [],
   "source": [
    "pd.options.display.max_rows = 1000"
   ]
  },
  {
   "cell_type": "markdown",
   "metadata": {},
   "source": [
    "## Function Start"
   ]
  },
  {
   "cell_type": "code",
   "execution_count": 3,
   "metadata": {},
   "outputs": [
    {
     "name": "stdout",
     "output_type": "stream",
     "text": [
      "module https://tfhub.dev/google/universal-sentence-encoder/4 loaded\n"
     ]
    }
   ],
   "source": [
    "module_url = \"https://tfhub.dev/google/universal-sentence-encoder/4\"\n",
    "model = hub.load(module_url)\n",
    "print (\"module %s loaded\" % module_url)\n",
    "def embed(input):\n",
    "  return model(input)"
   ]
  },
  {
   "cell_type": "code",
   "execution_count": 4,
   "metadata": {},
   "outputs": [],
   "source": [
    "def encoder(name_list):\n",
    "    df = pd.DataFrame(name_list,columns=['product_name'])\n",
    "    product_name = df['product_name']\n",
    "    product_name.dropna(inplace=True)\n",
    "    product_name = product_name.astype(str)\n",
    "    product_name_ls = product_name.tolist()\n",
    "    a = embed(product_name_ls)\n",
    "    a = a.numpy()\n",
    "    USE_name = pd.DataFrame(a)\n",
    "    return USE_name"
   ]
  },
  {
   "cell_type": "code",
   "execution_count": 7,
   "metadata": {},
   "outputs": [],
   "source": [
    "def product_path_gen(row):\n",
    "    pd.set_option(\"display.max_colwidth\", 10000)\n",
    "    row = pd.DataFrame(row).transpose()\n",
    "    A = load('A.joblib')\n",
    "    X = row.copy()\n",
    "    y_pred_0 = A.predict(X)\n",
    "    row['cat0'] = y_pred_0\n",
    "    \n",
    "    B1 = load('B1.joblib')\n",
    "    E1 = load('E1.joblib')\n",
    "    H1 = load('H1.joblib')\n",
    "    F1 = load('F1.joblib')\n",
    "    G1 = load('G1.joblib')\n",
    "    \n",
    "    if y_pred_0 == 'Beauty':\n",
    "        y_pred_1 = B1.predict(X)\n",
    "    \n",
    "    elif y_pred_0 == 'Electronics':\n",
    "        y_pred_1 = E1.predict(X)\n",
    "    \n",
    "    elif y_pred_0 == 'Home, Furnitures & Appliances':\n",
    "        y_pred_1 = H1.predict(X)\n",
    "    \n",
    "    elif y_pred_0 == 'Food':\n",
    "        y_pred_1 = F1.predict(X)\n",
    "    \n",
    "    elif y_pred_0 == 'Garden & Patio':\n",
    "        y_pred_1 = G1.predict(X)\n",
    "        \n",
    "    row['cat1'] = y_pred_1\n",
    "    \n",
    "    #import all the cat2 models \n",
    "    B2A = load('B2(Hair Care).joblib')\n",
    "    B2B = load('B2(Makeup).joblib')\n",
    "    B2C = load('B2(Nail Care).joblib')\n",
    "    B2D = load('B2(Skin Care).joblib')\n",
    "    \n",
    "    E2A = load('E2(Computers).joblib')\n",
    "    E2B = load('E2(Home Audio & Theater).joblib')\n",
    "    E2C = load('E2(Printer & Supplies).joblib')\n",
    "    E2D = load('E2(TV).joblib')\n",
    "    \n",
    "    H2A = load('H2(Appliances).joblib')\n",
    "    H2B = load('H2(Furnitures).joblib')\n",
    "    H2C = load('H2(Home Decor).joblib')\n",
    "    H2D = load('H2(Kitchen & Dining).joblib')\n",
    "    \n",
    "    F2A = load('F2(Beverages).joblib')\n",
    "    F2B = load('F2(Coffee).joblib')\n",
    "    F2C = load('F2(Meal Solutions, Grains & Pasta).joblib')\n",
    "    F2D = load('F2(Snacks, Cookies & Chips).joblib')\n",
    "    \n",
    "    G2A = load('G2(Grills & Outdoor Cooking).joblib')\n",
    "    G2B = load('G2(Outdoor Heating).joblib')\n",
    "    G2C = load('G2(Outdoor Power Equipment).joblib')\n",
    "    G2D = load('G2(Patio Furniture).joblib')\n",
    "    \n",
    "    if y_pred_1 == 'Hair Care':\n",
    "        y_pred_2 = B2A.predict(X)  \n",
    "    elif y_pred_1 == 'Makeup':\n",
    "        y_pred_2 = B2B.predict(X)\n",
    "    elif y_pred_1 == 'Nail Care':\n",
    "        y_pred_2 = B2C.predict(X)\n",
    "    elif y_pred_1 == 'Skin Care':\n",
    "        y_pred_2 = B2D.predict(X)\n",
    "        \n",
    "    elif y_pred_1 == 'Computers':\n",
    "        y_pred_2 = E2A.predict(X)\n",
    "    elif y_pred_1 == 'Home Audio & Theater':\n",
    "        y_pred_2 = E2B.predict(X)\n",
    "    elif y_pred_1 == 'Printer & Supplies':\n",
    "        y_pred_2 = E2C.predict(X)\n",
    "    elif y_pred_1 == 'TV':\n",
    "        y_pred_2 = E2D.predict(X)\n",
    "        \n",
    "        \n",
    "    elif y_pred_1 == 'Appliances':\n",
    "        y_pred_2 = H2A.predict(X)\n",
    "    elif y_pred_1 == 'Furnitures':\n",
    "        y_pred_2 = H2B.predict(X)\n",
    "    elif y_pred_1 == 'Home Decor':\n",
    "        y_pred_2 = H2C.predict(X)\n",
    "    elif y_pred_1 == 'Kitchen & Dining':\n",
    "        y_pred_2 = H2D.predict(X)\n",
    "        \n",
    "    elif y_pred_1 == 'Beverages':\n",
    "        y_pred_2 = F2A.predict(X)\n",
    "    elif y_pred_1 == 'Coffee':\n",
    "        y_pred_2 = F2B.predict(X)\n",
    "    elif y_pred_1 == 'Meal Solutions, Grains & Pasta':\n",
    "        y_pred_2 = F2C.predict(X)\n",
    "    elif y_pred_1 == 'Snacks, Cookies & Chips':\n",
    "        y_pred_2 = F2D.predict(X)\n",
    "    \n",
    "        \n",
    "    elif y_pred_1 == 'Grills & Outdoor Cooking':\n",
    "        y_pred_2 = G2A.predict(X)\n",
    "    elif y_pred_1 == 'Outdoor Heating':\n",
    "        y_pred_2 = G2B.predict(X)\n",
    "    elif y_pred_1 == 'Outdoor Power Equipment':\n",
    "        y_pred_2 = G2C.predict(X)\n",
    "    elif y_pred_1 == 'Patio Furniture':\n",
    "        y_pred_2 = G2D.predict(X)\n",
    "    \n",
    "    else:\n",
    "        H2D = load('H2(Kitchen & Dining).joblib')\n",
    "        y_pred_2 = H2D.predict(X)\n",
    "        \n",
    "    row['cat2'] = y_pred_2\n",
    "    pp = row['cat0'].astype(str)+'/'+row['cat1'].astype(str)+'/'+row['cat2'].astype(str)\n",
    "    return pp.to_string(index=False)"
   ]
  },
  {
   "cell_type": "markdown",
   "metadata": {},
   "source": [
    "## Testing"
   ]
  },
  {
   "cell_type": "code",
   "execution_count": 11,
   "metadata": {},
   "outputs": [],
   "source": [
    "df_test = encoder(['FIXBODY Nail Clipper Set – Black Stainless Steel Fingernails & Toenails Clippers & Nail File Sharp Nail Cutter with Leather Case, Set of 3 (Straight & Curved)',\n",
    "                  'Doritos Nacho Cheese Flavored Tortilla Chips, 1 oz (Pack of 40)',\n",
    "                  'Refurbished HP 290-p0043w Slim Celeron G4900 3.1GHz 4GB RAM 500GB HDD Win 10 Home Black'\n",
    "                  ])"
   ]
  },
  {
   "cell_type": "code",
   "execution_count": 12,
   "metadata": {},
   "outputs": [
    {
     "data": {
      "text/plain": [
       "0        Beauty/Nail Care/Manicure Tools\n",
       "1     Food/Snacks, Cookies & Chips/Chips\n",
       "2          Electronics/Computers/Desktop\n",
       "dtype: object"
      ]
     },
     "execution_count": 12,
     "metadata": {},
     "output_type": "execute_result"
    }
   ],
   "source": [
    "df_test.apply(product_path_gen, axis=1)"
   ]
  },
  {
   "cell_type": "code",
   "execution_count": null,
   "metadata": {},
   "outputs": [],
   "source": []
  }
 ],
 "metadata": {
  "kernelspec": {
   "display_name": "Python 3",
   "language": "python",
   "name": "python3"
  },
  "language_info": {
   "codemirror_mode": {
    "name": "ipython",
    "version": 3
   },
   "file_extension": ".py",
   "mimetype": "text/x-python",
   "name": "python",
   "nbconvert_exporter": "python",
   "pygments_lexer": "ipython3",
   "version": "3.7.6"
  }
 },
 "nbformat": 4,
 "nbformat_minor": 4
}

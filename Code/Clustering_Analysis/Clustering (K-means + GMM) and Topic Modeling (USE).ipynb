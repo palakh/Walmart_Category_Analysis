{
  "nbformat": 4,
  "nbformat_minor": 0,
  "metadata": {
    "colab": {
      "name": "USE+Clustering.ipynb",
      "provenance": []
    },
    "kernelspec": {
      "name": "python3",
      "display_name": "Python 3"
    }
  },
  "cells": [
    {
      "cell_type": "code",
      "metadata": {
        "id": "kzRN_xstGt4j",
        "colab_type": "code",
        "outputId": "7d536a84-d818-4bcb-c922-df1c59e4a368",
        "colab": {
          "base_uri": "https://localhost:8080/",
          "height": 121
        }
      },
      "source": [
        "from google.colab import drive\n",
        "drive.mount('/content/drive')"
      ],
      "execution_count": 0,
      "outputs": [
        {
          "output_type": "stream",
          "text": [
            "Go to this URL in a browser: https://accounts.google.com/o/oauth2/auth?client_id=947318989803-6bn6qk8qdgf4n4g3pfee6491hc0brc4i.apps.googleusercontent.com&redirect_uri=urn%3aietf%3awg%3aoauth%3a2.0%3aoob&response_type=code&scope=email%20https%3a%2f%2fwww.googleapis.com%2fauth%2fdocs.test%20https%3a%2f%2fwww.googleapis.com%2fauth%2fdrive%20https%3a%2f%2fwww.googleapis.com%2fauth%2fdrive.photos.readonly%20https%3a%2f%2fwww.googleapis.com%2fauth%2fpeopleapi.readonly\n",
            "\n",
            "Enter your authorization code:\n",
            "··········\n",
            "Mounted at /content/drive\n"
          ],
          "name": "stdout"
        }
      ]
    },
    {
      "cell_type": "code",
      "metadata": {
        "id": "vm-5fOMmxSpm",
        "colab_type": "code",
        "colab": {}
      },
      "source": [
        "import nltk\n",
        "nltk.download('all')\n",
        "!pip install pyLDAvis"
      ],
      "execution_count": 0,
      "outputs": []
    },
    {
      "cell_type": "code",
      "metadata": {
        "id": "8aU2pxXLVqk8",
        "colab_type": "code",
        "colab": {}
      },
      "source": [
        "import pandas as pd\n",
        "import numpy as np\n",
        "import string\n",
        "import re\n",
        "from pprint import pprint\n",
        "# NLTK \n",
        "from nltk.corpus import stopwords\n",
        "from nltk.stem.wordnet import WordNetLemmatizer\n",
        "from nltk.corpus import stopwords\n",
        "stop_words = stopwords.words('english') #this depends on each language\n",
        "# Gensim\n",
        "!pip install gensim\n",
        "import gensim\n",
        "import gensim.corpora as corpora\n",
        "from gensim.utils import simple_preprocess\n",
        "from gensim.models import CoherenceModel\n",
        "# spacy for lemmatization\n",
        "import spacy\n",
        "# Plotting tools\n",
        "import pyLDAvis\n",
        "import pyLDAvis.gensim  \n",
        "import matplotlib.pyplot as plt\n",
        "%matplotlib inline\n",
        "\n",
        "# Enable logging for gensim - optional\n",
        "import logging\n",
        "logging.basicConfig(format='%(asctime)s : %(levelname)s : %(message)s', level=logging.ERROR)\n",
        "\n",
        "import warnings\n",
        "warnings.filterwarnings(\"ignore\",category=DeprecationWarning)"
      ],
      "execution_count": 0,
      "outputs": []
    },
    {
      "cell_type": "code",
      "metadata": {
        "id": "lYwPlsNTWyoP",
        "colab_type": "code",
        "colab": {}
      },
      "source": [
        "import numpy as np\n",
        "import pandas as pd\n",
        "df = pd.read_csv('/content/all_data.csv')\n",
        "a = df[['product_id','product_name','pre_define_cat']]"
      ],
      "execution_count": 0,
      "outputs": []
    },
    {
      "cell_type": "code",
      "metadata": {
        "id": "3DcvIGZ6DH3I",
        "colab_type": "code",
        "outputId": "f725a395-bcac-475d-ca60-8932be8cf866",
        "colab": {
          "base_uri": "https://localhost:8080/",
          "height": 402
        }
      },
      "source": [
        "a"
      ],
      "execution_count": 0,
      "outputs": [
        {
          "output_type": "execute_result",
          "data": {
            "text/html": [
              "<div>\n",
              "<style scoped>\n",
              "    .dataframe tbody tr th:only-of-type {\n",
              "        vertical-align: middle;\n",
              "    }\n",
              "\n",
              "    .dataframe tbody tr th {\n",
              "        vertical-align: top;\n",
              "    }\n",
              "\n",
              "    .dataframe thead th {\n",
              "        text-align: right;\n",
              "    }\n",
              "</style>\n",
              "<table border=\"1\" class=\"dataframe\">\n",
              "  <thead>\n",
              "    <tr style=\"text-align: right;\">\n",
              "      <th></th>\n",
              "      <th>product_id</th>\n",
              "      <th>product_name</th>\n",
              "      <th>pre_define_cat</th>\n",
              "    </tr>\n",
              "  </thead>\n",
              "  <tbody>\n",
              "    <tr>\n",
              "      <th>0</th>\n",
              "      <td>Model: M92P</td>\n",
              "      <td>Refurbished Lenovo THINKCENTRE M92P-SFF Deskto...</td>\n",
              "      <td>desktop</td>\n",
              "    </tr>\n",
              "    <tr>\n",
              "      <th>1</th>\n",
              "      <td>Model: 790</td>\n",
              "      <td>Refurbished Dell Optiplex 790-SFF WA1-0309 Des...</td>\n",
              "      <td>desktop</td>\n",
              "    </tr>\n",
              "    <tr>\n",
              "      <th>2</th>\n",
              "      <td>Model: 8200 Elite</td>\n",
              "      <td>HP 8200 Elite Desktop Computer with Windows 10...</td>\n",
              "      <td>desktop</td>\n",
              "    </tr>\n",
              "    <tr>\n",
              "      <th>3</th>\n",
              "      <td>Model: ME086LL/A</td>\n",
              "      <td>Apple iMac 21.5\" 2.7GHz Core i5 (ME086LL/A) Al...</td>\n",
              "      <td>desktop</td>\n",
              "    </tr>\n",
              "    <tr>\n",
              "      <th>4</th>\n",
              "      <td>Model: K_00180</td>\n",
              "      <td>Refurbished - Dell Optiplex Desktop Computer 3...</td>\n",
              "      <td>desktop</td>\n",
              "    </tr>\n",
              "    <tr>\n",
              "      <th>...</th>\n",
              "      <td>...</td>\n",
              "      <td>...</td>\n",
              "      <td>...</td>\n",
              "    </tr>\n",
              "    <tr>\n",
              "      <th>13886</th>\n",
              "      <td>NaN</td>\n",
              "      <td>VIZIO SmartCast E-Series E55u-D2 55\" 4K Ultra ...</td>\n",
              "      <td>tv</td>\n",
              "    </tr>\n",
              "    <tr>\n",
              "      <th>13887</th>\n",
              "      <td>NaN</td>\n",
              "      <td>Samsung UN75RU8000 75\" RU8000 LED Smart 4K UHD...</td>\n",
              "      <td>tv</td>\n",
              "    </tr>\n",
              "    <tr>\n",
              "      <th>13888</th>\n",
              "      <td>Walmart #  572101210</td>\n",
              "      <td>DummyStressTest1294Automation generated BV title</td>\n",
              "      <td>tv</td>\n",
              "    </tr>\n",
              "    <tr>\n",
              "      <th>13889</th>\n",
              "      <td>NaN</td>\n",
              "      <td>LED TV USB Backlight Kit Computer RGB LED Ligh...</td>\n",
              "      <td>tv</td>\n",
              "    </tr>\n",
              "    <tr>\n",
              "      <th>13890</th>\n",
              "      <td>NaN</td>\n",
              "      <td>32IN SMART 720P HDTV</td>\n",
              "      <td>tv</td>\n",
              "    </tr>\n",
              "  </tbody>\n",
              "</table>\n",
              "<p>13891 rows × 3 columns</p>\n",
              "</div>"
            ],
            "text/plain": [
              "                 product_id  ... pre_define_cat\n",
              "0               Model: M92P  ...        desktop\n",
              "1                Model: 790  ...        desktop\n",
              "2         Model: 8200 Elite  ...        desktop\n",
              "3          Model: ME086LL/A  ...        desktop\n",
              "4            Model: K_00180  ...        desktop\n",
              "...                     ...  ...            ...\n",
              "13886                   NaN  ...             tv\n",
              "13887                   NaN  ...             tv\n",
              "13888  Walmart #  572101210  ...             tv\n",
              "13889                   NaN  ...             tv\n",
              "13890                   NaN  ...             tv\n",
              "\n",
              "[13891 rows x 3 columns]"
            ]
          },
          "metadata": {
            "tags": []
          },
          "execution_count": 5
        }
      ]
    },
    {
      "cell_type": "markdown",
      "metadata": {
        "id": "ZB4hHpR2a987",
        "colab_type": "text"
      },
      "source": [
        "**USE Embeddings**"
      ]
    },
    {
      "cell_type": "code",
      "metadata": {
        "id": "FKwYogBfa8H-",
        "colab_type": "code",
        "colab": {}
      },
      "source": [
        "%%capture\n",
        "# Install the latest Tensorflow version.\n",
        "!pip3 install --upgrade tensorflow-gpu\n",
        "# Install TF-Hub.\n",
        "!pip3 install tensorflow-hub\n",
        "!pip3 install seaborn"
      ],
      "execution_count": 0,
      "outputs": []
    },
    {
      "cell_type": "code",
      "metadata": {
        "id": "m1HBehcrbOGQ",
        "colab_type": "code",
        "outputId": "ff68a16f-d4ed-428c-ab84-899396be051e",
        "colab": {
          "base_uri": "https://localhost:8080/",
          "height": 87
        }
      },
      "source": [
        "#@title Load the Universal Sentence Encoder's TF Hub module\n",
        "from absl import logging\n",
        "\n",
        "import tensorflow as tf\n",
        "import tensorflow_hub as hub\n",
        "import matplotlib.pyplot as plt\n",
        "import numpy as np\n",
        "import os\n",
        "import pandas as pd\n",
        "import re\n",
        "import seaborn as sns\n",
        "\n",
        "module_url = \"https://tfhub.dev/google/universal-sentence-encoder/4\" #@param [\"https://tfhub.dev/google/universal-sentence-encoder/4\", \"https://tfhub.dev/google/universal-sentence-encoder-large/5\"]\n",
        "model = hub.load(module_url)\n",
        "print (\"module %s loaded\" % module_url)\n",
        "def embed(input):\n",
        "  return model(input)"
      ],
      "execution_count": 0,
      "outputs": [
        {
          "output_type": "stream",
          "text": [
            "/usr/local/lib/python3.6/dist-packages/statsmodels/tools/_testing.py:19: FutureWarning: pandas.util.testing is deprecated. Use the functions in the public API at pandas.testing instead.\n",
            "  import pandas.util.testing as tm\n"
          ],
          "name": "stderr"
        },
        {
          "output_type": "stream",
          "text": [
            "module https://tfhub.dev/google/universal-sentence-encoder/4 loaded\n"
          ],
          "name": "stdout"
        }
      ]
    },
    {
      "cell_type": "code",
      "metadata": {
        "id": "dPZON9J8bOBz",
        "colab_type": "code",
        "colab": {}
      },
      "source": [
        "#Drop all products with missing product ati\n",
        "df.dropna(subset=['product_name'],inplace=True)\n",
        "product_name = df['product_name']\n",
        "product_name_ls = product_name.tolist()\n",
        "b = embed(product_name_ls)\n",
        "b = b.numpy()\n",
        "df1 = pd.DataFrame(b)\n",
        "df1"
      ],
      "execution_count": 0,
      "outputs": []
    },
    {
      "cell_type": "code",
      "metadata": {
        "id": "DFjaRsW0vbd5",
        "colab_type": "code",
        "colab": {}
      },
      "source": [
        "df1['type']= df['pre_define_cat']\n",
        "df_desktop = df1[df1['type']== 'desktop']\n",
        "df_desktop_1 = df_desktop.loc[:,df_desktop.columns != 'type']"
      ],
      "execution_count": 0,
      "outputs": []
    },
    {
      "cell_type": "code",
      "metadata": {
        "id": "van4th30MdVV",
        "colab_type": "code",
        "outputId": "03b311d3-af79-467b-d739-d3acac6c2e31",
        "colab": {
          "base_uri": "https://localhost:8080/",
          "height": 34
        }
      },
      "source": [
        "df_desktop_1.shape"
      ],
      "execution_count": 0,
      "outputs": [
        {
          "output_type": "execute_result",
          "data": {
            "text/plain": [
              "(993, 512)"
            ]
          },
          "metadata": {
            "tags": []
          },
          "execution_count": 10
        }
      ]
    },
    {
      "cell_type": "markdown",
      "metadata": {
        "id": "DTx9cOTd6oOU",
        "colab_type": "text"
      },
      "source": [
        "**PCA**"
      ]
    },
    {
      "cell_type": "code",
      "metadata": {
        "id": "sCDlCMOc6qJo",
        "colab_type": "code",
        "colab": {}
      },
      "source": [
        "from sklearn.model_selection import train_test_split \n",
        "from sklearn.preprocessing import StandardScaler\n",
        "from sklearn.decomposition import PCA  \n",
        "sc = StandardScaler() \n",
        "\n",
        "def PCArun(df,testdata,x):\n",
        "  # Creating train and test set\n",
        "  #X_train, X_test, y_train, y_test = train_test_split(df, testdata, test_size = 0.0, random_state = 0) \n",
        "  X_train = df\n",
        "  #Fitting model  \n",
        "  X_train = sc.fit_transform(X_train) \n",
        "  #X_test = sc.transform(X_test) \n",
        "\n",
        "  # Applying PCA function on training for 80% variance \n",
        "  pca = PCA(x) \n",
        "  \n",
        "  X_train = pca.fit_transform(X_train) \n",
        "  #X_test = pca.transform(X_test)  \n",
        "  explained_variance = pca.explained_variance_ratio_ \n",
        "  #return X_train, X_test,y_train,y_test,explained_variance\n",
        "  return X_train,explained_variance\n"
      ],
      "execution_count": 0,
      "outputs": []
    },
    {
      "cell_type": "code",
      "metadata": {
        "id": "vTdmEVi765uz",
        "colab_type": "code",
        "outputId": "d9833024-41bb-4add-ff58-299a99b83432",
        "colab": {
          "base_uri": "https://localhost:8080/",
          "height": 34
        }
      },
      "source": [
        "X_train, explained_variance = PCArun(df_desktop_1,df_desktop['type'],0.7)\n",
        "X_train.shape"
      ],
      "execution_count": 0,
      "outputs": [
        {
          "output_type": "execute_result",
          "data": {
            "text/plain": [
              "(993, 28)"
            ]
          },
          "metadata": {
            "tags": []
          },
          "execution_count": 12
        }
      ]
    },
    {
      "cell_type": "markdown",
      "metadata": {
        "id": "vnUHu21MI-5E",
        "colab_type": "text"
      },
      "source": [
        "**K-MEANS**"
      ]
    },
    {
      "cell_type": "code",
      "metadata": {
        "id": "JG5hF0RPI9Ua",
        "colab_type": "code",
        "colab": {}
      },
      "source": [
        "#Import libraries\n",
        "import matplotlib.pyplot as plt\n",
        "from sklearn.cluster import KMeans"
      ],
      "execution_count": 0,
      "outputs": []
    },
    {
      "cell_type": "code",
      "metadata": {
        "id": "rPbz7jj8JZ6K",
        "colab_type": "code",
        "outputId": "d7f7bc72-20d0-4f52-d4a0-8eac095ba62b",
        "colab": {
          "base_uri": "https://localhost:8080/",
          "height": 295
        }
      },
      "source": [
        "Error =[]\n",
        "for i in range(1, 50):\n",
        "    kmeans = KMeans(n_clusters = i).fit(X_train)\n",
        "    kmeans.fit(X_train)\n",
        "    Error.append(kmeans.inertia_)\n",
        "import matplotlib.pyplot as plt\n",
        "plt.plot(range(1, 50), Error)\n",
        "plt.title('Elbow method')\n",
        "plt.xlabel('No of clusters')\n",
        "plt.ylabel('Error')\n",
        "plt.show()"
      ],
      "execution_count": 0,
      "outputs": [
        {
          "output_type": "display_data",
          "data": {
            "image/png": "[encoded data removed]",
            "text/plain": [
              "<Figure size 432x288 with 1 Axes>"
            ]
          },
          "metadata": {
            "tags": [],
            "needs_background": "light"
          }
        }
      ]
    },
    {
      "cell_type": "markdown",
      "metadata": {
        "id": "PT_FUg04KrVV",
        "colab_type": "text"
      },
      "source": [
        "**15 number of clusters seems like a good option**"
      ]
    },
    {
      "cell_type": "code",
      "metadata": {
        "id": "iLh29JvAI9R7",
        "colab_type": "code",
        "colab": {}
      },
      "source": [
        "kmeans15 = KMeans(n_clusters=15)\n",
        "y_kmeans15 = kmeans15.fit_predict(X_train)\n",
        "print(y_kmeans15)\n",
        "kmeans15.cluster_centers_"
      ],
      "execution_count": 0,
      "outputs": []
    },
    {
      "cell_type": "code",
      "metadata": {
        "id": "R_oKHrxzsLMS",
        "colab_type": "code",
        "outputId": "3cb24d7d-2fda-43c3-85e7-330aa78d3394",
        "colab": {
          "base_uri": "https://localhost:8080/",
          "height": 34
        }
      },
      "source": [
        "from sklearn import metrics\n",
        "metrics.silhouette_score(X_train,y_kmeans15)"
      ],
      "execution_count": 0,
      "outputs": [
        {
          "output_type": "execute_result",
          "data": {
            "text/plain": [
              "0.19345862"
            ]
          },
          "metadata": {
            "tags": []
          },
          "execution_count": 73
        }
      ]
    },
    {
      "cell_type": "code",
      "metadata": {
        "id": "AVkbTfBCb3H0",
        "colab_type": "code",
        "colab": {}
      },
      "source": [
        "data1 = pd.DataFrame(X_train).iloc[:,0:2]\n",
        "data1['label']=y_kmeans15\n",
        "data1.columns= ['P1','P2','label']"
      ],
      "execution_count": 0,
      "outputs": []
    },
    {
      "cell_type": "code",
      "metadata": {
        "id": "cKNOwf5dbJ5J",
        "colab_type": "code",
        "outputId": "a6dd430c-f9e0-450b-a297-10f6a93093e9",
        "colab": {
          "base_uri": "https://localhost:8080/",
          "height": 594
        }
      },
      "source": [
        "import matplotlib\n",
        "cmap={0:'blue',1:'red',2:'green',3:'yellow',4:'purple',5:'brown',6:'orange',7:'coral',8:'deeppink',9:'darkblue',10:'tan',11:'plum',12:'tan',13:'teal',14:'salmon'}\n",
        "\n",
        "fig, ax = plt.subplots()\n",
        "for l in range(len(data1.loc[:,'label'].unique())):\n",
        "  pca_temp = data1[data1['label']==l]\n",
        "  ax.scatter(pca_temp['P1'], pca_temp['P2'], c=cmap[l], label= 'Cluster '+str(l))\n",
        "ax.legend()\n",
        "fig.set_size_inches(10,10)"
      ],
      "execution_count": 0,
      "outputs": [
        {
          "output_type": "display_data",
          "data": {
            "image/png": "[encoded data removed]",
            "text/plain": [
              "<Figure size 720x720 with 1 Axes>"
            ]
          },
          "metadata": {
            "tags": []
          }
        }
      ]
    },
    {
      "cell_type": "code",
      "metadata": {
        "id": "LbhYMqWiI9PT",
        "colab_type": "code",
        "colab": {}
      },
      "source": [
        "a[a['pre_define_cat']== 'desktop']\n",
        "after_kmeans = pd.DataFrame(a[a['pre_define_cat']== 'desktop'])\n",
        "y_kmeans15.shape\n",
        "after_kmeans.shape\n",
        "after_kmeans['k_val']= y_kmeans15"
      ],
      "execution_count": 0,
      "outputs": []
    },
    {
      "cell_type": "code",
      "metadata": {
        "id": "6XOoj_iPC9Kh",
        "colab_type": "code",
        "outputId": "1de6bead-93f2-4b22-f3c7-3bd386ebe191",
        "colab": {
          "base_uri": "https://localhost:8080/",
          "height": 402
        }
      },
      "source": [
        "after_kmeans"
      ],
      "execution_count": 0,
      "outputs": [
        {
          "output_type": "execute_result",
          "data": {
            "text/html": [
              "<div>\n",
              "<style scoped>\n",
              "    .dataframe tbody tr th:only-of-type {\n",
              "        vertical-align: middle;\n",
              "    }\n",
              "\n",
              "    .dataframe tbody tr th {\n",
              "        vertical-align: top;\n",
              "    }\n",
              "\n",
              "    .dataframe thead th {\n",
              "        text-align: right;\n",
              "    }\n",
              "</style>\n",
              "<table border=\"1\" class=\"dataframe\">\n",
              "  <thead>\n",
              "    <tr style=\"text-align: right;\">\n",
              "      <th></th>\n",
              "      <th>product_id</th>\n",
              "      <th>product_name</th>\n",
              "      <th>pre_define_cat</th>\n",
              "      <th>k_val</th>\n",
              "    </tr>\n",
              "  </thead>\n",
              "  <tbody>\n",
              "    <tr>\n",
              "      <th>0</th>\n",
              "      <td>Model: M92P</td>\n",
              "      <td>Refurbished Lenovo THINKCENTRE M92P-SFF Deskto...</td>\n",
              "      <td>desktop</td>\n",
              "      <td>5</td>\n",
              "    </tr>\n",
              "    <tr>\n",
              "      <th>1</th>\n",
              "      <td>Model: 790</td>\n",
              "      <td>Refurbished Dell Optiplex 790-SFF WA1-0309 Des...</td>\n",
              "      <td>desktop</td>\n",
              "      <td>0</td>\n",
              "    </tr>\n",
              "    <tr>\n",
              "      <th>2</th>\n",
              "      <td>Model: 8200 Elite</td>\n",
              "      <td>HP 8200 Elite Desktop Computer with Windows 10...</td>\n",
              "      <td>desktop</td>\n",
              "      <td>3</td>\n",
              "    </tr>\n",
              "    <tr>\n",
              "      <th>3</th>\n",
              "      <td>Model: ME086LL/A</td>\n",
              "      <td>Apple iMac 21.5\" 2.7GHz Core i5 (ME086LL/A) Al...</td>\n",
              "      <td>desktop</td>\n",
              "      <td>12</td>\n",
              "    </tr>\n",
              "    <tr>\n",
              "      <th>4</th>\n",
              "      <td>Model: K_00180</td>\n",
              "      <td>Refurbished - Dell Optiplex Desktop Computer 3...</td>\n",
              "      <td>desktop</td>\n",
              "      <td>2</td>\n",
              "    </tr>\n",
              "    <tr>\n",
              "      <th>...</th>\n",
              "      <td>...</td>\n",
              "      <td>...</td>\n",
              "      <td>...</td>\n",
              "      <td>...</td>\n",
              "    </tr>\n",
              "    <tr>\n",
              "      <th>988</th>\n",
              "      <td>Model: 745/755/760/780/360/380</td>\n",
              "      <td>Dell Optiplex Desktop Computer Intel Core 2 Du...</td>\n",
              "      <td>desktop</td>\n",
              "      <td>3</td>\n",
              "    </tr>\n",
              "    <tr>\n",
              "      <th>989</th>\n",
              "      <td>Model: Optiplex 755</td>\n",
              "      <td>Dell Optiplex 755 Core 2 Duo 3.0Ghz 4Gb 500Gb ...</td>\n",
              "      <td>desktop</td>\n",
              "      <td>3</td>\n",
              "    </tr>\n",
              "    <tr>\n",
              "      <th>990</th>\n",
              "      <td>Model: 745, 755, 760</td>\n",
              "      <td>Dell Optiplex Desktop PC Tower Bundle Windows ...</td>\n",
              "      <td>desktop</td>\n",
              "      <td>3</td>\n",
              "    </tr>\n",
              "    <tr>\n",
              "      <th>991</th>\n",
              "      <td>Model: 8200</td>\n",
              "      <td>HP 8200 Elite Desktop Computer, Intel Core I5 ...</td>\n",
              "      <td>desktop</td>\n",
              "      <td>10</td>\n",
              "    </tr>\n",
              "    <tr>\n",
              "      <th>992</th>\n",
              "      <td>Model: Trident3449</td>\n",
              "      <td>MSI Trident 3 9SI-449US Desktop Computer - Cor...</td>\n",
              "      <td>desktop</td>\n",
              "      <td>13</td>\n",
              "    </tr>\n",
              "  </tbody>\n",
              "</table>\n",
              "<p>993 rows × 4 columns</p>\n",
              "</div>"
            ],
            "text/plain": [
              "                         product_id  ... k_val\n",
              "0                       Model: M92P  ...     5\n",
              "1                        Model: 790  ...     0\n",
              "2                 Model: 8200 Elite  ...     3\n",
              "3                  Model: ME086LL/A  ...    12\n",
              "4                    Model: K_00180  ...     2\n",
              "..                              ...  ...   ...\n",
              "988  Model: 745/755/760/780/360/380  ...     3\n",
              "989             Model: Optiplex 755  ...     3\n",
              "990            Model: 745, 755, 760  ...     3\n",
              "991                     Model: 8200  ...    10\n",
              "992              Model: Trident3449  ...    13\n",
              "\n",
              "[993 rows x 4 columns]"
            ]
          },
          "metadata": {
            "tags": []
          },
          "execution_count": 20
        }
      ]
    },
    {
      "cell_type": "markdown",
      "metadata": {
        "id": "ftx4UxLEOlpY",
        "colab_type": "text"
      },
      "source": [
        "**Sorting according to cluster value**"
      ]
    },
    {
      "cell_type": "code",
      "metadata": {
        "id": "k3Pvl3hkNpRx",
        "colab_type": "code",
        "outputId": "e856fe11-5ba8-4e66-debb-c75e9bd79aa1",
        "colab": {
          "base_uri": "https://localhost:8080/",
          "height": 34
        }
      },
      "source": [
        "after_kmeans.sort_values(by=['k_val'],inplace=True)\n",
        "set(y_kmeans15)"
      ],
      "execution_count": 0,
      "outputs": [
        {
          "output_type": "execute_result",
          "data": {
            "text/plain": [
              "{0, 1, 2, 3, 4, 5, 6, 7, 8, 9, 10, 11, 12, 13, 14}"
            ]
          },
          "metadata": {
            "tags": []
          },
          "execution_count": 21
        }
      ]
    },
    {
      "cell_type": "markdown",
      "metadata": {
        "id": "eUo2kYdERQHY",
        "colab_type": "text"
      },
      "source": [
        "**LDA**"
      ]
    },
    {
      "cell_type": "code",
      "metadata": {
        "id": "Au_x70L0xf65",
        "colab_type": "code",
        "colab": {}
      },
      "source": [
        "def ldafunc(data):\n",
        "  def sent_to_words(sentences):\n",
        "    for sentence in sentences:\n",
        "        yield(gensim.utils.simple_preprocess(str(sentence), deacc=True))  # deacc=True removes punctuations\n",
        "\n",
        "  data_words = list(sent_to_words(data))\n",
        "\n",
        "  #print(data_words[:1])\n",
        "  # Build the bigram and trigram models\n",
        "  bigram = gensim.models.Phrases(data_words, min_count=5, threshold=100) # higher threshold fewer phrases.\n",
        "  trigram = gensim.models.Phrases(bigram[data_words], threshold=100)  \n",
        "\n",
        "  # Faster way to get a sentence clubbed as a trigram/bigram\n",
        "  bigram_mod = gensim.models.phrases.Phraser(bigram)\n",
        "  trigram_mod = gensim.models.phrases.Phraser(trigram)\n",
        "\n",
        "  # See trigram example\n",
        "  #print(trigram_mod[bigram_mod[data_words[0]]])\n",
        "  # Define functions for stopwords, bigrams, trigrams and lemmatization\n",
        "  def remove_stopwords(texts):\n",
        "    return [[word for word in simple_preprocess(str(doc)) if word not in stop_words] for doc in texts]\n",
        "\n",
        "  def make_bigrams(texts):\n",
        "    return [bigram_mod[doc] for doc in texts]\n",
        "\n",
        "  def make_trigrams(texts):\n",
        "    return [trigram_mod[bigram_mod[doc]] for doc in texts]\n",
        "\n",
        "  def lemmatization(texts, allowed_postags=['NOUN', 'ADJ', 'VERB', 'ADV']):\n",
        "    \"\"\"https://spacy.io/api/annotation\"\"\"\n",
        "    texts_out = []\n",
        "    for sent in texts:\n",
        "        doc = nlp(\" \".join(sent)) \n",
        "        texts_out.append([token.lemma_ for token in doc if token.pos_ in allowed_postags])\n",
        "    return texts_out \n",
        "  #To run this code it is necessary to get the spacy moidel: \"!python - m spacy download en\", last depends on the used language \n",
        "\n",
        "  # Remove Stop Words\n",
        "  data_words_nostops = remove_stopwords(data_words)\n",
        "\n",
        "  # Form Bigrams\n",
        "  data_words_bigrams = make_bigrams(data_words_nostops)\n",
        "\n",
        "  # Initialize spacy 'es' model, keeping only tagger component (for efficiency)\n",
        "  #python3 -m spacy download es\n",
        "  nlp = spacy.load('en', disable=['parser', 'ner'])\n",
        "\n",
        "  # Do lemmatization keeping only noun, adj, vb, adv\n",
        "  data_lemmatized = lemmatization(data_words_bigrams, allowed_postags=['NOUN', 'ADJ', 'VERB', 'ADV'])\n",
        "\n",
        "  # Create Dictionary\n",
        "  id2word = corpora.Dictionary(data_lemmatized)\n",
        "\n",
        "  # Create Corpus\n",
        "  texts = data_lemmatized\n",
        "\n",
        "  # Term Document Frequency\n",
        "  corpus = [id2word.doc2bow(text) for text in texts]\n",
        "\n",
        "  # View\n",
        "  #print(corpus[:1])\n",
        "  # Human readable format of corpus (term-frequency)\n",
        "  [[(id2word[id], freq) for id, freq in cp] for cp in corpus[:2]]\n",
        "\n",
        "  # Build LDA model\n",
        "  lda_model = gensim.models.ldamodel.LdaModel(corpus=corpus,\n",
        "                                           id2word=id2word,\n",
        "                                           num_topics=2, \n",
        "                                           random_state=100,\n",
        "                                           update_every=1,\n",
        "                                           chunksize=100,\n",
        "                                           passes=14,\n",
        "                                           alpha='auto',\n",
        "                                           per_word_topics=True)\n",
        "\n",
        "  # Print the Keyword in the 2 topics\n",
        "  #pprint(lda_model.print_topics())\n",
        "  doc_lda = lda_model[corpus]\n",
        "\n",
        "  # Compute Perplexity\n",
        "  #print('\\nPerplexity: ', lda_model.log_perplexity(corpus))  # a measure of how good the model is. lower the better.\n",
        "\n",
        "  # Compute Coherence Score\n",
        "  coherence_model_lda = CoherenceModel(model=lda_model, texts=data_lemmatized, dictionary=id2word, coherence='c_v')\n",
        "  coherence_lda = coherence_model_lda.get_coherence()\n",
        "  #print('\\nCoherence Score: ', coherence_lda)\n",
        "\n",
        "  # Visualize the topics\n",
        "  pyLDAvis.enable_notebook()\n",
        "  vis = pyLDAvis.gensim.prepare(lda_model, corpus, id2word)\n",
        "  vis\n",
        "\n",
        "  return lda_model.print_topics()"
      ],
      "execution_count": 0,
      "outputs": []
    },
    {
      "cell_type": "code",
      "metadata": {
        "id": "2aLWxIUXyyuI",
        "colab_type": "code",
        "colab": {}
      },
      "source": [
        "cluster_results = {}\n",
        "for i in range(len(set(y_kmeans15))):\n",
        "  print(i)\n",
        "  x1 = after_kmeans['product_name'][after_kmeans['k_val']==i].tolist()\n",
        "  ans = ldafunc(x1)\n",
        "  num = 'cluster'+str(i)\n",
        "  cluster_results[num] = ans"
      ],
      "execution_count": 0,
      "outputs": []
    },
    {
      "cell_type": "code",
      "metadata": {
        "id": "Uk4565eJziZn",
        "colab_type": "code",
        "outputId": "31508738-d81d-412c-9b30-f4a605abe05a",
        "colab": {
          "base_uri": "https://localhost:8080/",
          "height": 994
        }
      },
      "source": [
        "cluster_results"
      ],
      "execution_count": 0,
      "outputs": [
        {
          "output_type": "execute_result",
          "data": {
            "text/plain": [
              "{'cluster0': [(0,\n",
              "   '0.114*\"memory\" + 0.110*\"core\" + 0.103*\"include\" + 0.098*\"monitor\" + 0.092*\"refurbish\" + 0.088*\"drive\" + 0.084*\"window\" + 0.073*\"pro\" + 0.066*\"desktop\" + 0.061*\"pc\"'),\n",
              "  (1,\n",
              "   '0.118*\"drive\" + 0.118*\"refurbish\" + 0.113*\"monitor\" + 0.110*\"window\" + 0.100*\"pro\" + 0.097*\"memory\" + 0.097*\"include\" + 0.047*\"desktop\" + 0.034*\"core\" + 0.034*\"hard\"')],\n",
              " 'cluster1': [(0,\n",
              "   '0.105*\"core\" + 0.100*\"refurbish\" + 0.089*\"bit\" + 0.060*\"dual\" + 0.056*\"small\" + 0.053*\"home\" + 0.051*\"pc\" + 0.047*\"form\" + 0.046*\"window\" + 0.043*\"factor\"'),\n",
              "  (1,\n",
              "   '0.185*\"pro\" + 0.147*\"win\" + 0.096*\"refurbish\" + 0.060*\"wty\" + 0.049*\"yr\" + 0.028*\"service\" + 0.024*\"home\" + 0.021*\"certify\" + 0.021*\"window\" + 0.017*\"monitor\"')],\n",
              " 'cluster10': [(0,\n",
              "   '0.210*\"include\" + 0.155*\"bluetooth\" + 0.126*\"keyboard\" + 0.111*\"mouse\" + 0.097*\"home\" + 0.077*\"wifi\" + 0.070*\"lcd\" + 0.060*\"professional\" + 0.032*\"monitor\" + 0.015*\"pro\"'),\n",
              "  (1,\n",
              "   '0.104*\"pc\" + 0.075*\"drive\" + 0.075*\"computer\" + 0.075*\"refurbish\" + 0.074*\"memory\" + 0.045*\"hard\" + 0.045*\"dvdrw\" + 0.045*\"core\" + 0.045*\"business\" + 0.045*\"bit\"')],\n",
              " 'cluster11': [(0,\n",
              "   '0.128*\"pc\" + 0.109*\"computer\" + 0.093*\"refurbish\" + 0.081*\"desktop\" + 0.078*\"hard\" + 0.069*\"lcd\" + 0.048*\"core\" + 0.034*\"drive\" + 0.032*\"duo\" + 0.032*\"system\"'),\n",
              "  (1,\n",
              "   '0.119*\"drive\" + 0.116*\"memory\" + 0.113*\"core\" + 0.112*\"window\" + 0.111*\"refurbish\" + 0.108*\"hard\" + 0.092*\"home\" + 0.091*\"monitor\" + 0.047*\"include\" + 0.015*\"lcd\"')],\n",
              " 'cluster12': [(0,\n",
              "   '0.188*\"refurbish\" + 0.074*\"computer\" + 0.066*\"apple\" + 0.066*\"core\" + 0.063*\"desktop\" + 0.047*\"imac\" + 0.041*\"display\" + 0.041*\"keyboard\" + 0.041*\"certify\" + 0.036*\"grade\"'),\n",
              "  (1,\n",
              "   '0.066*\"intel\" + 0.048*\"pc\" + 0.041*\"bundle\" + 0.041*\"airpod\" + 0.041*\"warranty\" + 0.041*\"superdrive\" + 0.040*\"gb\" + 0.040*\"high\" + 0.040*\"sierra\" + 0.040*\"refurb\"')],\n",
              " 'cluster13': [(0,\n",
              "   '0.129*\"home\" + 0.111*\"pc\" + 0.106*\"bit\" + 0.104*\"gaming\" + 0.080*\"memory\" + 0.056*\"set\" + 0.045*\"rtx\" + 0.039*\"wifi\" + 0.038*\"desktop\" + 0.038*\"window\"'),\n",
              "  (1,\n",
              "   '0.171*\"game\" + 0.079*\"window\" + 0.037*\"gb\" + 0.034*\"desktop\" + 0.029*\"ibuypower\" + 0.028*\"year\" + 0.028*\"warranty\" + 0.028*\"overpowered\" + 0.028*\"sf\" + 0.028*\"omen\"')],\n",
              " 'cluster14': [(0,\n",
              "   '0.113*\"refurbish\" + 0.069*\"core\" + 0.063*\"home\" + 0.062*\"pavilion\" + 0.058*\"window\" + 0.056*\"pro\" + 0.052*\"win\" + 0.047*\"memory\" + 0.037*\"bit\" + 0.036*\"drive\"'),\n",
              "  (1,\n",
              "   '0.083*\"computer\" + 0.056*\"small\" + 0.056*\"form\" + 0.055*\"bit\" + 0.046*\"factor\" + 0.045*\"gb\" + 0.045*\"home\" + 0.039*\"core\" + 0.039*\"win\" + 0.036*\"elite\"')],\n",
              " 'cluster2': [(0,\n",
              "   '0.153*\"usb\" + 0.131*\"keyboard\" + 0.122*\"pc\" + 0.119*\"refurbish\" + 0.109*\"mouse\" + 0.082*\"monitor\" + 0.081*\"window\" + 0.075*\"core\" + 0.063*\"dual\" + 0.048*\"home\"'),\n",
              "  (1,\n",
              "   '0.195*\"core\" + 0.167*\"pc\" + 0.152*\"monitor\" + 0.151*\"keyboard\" + 0.101*\"home\" + 0.077*\"usb\" + 0.056*\"dual\" + 0.037*\"refurbish\" + 0.030*\"window\" + 0.014*\"office\"')],\n",
              " 'cluster3': [(0,\n",
              "   '0.128*\"refurbish\" + 0.066*\"monitor\" + 0.066*\"mouse\" + 0.060*\"keyboard\" + 0.056*\"lcd\" + 0.052*\"dual\" + 0.050*\"pc\" + 0.049*\"hard\" + 0.047*\"core\" + 0.045*\"window\"'),\n",
              "  (1,\n",
              "   '0.149*\"computer\" + 0.122*\"pc\" + 0.111*\"refurbish\" + 0.089*\"tower\" + 0.073*\"core\" + 0.063*\"hard\" + 0.047*\"desktop\" + 0.043*\"premium\" + 0.043*\"system\" + 0.030*\"window\"')],\n",
              " 'cluster4': [(0,\n",
              "   '0.156*\"refurbish\" + 0.131*\"dent\" + 0.131*\"scratch\" + 0.079*\"desktop\" + 0.072*\"inch\" + 0.057*\"computer\" + 0.044*\"extend\" + 0.044*\"warranty\" + 0.044*\"bundle\" + 0.044*\"year\"'),\n",
              "  (1,\n",
              "   '0.396*\"refurbish\" + 0.176*\"silver\" + 0.152*\"certify\" + 0.055*\"desktop\" + 0.034*\"imac\" + 0.034*\"manufacturer\" + 0.026*\"computer\" + 0.014*\"scratch\" + 0.014*\"dent\" + 0.013*\"inch\"')],\n",
              " 'cluster5': [(0,\n",
              "   '0.140*\"refurbish\" + 0.133*\"monitor\" + 0.129*\"memory\" + 0.122*\"include\" + 0.111*\"drive\" + 0.089*\"window\" + 0.085*\"pro\" + 0.040*\"core\" + 0.040*\"hard\" + 0.038*\"home\"'),\n",
              "  (1,\n",
              "   '0.094*\"drive\" + 0.094*\"core\" + 0.090*\"window\" + 0.087*\"pro\" + 0.085*\"memory\" + 0.083*\"include\" + 0.082*\"refurbish\" + 0.075*\"monitor\" + 0.069*\"desktop\" + 0.068*\"pc\"')],\n",
              " 'cluster6': [(0,\n",
              "   '0.062*\"desktop\" + 0.040*\"case\" + 0.028*\"pc\" + 0.028*\"temper\" + 0.028*\"fan\" + 0.028*\"pre\" + 0.028*\"instal\" + 0.028*\"mid\" + 0.028*\"glass\" + 0.028*\"gaming\"'),\n",
              "  (1,\n",
              "   '0.084*\"year\" + 0.084*\"warranty\" + 0.065*\"graphic\" + 0.046*\"computer\" + 0.028*\"cay\" + 0.028*\"box\" + 0.028*\"single\" + 0.028*\"pack\" + 0.028*\"win\" + 0.028*\"xddr\"')],\n",
              " 'cluster7': [(0,\n",
              "   '0.207*\"refurbish\" + 0.090*\"computer\" + 0.086*\"warranty\" + 0.081*\"year\" + 0.046*\"window\" + 0.043*\"pro\" + 0.039*\"gb\" + 0.035*\"desktop\" + 0.032*\"bundle\" + 0.030*\"video\"'),\n",
              "  (1,\n",
              "   '0.153*\"core\" + 0.098*\"refurbish\" + 0.080*\"bit\" + 0.079*\"fast\" + 0.070*\"wifi\" + 0.048*\"lcd\" + 0.046*\"year\" + 0.044*\"warranty\" + 0.036*\"small\" + 0.027*\"pro\"')],\n",
              " 'cluster8': [(0,\n",
              "   '0.075*\"memory\" + 0.062*\"core\" + 0.062*\"pavilion\" + 0.062*\"pc\" + 0.059*\"home\" + 0.047*\"desktop\" + 0.047*\"refurbish\" + 0.047*\"gaming\" + 0.040*\"keyboard\" + 0.027*\"game\"'),\n",
              "  (1,\n",
              "   '0.109*\"window\" + 0.069*\"computer\" + 0.047*\"black\" + 0.045*\"display\" + 0.043*\"bit\" + 0.041*\"pro\" + 0.034*\"gb\" + 0.030*\"home\" + 0.026*\"game\" + 0.017*\"desktop\"')],\n",
              " 'cluster9': [(0, '1.000*\"win\"'), (1, '1.000*\"win\"')]}"
            ]
          },
          "metadata": {
            "tags": []
          },
          "execution_count": 24
        }
      ]
    },
    {
      "cell_type": "markdown",
      "metadata": {
        "id": "DzvGQiIADyrj",
        "colab_type": "text"
      },
      "source": [
        "**GMM Modeling**"
      ]
    },
    {
      "cell_type": "code",
      "metadata": {
        "id": "NszJJ0nFDqzJ",
        "colab_type": "code",
        "colab": {}
      },
      "source": [
        "import numpy as np\n",
        "from sklearn import metrics\n",
        "from sklearn.mixture import GaussianMixture\n",
        "from matplotlib import pyplot as plt\n",
        "import seaborn as sns\n",
        "sns.set()"
      ],
      "execution_count": 0,
      "outputs": []
    },
    {
      "cell_type": "markdown",
      "metadata": {
        "id": "9LUuxUZnK-vq",
        "colab_type": "text"
      },
      "source": [
        "**Best number of cluster according to BIC**"
      ]
    },
    {
      "cell_type": "code",
      "metadata": {
        "id": "EysKlSllK9jv",
        "colab_type": "code",
        "outputId": "c4f08b2b-9a2b-42a2-a5eb-036d29467303",
        "colab": {
          "base_uri": "https://localhost:8080/",
          "height": 302
        }
      },
      "source": [
        "n_components = np.arange(1, 50)\n",
        "models = [GaussianMixture(n, covariance_type='full', random_state=0).fit(X_train) for n in n_components]\n",
        "\n",
        "# BIC Scores \n",
        "plt.plot(n_components, [m.bic(X_train) for m in models], label='BIC')\n",
        "#plt.plot(n_components, [m.aic(X_train) for m in models], label='AIC')\n",
        "plt.legend(loc='best')\n",
        "plt.xlabel('n_components')"
      ],
      "execution_count": 0,
      "outputs": [
        {
          "output_type": "execute_result",
          "data": {
            "text/plain": [
              "Text(0.5, 0, 'n_components')"
            ]
          },
          "metadata": {
            "tags": []
          },
          "execution_count": 26
        },
        {
          "output_type": "display_data",
          "data": {
            "image/png": "[encoded data removed]",
            "text/plain": [
              "<Figure size 432x288 with 1 Axes>"
            ]
          },
          "metadata": {
            "tags": []
          }
        }
      ]
    },
    {
      "cell_type": "markdown",
      "metadata": {
        "id": "XTFwC6NuLQNN",
        "colab_type": "text"
      },
      "source": [
        "**BIC Best number of clusters = 5**"
      ]
    },
    {
      "cell_type": "markdown",
      "metadata": {
        "id": "HP-5IUuSLU5p",
        "colab_type": "text"
      },
      "source": [
        "**According to Silhouette Score**"
      ]
    },
    {
      "cell_type": "code",
      "metadata": {
        "id": "HlfY3L-fIPqq",
        "colab_type": "code",
        "colab": {}
      },
      "source": [
        "sil_score = []\n",
        "for i in range(2,50):\n",
        "  gmm = GaussianMixture(n_components=i)\n",
        "  gmm.fit(X_train)\n",
        "  labels = gmm.predict(X_train)\n",
        "  sil_score.append(metrics.silhouette_score(X_train,labels))\n",
        "\n",
        "sil_score_1 = pd.DataFrame(range(2,50,1))"
      ],
      "execution_count": 0,
      "outputs": []
    },
    {
      "cell_type": "code",
      "metadata": {
        "id": "Hh1h1Ju3D1pv",
        "colab_type": "code",
        "colab": {}
      },
      "source": [
        "sil_score_1['Silhouette Score']= sil_score"
      ],
      "execution_count": 0,
      "outputs": []
    },
    {
      "cell_type": "code",
      "metadata": {
        "id": "GZ2bRP_eES2f",
        "colab_type": "code",
        "colab": {}
      },
      "source": [
        "sil_score_1.columns = ['Clusters','Silhouette Score']"
      ],
      "execution_count": 0,
      "outputs": []
    },
    {
      "cell_type": "code",
      "metadata": {
        "id": "dxx3ECIpEnBk",
        "colab_type": "code",
        "outputId": "83edc972-dc20-4124-a7f8-e9469c6ea213",
        "colab": {
          "base_uri": "https://localhost:8080/",
          "height": 1000
        }
      },
      "source": [
        "sil_score_1.sort_values(by='Silhouette Score',ascending=False)"
      ],
      "execution_count": 0,
      "outputs": [
        {
          "output_type": "execute_result",
          "data": {
            "text/html": [
              "<div>\n",
              "<style scoped>\n",
              "    .dataframe tbody tr th:only-of-type {\n",
              "        vertical-align: middle;\n",
              "    }\n",
              "\n",
              "    .dataframe tbody tr th {\n",
              "        vertical-align: top;\n",
              "    }\n",
              "\n",
              "    .dataframe thead th {\n",
              "        text-align: right;\n",
              "    }\n",
              "</style>\n",
              "<table border=\"1\" class=\"dataframe\">\n",
              "  <thead>\n",
              "    <tr style=\"text-align: right;\">\n",
              "      <th></th>\n",
              "      <th>Clusters</th>\n",
              "      <th>Silhouette Score</th>\n",
              "    </tr>\n",
              "  </thead>\n",
              "  <tbody>\n",
              "    <tr>\n",
              "      <th>6</th>\n",
              "      <td>8</td>\n",
              "      <td>0.208617</td>\n",
              "    </tr>\n",
              "    <tr>\n",
              "      <th>39</th>\n",
              "      <td>41</td>\n",
              "      <td>0.206045</td>\n",
              "    </tr>\n",
              "    <tr>\n",
              "      <th>30</th>\n",
              "      <td>32</td>\n",
              "      <td>0.201018</td>\n",
              "    </tr>\n",
              "    <tr>\n",
              "      <th>26</th>\n",
              "      <td>28</td>\n",
              "      <td>0.199282</td>\n",
              "    </tr>\n",
              "    <tr>\n",
              "      <th>21</th>\n",
              "      <td>23</td>\n",
              "      <td>0.197693</td>\n",
              "    </tr>\n",
              "    <tr>\n",
              "      <th>25</th>\n",
              "      <td>27</td>\n",
              "      <td>0.195945</td>\n",
              "    </tr>\n",
              "    <tr>\n",
              "      <th>17</th>\n",
              "      <td>19</td>\n",
              "      <td>0.195707</td>\n",
              "    </tr>\n",
              "    <tr>\n",
              "      <th>22</th>\n",
              "      <td>24</td>\n",
              "      <td>0.195024</td>\n",
              "    </tr>\n",
              "    <tr>\n",
              "      <th>41</th>\n",
              "      <td>43</td>\n",
              "      <td>0.193814</td>\n",
              "    </tr>\n",
              "    <tr>\n",
              "      <th>44</th>\n",
              "      <td>46</td>\n",
              "      <td>0.193517</td>\n",
              "    </tr>\n",
              "    <tr>\n",
              "      <th>23</th>\n",
              "      <td>25</td>\n",
              "      <td>0.193435</td>\n",
              "    </tr>\n",
              "    <tr>\n",
              "      <th>47</th>\n",
              "      <td>49</td>\n",
              "      <td>0.193074</td>\n",
              "    </tr>\n",
              "    <tr>\n",
              "      <th>15</th>\n",
              "      <td>17</td>\n",
              "      <td>0.192830</td>\n",
              "    </tr>\n",
              "    <tr>\n",
              "      <th>43</th>\n",
              "      <td>45</td>\n",
              "      <td>0.192479</td>\n",
              "    </tr>\n",
              "    <tr>\n",
              "      <th>14</th>\n",
              "      <td>16</td>\n",
              "      <td>0.191721</td>\n",
              "    </tr>\n",
              "    <tr>\n",
              "      <th>24</th>\n",
              "      <td>26</td>\n",
              "      <td>0.190636</td>\n",
              "    </tr>\n",
              "    <tr>\n",
              "      <th>42</th>\n",
              "      <td>44</td>\n",
              "      <td>0.189157</td>\n",
              "    </tr>\n",
              "    <tr>\n",
              "      <th>37</th>\n",
              "      <td>39</td>\n",
              "      <td>0.188331</td>\n",
              "    </tr>\n",
              "    <tr>\n",
              "      <th>31</th>\n",
              "      <td>33</td>\n",
              "      <td>0.186631</td>\n",
              "    </tr>\n",
              "    <tr>\n",
              "      <th>13</th>\n",
              "      <td>15</td>\n",
              "      <td>0.186479</td>\n",
              "    </tr>\n",
              "    <tr>\n",
              "      <th>38</th>\n",
              "      <td>40</td>\n",
              "      <td>0.185868</td>\n",
              "    </tr>\n",
              "    <tr>\n",
              "      <th>19</th>\n",
              "      <td>21</td>\n",
              "      <td>0.185846</td>\n",
              "    </tr>\n",
              "    <tr>\n",
              "      <th>4</th>\n",
              "      <td>6</td>\n",
              "      <td>0.185466</td>\n",
              "    </tr>\n",
              "    <tr>\n",
              "      <th>33</th>\n",
              "      <td>35</td>\n",
              "      <td>0.182626</td>\n",
              "    </tr>\n",
              "    <tr>\n",
              "      <th>16</th>\n",
              "      <td>18</td>\n",
              "      <td>0.182621</td>\n",
              "    </tr>\n",
              "    <tr>\n",
              "      <th>12</th>\n",
              "      <td>14</td>\n",
              "      <td>0.182293</td>\n",
              "    </tr>\n",
              "    <tr>\n",
              "      <th>10</th>\n",
              "      <td>12</td>\n",
              "      <td>0.180033</td>\n",
              "    </tr>\n",
              "    <tr>\n",
              "      <th>45</th>\n",
              "      <td>47</td>\n",
              "      <td>0.178720</td>\n",
              "    </tr>\n",
              "    <tr>\n",
              "      <th>11</th>\n",
              "      <td>13</td>\n",
              "      <td>0.178056</td>\n",
              "    </tr>\n",
              "    <tr>\n",
              "      <th>32</th>\n",
              "      <td>34</td>\n",
              "      <td>0.177863</td>\n",
              "    </tr>\n",
              "    <tr>\n",
              "      <th>46</th>\n",
              "      <td>48</td>\n",
              "      <td>0.176471</td>\n",
              "    </tr>\n",
              "    <tr>\n",
              "      <th>36</th>\n",
              "      <td>38</td>\n",
              "      <td>0.175793</td>\n",
              "    </tr>\n",
              "    <tr>\n",
              "      <th>3</th>\n",
              "      <td>5</td>\n",
              "      <td>0.175556</td>\n",
              "    </tr>\n",
              "    <tr>\n",
              "      <th>40</th>\n",
              "      <td>42</td>\n",
              "      <td>0.174111</td>\n",
              "    </tr>\n",
              "    <tr>\n",
              "      <th>28</th>\n",
              "      <td>30</td>\n",
              "      <td>0.173902</td>\n",
              "    </tr>\n",
              "    <tr>\n",
              "      <th>9</th>\n",
              "      <td>11</td>\n",
              "      <td>0.171968</td>\n",
              "    </tr>\n",
              "    <tr>\n",
              "      <th>35</th>\n",
              "      <td>37</td>\n",
              "      <td>0.171597</td>\n",
              "    </tr>\n",
              "    <tr>\n",
              "      <th>27</th>\n",
              "      <td>29</td>\n",
              "      <td>0.170962</td>\n",
              "    </tr>\n",
              "    <tr>\n",
              "      <th>34</th>\n",
              "      <td>36</td>\n",
              "      <td>0.169736</td>\n",
              "    </tr>\n",
              "    <tr>\n",
              "      <th>8</th>\n",
              "      <td>10</td>\n",
              "      <td>0.169460</td>\n",
              "    </tr>\n",
              "    <tr>\n",
              "      <th>29</th>\n",
              "      <td>31</td>\n",
              "      <td>0.167525</td>\n",
              "    </tr>\n",
              "    <tr>\n",
              "      <th>20</th>\n",
              "      <td>22</td>\n",
              "      <td>0.167161</td>\n",
              "    </tr>\n",
              "    <tr>\n",
              "      <th>7</th>\n",
              "      <td>9</td>\n",
              "      <td>0.157488</td>\n",
              "    </tr>\n",
              "    <tr>\n",
              "      <th>18</th>\n",
              "      <td>20</td>\n",
              "      <td>0.156439</td>\n",
              "    </tr>\n",
              "    <tr>\n",
              "      <th>2</th>\n",
              "      <td>4</td>\n",
              "      <td>0.155602</td>\n",
              "    </tr>\n",
              "    <tr>\n",
              "      <th>5</th>\n",
              "      <td>7</td>\n",
              "      <td>0.138213</td>\n",
              "    </tr>\n",
              "    <tr>\n",
              "      <th>1</th>\n",
              "      <td>3</td>\n",
              "      <td>0.128644</td>\n",
              "    </tr>\n",
              "    <tr>\n",
              "      <th>0</th>\n",
              "      <td>2</td>\n",
              "      <td>0.109845</td>\n",
              "    </tr>\n",
              "  </tbody>\n",
              "</table>\n",
              "</div>"
            ],
            "text/plain": [
              "    Clusters  Silhouette Score\n",
              "6          8          0.208617\n",
              "39        41          0.206045\n",
              "30        32          0.201018\n",
              "26        28          0.199282\n",
              "21        23          0.197693\n",
              "25        27          0.195945\n",
              "17        19          0.195707\n",
              "22        24          0.195024\n",
              "41        43          0.193814\n",
              "44        46          0.193517\n",
              "23        25          0.193435\n",
              "47        49          0.193074\n",
              "15        17          0.192830\n",
              "43        45          0.192479\n",
              "14        16          0.191721\n",
              "24        26          0.190636\n",
              "42        44          0.189157\n",
              "37        39          0.188331\n",
              "31        33          0.186631\n",
              "13        15          0.186479\n",
              "38        40          0.185868\n",
              "19        21          0.185846\n",
              "4          6          0.185466\n",
              "33        35          0.182626\n",
              "16        18          0.182621\n",
              "12        14          0.182293\n",
              "10        12          0.180033\n",
              "45        47          0.178720\n",
              "11        13          0.178056\n",
              "32        34          0.177863\n",
              "46        48          0.176471\n",
              "36        38          0.175793\n",
              "3          5          0.175556\n",
              "40        42          0.174111\n",
              "28        30          0.173902\n",
              "9         11          0.171968\n",
              "35        37          0.171597\n",
              "27        29          0.170962\n",
              "34        36          0.169736\n",
              "8         10          0.169460\n",
              "29        31          0.167525\n",
              "20        22          0.167161\n",
              "7          9          0.157488\n",
              "18        20          0.156439\n",
              "2          4          0.155602\n",
              "5          7          0.138213\n",
              "1          3          0.128644\n",
              "0          2          0.109845"
            ]
          },
          "metadata": {
            "tags": []
          },
          "execution_count": 49
        }
      ]
    },
    {
      "cell_type": "markdown",
      "metadata": {
        "id": "o1YUzeBINAxc",
        "colab_type": "text"
      },
      "source": [
        "**Number of clusters here is 8**\n",
        "\n",
        "\n",
        "**Comparable to Silhouette Score**"
      ]
    },
    {
      "cell_type": "code",
      "metadata": {
        "id": "INDA_5l7M_vW",
        "colab_type": "code",
        "outputId": "fd2a02f2-9124-4ef1-fb1c-635a65e4f719",
        "colab": {
          "base_uri": "https://localhost:8080/",
          "height": 34
        }
      },
      "source": [
        "gmm = GaussianMixture(n_components=8)\n",
        "gmm.fit(X_train)\n",
        "labels = gmm.predict(X_train)\n",
        "set(labels)"
      ],
      "execution_count": 0,
      "outputs": [
        {
          "output_type": "execute_result",
          "data": {
            "text/plain": [
              "{0, 1, 2, 3, 4, 5, 6, 7}"
            ]
          },
          "metadata": {
            "tags": []
          },
          "execution_count": 54
        }
      ]
    },
    {
      "cell_type": "code",
      "metadata": {
        "id": "YkbElUg2wkG9",
        "colab_type": "code",
        "colab": {}
      },
      "source": [
        "data = pd.DataFrame(X_train).iloc[:,0:2]\n",
        "data['label']=labels\n",
        "data.columns= ['P1','P2','label']"
      ],
      "execution_count": 0,
      "outputs": []
    },
    {
      "cell_type": "code",
      "metadata": {
        "id": "_ikFNQD3YCfj",
        "colab_type": "code",
        "colab": {}
      },
      "source": [
        "after_gmm = pd.DataFrame(a[a['pre_define_cat']== 'desktop'])\n",
        "after_gmm['cluster'] = labels"
      ],
      "execution_count": 0,
      "outputs": []
    },
    {
      "cell_type": "code",
      "metadata": {
        "id": "M7Bgpax-SmcP",
        "colab_type": "code",
        "colab": {}
      },
      "source": [
        "cluster_gmm_results = {}\n",
        "for i in range(len(set(labels))):\n",
        "  print(i)\n",
        "  x1 = after_kmeans['product_name'][after_gmm['cluster']==i].tolist()\n",
        "  ans = ldafunc(x1)\n",
        "  num = 'cluster'+str(i)\n",
        "  cluster_gmm_results[num] = ans"
      ],
      "execution_count": 0,
      "outputs": []
    },
    {
      "cell_type": "code",
      "metadata": {
        "id": "3xdCbv-ppJtz",
        "colab_type": "code",
        "outputId": "1fdb6aed-1a5d-491e-b81a-36cea30eddb7",
        "colab": {
          "base_uri": "https://localhost:8080/",
          "height": 34
        }
      },
      "source": [
        "X_train.shape"
      ],
      "execution_count": 0,
      "outputs": [
        {
          "output_type": "execute_result",
          "data": {
            "text/plain": [
              "(993, 28)"
            ]
          },
          "metadata": {
            "tags": []
          },
          "execution_count": 58
        }
      ]
    },
    {
      "cell_type": "code",
      "metadata": {
        "id": "HCv6FxqRvLTu",
        "colab_type": "code",
        "outputId": "e9b06176-1c17-491e-f73a-b94229054eff",
        "colab": {
          "base_uri": "https://localhost:8080/",
          "height": 594
        }
      },
      "source": [
        "import matplotlib\n",
        "cmap={0:'teal',1:'tomato',2:'lightgreen',3:'yellow',4:'tan',5:'darkblue',6:'magenta',7:'coral',8:'teal',9:'darkpink'}\n",
        "\n",
        "fig, ax = plt.subplots()\n",
        "for l in range(len(data.loc[:,'label'].unique())):\n",
        "  pca_temp = data[data['label']==l]\n",
        "  ax.scatter(pca_temp['P1'], pca_temp['P2'], c=cmap[l], label= 'Cluster '+str(l))\n",
        "ax.legend()\n",
        "fig.set_size_inches(10,10)"
      ],
      "execution_count": 0,
      "outputs": [
        {
          "output_type": "display_data",
          "data": {
            "image/png": "[encoded data removed]",
            "text/plain": [
              "<Figure size 720x720 with 1 Axes>"
            ]
          },
          "metadata": {
            "tags": []
          }
        }
      ]
    },
    {
      "cell_type": "code",
      "metadata": {
        "id": "EK5uYYL4b2Au",
        "colab_type": "code",
        "outputId": "8ddb9f92-9096-4ee2-fff9-990e39ceb4ed",
        "colab": {
          "base_uri": "https://localhost:8080/",
          "height": 574
        }
      },
      "source": [
        "cluster_gmm_results"
      ],
      "execution_count": 0,
      "outputs": [
        {
          "output_type": "execute_result",
          "data": {
            "text/plain": [
              "{'cluster0': [(0,\n",
              "   '0.163*\"pc\" + 0.129*\"hard\" + 0.097*\"computer\" + 0.079*\"lcd\" + 0.071*\"drive\" + 0.068*\"desktop\" + 0.061*\"refurbish\" + 0.039*\"system\" + 0.030*\"tower\" + 0.024*\"window\"'),\n",
              "  (1,\n",
              "   '0.191*\"refurbish\" + 0.096*\"core\" + 0.087*\"computer\" + 0.061*\"dual\" + 0.051*\"keyboard\" + 0.051*\"monitor\" + 0.048*\"window\" + 0.047*\"mouse\" + 0.043*\"bundle\" + 0.035*\"year\"')],\n",
              " 'cluster1': [(0,\n",
              "   '0.183*\"refurbish\" + 0.161*\"usb\" + 0.149*\"dual\" + 0.127*\"window\" + 0.125*\"mouse\" + 0.074*\"monitor\" + 0.057*\"keyboard\" + 0.054*\"pc\" + 0.040*\"core\" + 0.008*\"display\"'),\n",
              "  (1,\n",
              "   '0.208*\"core\" + 0.206*\"pc\" + 0.195*\"keyboard\" + 0.157*\"monitor\" + 0.098*\"home\" + 0.057*\"office\" + 0.054*\"usb\" + 0.008*\"refurbish\" + 0.005*\"vga\" + 0.004*\"dual\"')],\n",
              " 'cluster2': [(0,\n",
              "   '0.137*\"refurbish\" + 0.067*\"core\" + 0.058*\"certify\" + 0.050*\"silver\" + 0.044*\"warranty\" + 0.039*\"pc\" + 0.037*\"year\" + 0.030*\"dent\" + 0.030*\"scratch\" + 0.024*\"wlan\"'),\n",
              "  (1,\n",
              "   '0.185*\"refurbish\" + 0.095*\"desktop\" + 0.086*\"computer\" + 0.060*\"apple\" + 0.048*\"imac\" + 0.037*\"display\" + 0.032*\"grade\" + 0.031*\"keyboard\" + 0.028*\"late\" + 0.028*\"include\"')],\n",
              " 'cluster3': [(0,\n",
              "   '0.232*\"memory\" + 0.221*\"window\" + 0.220*\"drive\" + 0.212*\"pavilion\" + 0.006*\"core\" + 0.005*\"silver\" + 0.004*\"monitor\" + 0.004*\"intel\" + 0.003*\"hard\" + 0.003*\"pc\"'),\n",
              "  (1,\n",
              "   '0.148*\"include\" + 0.108*\"bluetooth\" + 0.099*\"keyboard\" + 0.094*\"home\" + 0.085*\"mouse\" + 0.057*\"wifi\" + 0.049*\"lcd\" + 0.047*\"professional\" + 0.033*\"pc\" + 0.025*\"monitor\"')],\n",
              " 'cluster4': [(0,\n",
              "   '0.117*\"home\" + 0.093*\"gaming\" + 0.090*\"pc\" + 0.086*\"bit\" + 0.078*\"memory\" + 0.054*\"set\" + 0.041*\"desktop\" + 0.039*\"rtx\" + 0.034*\"wifi\" + 0.033*\"computer\"'),\n",
              "  (1,\n",
              "   '0.149*\"game\" + 0.063*\"window\" + 0.048*\"refurbish\" + 0.039*\"core\" + 0.032*\"warranty\" + 0.032*\"year\" + 0.025*\"black\" + 0.024*\"omen\" + 0.023*\"drive\" + 0.022*\"video\"')],\n",
              " 'cluster5': [(0,\n",
              "   '0.100*\"desktop\" + 0.095*\"refurbish\" + 0.086*\"pro\" + 0.081*\"memory\" + 0.079*\"monitor\" + 0.078*\"pc\" + 0.074*\"window\" + 0.072*\"drive\" + 0.069*\"core\" + 0.063*\"include\"'),\n",
              "  (1,\n",
              "   '0.123*\"memory\" + 0.118*\"drive\" + 0.115*\"core\" + 0.113*\"refurbish\" + 0.113*\"monitor\" + 0.106*\"window\" + 0.089*\"include\" + 0.077*\"hard\" + 0.077*\"home\" + 0.030*\"pro\"')],\n",
              " 'cluster6': [(0,\n",
              "   '0.158*\"refurbish\" + 0.078*\"core\" + 0.067*\"pro\" + 0.066*\"bit\" + 0.066*\"win\" + 0.064*\"home\" + 0.040*\"computer\" + 0.038*\"small\" + 0.036*\"form\" + 0.032*\"factor\"'),\n",
              "  (1,\n",
              "   '0.094*\"window\" + 0.061*\"pc\" + 0.057*\"core\" + 0.056*\"pavilion\" + 0.055*\"wifi\" + 0.050*\"dual\" + 0.037*\"bit\" + 0.028*\"pro\" + 0.019*\"year\" + 0.019*\"factory\"')],\n",
              " 'cluster7': [(0,\n",
              "   '0.128*\"monitor\" + 0.127*\"include\" + 0.125*\"refurbish\" + 0.123*\"memory\" + 0.097*\"drive\" + 0.090*\"pro\" + 0.076*\"window\" + 0.051*\"hard\" + 0.040*\"core\" + 0.024*\"home\"'),\n",
              "  (1,\n",
              "   '0.115*\"drive\" + 0.113*\"window\" + 0.102*\"refurbish\" + 0.097*\"memory\" + 0.096*\"pro\" + 0.092*\"include\" + 0.090*\"monitor\" + 0.083*\"core\" + 0.071*\"desktop\" + 0.070*\"pc\"')]}"
            ]
          },
          "metadata": {
            "tags": []
          },
          "execution_count": 61
        }
      ]
    }
  ]
}
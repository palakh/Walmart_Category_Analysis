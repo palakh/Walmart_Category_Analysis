{
  "nbformat": 4,
  "nbformat_minor": 0,
  "metadata": {
    "colab": {
      "name": "tf-idf+Clustering.ipynb",
      "provenance": [],
      "collapsed_sections": []
    },
    "kernelspec": {
      "name": "python3",
      "display_name": "Python 3"
    }
  },
  "cells": [
    {
      "cell_type": "code",
      "metadata": {
        "id": "kzRN_xstGt4j",
        "colab_type": "code",
        "outputId": "809e1c65-905d-4540-9407-b738f05c6730",
        "colab": {
          "base_uri": "https://localhost:8080/",
          "height": 121
        }
      },
      "source": [
        "from google.colab import drive\n",
        "drive.mount('/content/drive')"
      ],
      "execution_count": 0,
      "outputs": [
        {
          "output_type": "stream",
          "text": [
            "Go to this URL in a browser: https://accounts.google.com/o/oauth2/auth?client_id=947318989803-6bn6qk8qdgf4n4g3pfee6491hc0brc4i.apps.googleusercontent.com&redirect_uri=urn%3aietf%3awg%3aoauth%3a2.0%3aoob&response_type=code&scope=email%20https%3a%2f%2fwww.googleapis.com%2fauth%2fdocs.test%20https%3a%2f%2fwww.googleapis.com%2fauth%2fdrive%20https%3a%2f%2fwww.googleapis.com%2fauth%2fdrive.photos.readonly%20https%3a%2f%2fwww.googleapis.com%2fauth%2fpeopleapi.readonly\n",
            "\n",
            "Enter your authorization code:\n",
            "··········\n",
            "Mounted at /content/drive\n"
          ],
          "name": "stdout"
        }
      ]
    },
    {
      "cell_type": "code",
      "metadata": {
        "id": "vm-5fOMmxSpm",
        "colab_type": "code",
        "colab": {}
      },
      "source": [
        "import nltk\n",
        "nltk.download('all')\n",
        "!pip install pyLDAvis"
      ],
      "execution_count": 0,
      "outputs": []
    },
    {
      "cell_type": "code",
      "metadata": {
        "id": "8aU2pxXLVqk8",
        "colab_type": "code",
        "colab": {}
      },
      "source": [
        "import pandas as pd\n",
        "import numpy as np\n",
        "import string\n",
        "import re\n",
        "from pprint import pprint\n",
        "# NLTK \n",
        "from nltk.corpus import stopwords\n",
        "from nltk.stem.wordnet import WordNetLemmatizer\n",
        "from nltk.corpus import stopwords\n",
        "stop_words = stopwords.words('english') #this depends on each language\n",
        "# Gensim\n",
        "!pip install gensim\n",
        "import gensim\n",
        "import gensim.corpora as corpora\n",
        "from gensim.utils import simple_preprocess\n",
        "from gensim.models import CoherenceModel\n",
        "# spacy for lemmatization\n",
        "import spacy\n",
        "# Plotting tools\n",
        "import pyLDAvis\n",
        "import pyLDAvis.gensim  \n",
        "import matplotlib.pyplot as plt\n",
        "%matplotlib inline\n",
        "\n",
        "# Enable logging for gensim - optional\n",
        "import logging\n",
        "logging.basicConfig(format='%(asctime)s : %(levelname)s : %(message)s', level=logging.ERROR)\n",
        "\n",
        "import warnings\n",
        "warnings.filterwarnings(\"ignore\",category=DeprecationWarning)"
      ],
      "execution_count": 0,
      "outputs": []
    },
    {
      "cell_type": "code",
      "metadata": {
        "id": "lYwPlsNTWyoP",
        "colab_type": "code",
        "colab": {}
      },
      "source": [
        "import numpy as np\n",
        "import pandas as pd\n",
        "df = pd.read_csv('/content/all_data.csv')\n",
        "a = df[['product_id','product_name','pre_define_cat']]"
      ],
      "execution_count": 0,
      "outputs": []
    },
    {
      "cell_type": "code",
      "metadata": {
        "id": "3DcvIGZ6DH3I",
        "colab_type": "code",
        "outputId": "1072ae83-31e7-4f87-bfa2-aae6d6480797",
        "colab": {
          "base_uri": "https://localhost:8080/",
          "height": 402
        }
      },
      "source": [
        "a"
      ],
      "execution_count": 0,
      "outputs": [
        {
          "output_type": "execute_result",
          "data": {
            "text/html": [
              "<div>\n",
              "<style scoped>\n",
              "    .dataframe tbody tr th:only-of-type {\n",
              "        vertical-align: middle;\n",
              "    }\n",
              "\n",
              "    .dataframe tbody tr th {\n",
              "        vertical-align: top;\n",
              "    }\n",
              "\n",
              "    .dataframe thead th {\n",
              "        text-align: right;\n",
              "    }\n",
              "</style>\n",
              "<table border=\"1\" class=\"dataframe\">\n",
              "  <thead>\n",
              "    <tr style=\"text-align: right;\">\n",
              "      <th></th>\n",
              "      <th>product_id</th>\n",
              "      <th>product_name</th>\n",
              "      <th>pre_define_cat</th>\n",
              "    </tr>\n",
              "  </thead>\n",
              "  <tbody>\n",
              "    <tr>\n",
              "      <th>0</th>\n",
              "      <td>Model: M92P</td>\n",
              "      <td>Refurbished Lenovo THINKCENTRE M92P-SFF Deskto...</td>\n",
              "      <td>desktop</td>\n",
              "    </tr>\n",
              "    <tr>\n",
              "      <th>1</th>\n",
              "      <td>Model: 790</td>\n",
              "      <td>Refurbished Dell Optiplex 790-SFF WA1-0309 Des...</td>\n",
              "      <td>desktop</td>\n",
              "    </tr>\n",
              "    <tr>\n",
              "      <th>2</th>\n",
              "      <td>Model: 8200 Elite</td>\n",
              "      <td>HP 8200 Elite Desktop Computer with Windows 10...</td>\n",
              "      <td>desktop</td>\n",
              "    </tr>\n",
              "    <tr>\n",
              "      <th>3</th>\n",
              "      <td>Model: ME086LL/A</td>\n",
              "      <td>Apple iMac 21.5\" 2.7GHz Core i5 (ME086LL/A) Al...</td>\n",
              "      <td>desktop</td>\n",
              "    </tr>\n",
              "    <tr>\n",
              "      <th>4</th>\n",
              "      <td>Model: K_00180</td>\n",
              "      <td>Refurbished - Dell Optiplex Desktop Computer 3...</td>\n",
              "      <td>desktop</td>\n",
              "    </tr>\n",
              "    <tr>\n",
              "      <th>...</th>\n",
              "      <td>...</td>\n",
              "      <td>...</td>\n",
              "      <td>...</td>\n",
              "    </tr>\n",
              "    <tr>\n",
              "      <th>13886</th>\n",
              "      <td>NaN</td>\n",
              "      <td>VIZIO SmartCast E-Series E55u-D2 55\" 4K Ultra ...</td>\n",
              "      <td>tv</td>\n",
              "    </tr>\n",
              "    <tr>\n",
              "      <th>13887</th>\n",
              "      <td>NaN</td>\n",
              "      <td>Samsung UN75RU8000 75\" RU8000 LED Smart 4K UHD...</td>\n",
              "      <td>tv</td>\n",
              "    </tr>\n",
              "    <tr>\n",
              "      <th>13888</th>\n",
              "      <td>Walmart #  572101210</td>\n",
              "      <td>DummyStressTest1294Automation generated BV title</td>\n",
              "      <td>tv</td>\n",
              "    </tr>\n",
              "    <tr>\n",
              "      <th>13889</th>\n",
              "      <td>NaN</td>\n",
              "      <td>LED TV USB Backlight Kit Computer RGB LED Ligh...</td>\n",
              "      <td>tv</td>\n",
              "    </tr>\n",
              "    <tr>\n",
              "      <th>13890</th>\n",
              "      <td>NaN</td>\n",
              "      <td>32IN SMART 720P HDTV</td>\n",
              "      <td>tv</td>\n",
              "    </tr>\n",
              "  </tbody>\n",
              "</table>\n",
              "<p>13891 rows × 3 columns</p>\n",
              "</div>"
            ],
            "text/plain": [
              "                 product_id  ... pre_define_cat\n",
              "0               Model: M92P  ...        desktop\n",
              "1                Model: 790  ...        desktop\n",
              "2         Model: 8200 Elite  ...        desktop\n",
              "3          Model: ME086LL/A  ...        desktop\n",
              "4            Model: K_00180  ...        desktop\n",
              "...                     ...  ...            ...\n",
              "13886                   NaN  ...             tv\n",
              "13887                   NaN  ...             tv\n",
              "13888  Walmart #  572101210  ...             tv\n",
              "13889                   NaN  ...             tv\n",
              "13890                   NaN  ...             tv\n",
              "\n",
              "[13891 rows x 3 columns]"
            ]
          },
          "metadata": {
            "tags": []
          },
          "execution_count": 14
        }
      ]
    },
    {
      "cell_type": "markdown",
      "metadata": {
        "id": "ZB4hHpR2a987",
        "colab_type": "text"
      },
      "source": [
        "**tf-idf Embeddings**"
      ]
    },
    {
      "cell_type": "code",
      "metadata": {
        "id": "nFFC8Fb4b8tI",
        "colab_type": "code",
        "outputId": "614821e2-9b65-42ce-b282-4956b0206d4a",
        "colab": {
          "base_uri": "https://localhost:8080/",
          "height": 101
        }
      },
      "source": [
        "#count vectorizer \n",
        "a.dropna(subset=['product_name'],inplace=True)\n",
        "from sklearn.feature_extraction.text import TfidfVectorizer\n",
        "vectorizer = TfidfVectorizer()\n",
        "tfidf_final = vectorizer.fit_transform(a['product_name'])"
      ],
      "execution_count": 0,
      "outputs": [
        {
          "output_type": "stream",
          "text": [
            "/usr/local/lib/python3.6/dist-packages/ipykernel_launcher.py:1: SettingWithCopyWarning: \n",
            "A value is trying to be set on a copy of a slice from a DataFrame\n",
            "\n",
            "See the caveats in the documentation: https://pandas.pydata.org/pandas-docs/stable/user_guide/indexing.html#returning-a-view-versus-a-copy\n",
            "  \"\"\"Entry point for launching an IPython kernel.\n"
          ],
          "name": "stderr"
        }
      ]
    },
    {
      "cell_type": "code",
      "metadata": {
        "id": "qi9wu58eZJAH",
        "colab_type": "code",
        "colab": {}
      },
      "source": [
        "corp = pd.DataFrame()\n",
        "corp['collected'] = list(tfidf_final.toarray())\n",
        "fin_l=[]\n",
        "for i in corp['collected']:\n",
        "  fin_l.append(list(i))\n",
        "\n",
        "df1 = pd.DataFrame(fin_l)\n"
      ],
      "execution_count": 0,
      "outputs": []
    },
    {
      "cell_type": "code",
      "metadata": {
        "id": "Vc_N_7t8bCqa",
        "colab_type": "code",
        "outputId": "4a17d767-711f-4a85-a50b-86007673a2eb",
        "colab": {
          "base_uri": "https://localhost:8080/",
          "height": 34
        }
      },
      "source": [
        "df1.shape\n",
        "#df1.to_csv('tf-idfValues')"
      ],
      "execution_count": 0,
      "outputs": [
        {
          "output_type": "execute_result",
          "data": {
            "text/plain": [
              "(12896, 14463)"
            ]
          },
          "metadata": {
            "tags": []
          },
          "execution_count": 17
        }
      ]
    },
    {
      "cell_type": "code",
      "metadata": {
        "id": "X5ZESYCObCf7",
        "colab_type": "code",
        "colab": {}
      },
      "source": [
        "b = vectorizer.vocabulary_\n",
        "len(b.keys())\n",
        "df1.columns = b.keys()\n",
        "df1['product_name'] = a['product_name']"
      ],
      "execution_count": 0,
      "outputs": []
    },
    {
      "cell_type": "code",
      "metadata": {
        "id": "ozRGJY9nbJNp",
        "colab_type": "code",
        "colab": {}
      },
      "source": [
        "df1"
      ],
      "execution_count": 0,
      "outputs": []
    },
    {
      "cell_type": "code",
      "metadata": {
        "id": "j2RnAcm4bJDn",
        "colab_type": "code",
        "colab": {}
      },
      "source": [
        "df1= df1.loc[:, df1.columns != 'Unnamed: 0']\n",
        "df1"
      ],
      "execution_count": 0,
      "outputs": []
    },
    {
      "cell_type": "code",
      "metadata": {
        "id": "dPZON9J8bOBz",
        "colab_type": "code",
        "colab": {}
      },
      "source": [
        "#df.dropna(subset=['product_name'],inplace=True)\n",
        "product_name = df1['product_name']\n",
        "product_name_ls = product_name.tolist()"
      ],
      "execution_count": 0,
      "outputs": []
    },
    {
      "cell_type": "code",
      "metadata": {
        "id": "DFjaRsW0vbd5",
        "colab_type": "code",
        "colab": {}
      },
      "source": [
        "df1['type']= a['pre_define_cat']\n",
        "df_desktop = df1[df1['type']== 'desktop']\n",
        "df_desktop_1 = df_desktop.loc[:,df_desktop.columns != 'type']"
      ],
      "execution_count": 0,
      "outputs": []
    },
    {
      "cell_type": "code",
      "metadata": {
        "id": "van4th30MdVV",
        "colab_type": "code",
        "outputId": "21409bf0-f96c-4686-edd7-991145952e03",
        "colab": {
          "base_uri": "https://localhost:8080/",
          "height": 34
        }
      },
      "source": [
        "df_desktop_1.shape"
      ],
      "execution_count": 0,
      "outputs": [
        {
          "output_type": "execute_result",
          "data": {
            "text/plain": [
              "(993, 14463)"
            ]
          },
          "metadata": {
            "tags": []
          },
          "execution_count": 23
        }
      ]
    },
    {
      "cell_type": "code",
      "metadata": {
        "id": "45LxvORQgqKR",
        "colab_type": "code",
        "colab": {}
      },
      "source": [
        "df_desktop"
      ],
      "execution_count": 0,
      "outputs": []
    },
    {
      "cell_type": "markdown",
      "metadata": {
        "id": "DTx9cOTd6oOU",
        "colab_type": "text"
      },
      "source": [
        "**PCA**"
      ]
    },
    {
      "cell_type": "code",
      "metadata": {
        "id": "sCDlCMOc6qJo",
        "colab_type": "code",
        "colab": {}
      },
      "source": [
        "from sklearn.model_selection import train_test_split \n",
        "from sklearn.preprocessing import StandardScaler\n",
        "from sklearn.decomposition import PCA  \n",
        "sc = StandardScaler() \n",
        "\n",
        "def PCArun(df,testdata,x):\n",
        "  # Creating train and test set\n",
        "  #X_train, X_test, y_train, y_test = train_test_split(df, testdata, test_size = 0.0, random_state = 0) \n",
        "  X_train = df\n",
        "  #Fitting model  \n",
        "  X_train = sc.fit_transform(X_train) \n",
        "  #X_test = sc.transform(X_test) \n",
        "\n",
        "  # Applying PCA function on training for 80% variance \n",
        "  pca = PCA(x) \n",
        "  \n",
        "  X_train = pca.fit_transform(X_train) \n",
        "  #X_test = pca.transform(X_test)  \n",
        "  explained_variance = pca.explained_variance_ratio_ \n",
        "  #return X_train, X_test,y_train,y_test,explained_variance\n",
        "  return X_train,explained_variance\n"
      ],
      "execution_count": 0,
      "outputs": []
    },
    {
      "cell_type": "code",
      "metadata": {
        "id": "vTdmEVi765uz",
        "colab_type": "code",
        "outputId": "77071df4-c17a-4a1a-8cd0-e02988f39dbc",
        "colab": {
          "base_uri": "https://localhost:8080/",
          "height": 34
        }
      },
      "source": [
        "X_train, explained_variance = PCArun(df_desktop_1.loc[:,df_desktop_1.columns != 'product_name'],df_desktop['type'],0.7)\n",
        "X_train.shape"
      ],
      "execution_count": 0,
      "outputs": [
        {
          "output_type": "execute_result",
          "data": {
            "text/plain": [
              "(993, 184)"
            ]
          },
          "metadata": {
            "tags": []
          },
          "execution_count": 55
        }
      ]
    },
    {
      "cell_type": "code",
      "metadata": {
        "id": "ap8DaG5QhMCK",
        "colab_type": "code",
        "colab": {}
      },
      "source": [
        "X_train = pd.DataFrame(X_train)\n",
        "#X_train['product_name']= df_desktop_1['product_name']"
      ],
      "execution_count": 0,
      "outputs": []
    },
    {
      "cell_type": "code",
      "metadata": {
        "id": "SBky3ffeqrNU",
        "colab_type": "code",
        "outputId": "d2923786-3c94-4473-8045-1546463ab13f",
        "colab": {
          "base_uri": "https://localhost:8080/",
          "height": 422
        }
      },
      "source": [
        "X_train"
      ],
      "execution_count": 0,
      "outputs": [
        {
          "output_type": "execute_result",
          "data": {
            "text/html": [
              "<div>\n",
              "<style scoped>\n",
              "    .dataframe tbody tr th:only-of-type {\n",
              "        vertical-align: middle;\n",
              "    }\n",
              "\n",
              "    .dataframe tbody tr th {\n",
              "        vertical-align: top;\n",
              "    }\n",
              "\n",
              "    .dataframe thead th {\n",
              "        text-align: right;\n",
              "    }\n",
              "</style>\n",
              "<table border=\"1\" class=\"dataframe\">\n",
              "  <thead>\n",
              "    <tr style=\"text-align: right;\">\n",
              "      <th></th>\n",
              "      <th>0</th>\n",
              "      <th>1</th>\n",
              "      <th>2</th>\n",
              "      <th>3</th>\n",
              "      <th>4</th>\n",
              "      <th>5</th>\n",
              "      <th>6</th>\n",
              "      <th>7</th>\n",
              "      <th>8</th>\n",
              "      <th>9</th>\n",
              "      <th>10</th>\n",
              "      <th>11</th>\n",
              "      <th>12</th>\n",
              "      <th>13</th>\n",
              "      <th>14</th>\n",
              "      <th>15</th>\n",
              "      <th>16</th>\n",
              "      <th>17</th>\n",
              "      <th>18</th>\n",
              "      <th>19</th>\n",
              "      <th>20</th>\n",
              "      <th>21</th>\n",
              "      <th>22</th>\n",
              "      <th>23</th>\n",
              "      <th>24</th>\n",
              "      <th>25</th>\n",
              "      <th>26</th>\n",
              "      <th>27</th>\n",
              "      <th>28</th>\n",
              "      <th>29</th>\n",
              "      <th>30</th>\n",
              "      <th>31</th>\n",
              "      <th>32</th>\n",
              "      <th>33</th>\n",
              "      <th>34</th>\n",
              "      <th>35</th>\n",
              "      <th>36</th>\n",
              "      <th>37</th>\n",
              "      <th>38</th>\n",
              "      <th>39</th>\n",
              "      <th>...</th>\n",
              "      <th>144</th>\n",
              "      <th>145</th>\n",
              "      <th>146</th>\n",
              "      <th>147</th>\n",
              "      <th>148</th>\n",
              "      <th>149</th>\n",
              "      <th>150</th>\n",
              "      <th>151</th>\n",
              "      <th>152</th>\n",
              "      <th>153</th>\n",
              "      <th>154</th>\n",
              "      <th>155</th>\n",
              "      <th>156</th>\n",
              "      <th>157</th>\n",
              "      <th>158</th>\n",
              "      <th>159</th>\n",
              "      <th>160</th>\n",
              "      <th>161</th>\n",
              "      <th>162</th>\n",
              "      <th>163</th>\n",
              "      <th>164</th>\n",
              "      <th>165</th>\n",
              "      <th>166</th>\n",
              "      <th>167</th>\n",
              "      <th>168</th>\n",
              "      <th>169</th>\n",
              "      <th>170</th>\n",
              "      <th>171</th>\n",
              "      <th>172</th>\n",
              "      <th>173</th>\n",
              "      <th>174</th>\n",
              "      <th>175</th>\n",
              "      <th>176</th>\n",
              "      <th>177</th>\n",
              "      <th>178</th>\n",
              "      <th>179</th>\n",
              "      <th>180</th>\n",
              "      <th>181</th>\n",
              "      <th>182</th>\n",
              "      <th>183</th>\n",
              "    </tr>\n",
              "  </thead>\n",
              "  <tbody>\n",
              "    <tr>\n",
              "      <th>0</th>\n",
              "      <td>-3.824716</td>\n",
              "      <td>0.829441</td>\n",
              "      <td>0.014317</td>\n",
              "      <td>-0.634244</td>\n",
              "      <td>0.058156</td>\n",
              "      <td>1.369736</td>\n",
              "      <td>3.017929</td>\n",
              "      <td>0.104815</td>\n",
              "      <td>0.292967</td>\n",
              "      <td>-1.094393</td>\n",
              "      <td>0.109957</td>\n",
              "      <td>0.796393</td>\n",
              "      <td>0.010471</td>\n",
              "      <td>0.075416</td>\n",
              "      <td>0.173319</td>\n",
              "      <td>0.202302</td>\n",
              "      <td>0.142424</td>\n",
              "      <td>0.228536</td>\n",
              "      <td>0.138578</td>\n",
              "      <td>-0.278154</td>\n",
              "      <td>0.381627</td>\n",
              "      <td>0.884051</td>\n",
              "      <td>0.387863</td>\n",
              "      <td>-0.109868</td>\n",
              "      <td>0.095847</td>\n",
              "      <td>0.005732</td>\n",
              "      <td>0.280510</td>\n",
              "      <td>0.052115</td>\n",
              "      <td>0.207533</td>\n",
              "      <td>-0.689664</td>\n",
              "      <td>-0.121108</td>\n",
              "      <td>0.221449</td>\n",
              "      <td>-0.285327</td>\n",
              "      <td>-0.446069</td>\n",
              "      <td>-0.049406</td>\n",
              "      <td>0.103325</td>\n",
              "      <td>0.025365</td>\n",
              "      <td>-0.723286</td>\n",
              "      <td>0.170444</td>\n",
              "      <td>0.251863</td>\n",
              "      <td>...</td>\n",
              "      <td>0.582820</td>\n",
              "      <td>-1.226104</td>\n",
              "      <td>-1.810270</td>\n",
              "      <td>-0.436500</td>\n",
              "      <td>-1.038547</td>\n",
              "      <td>-0.906230</td>\n",
              "      <td>-1.257807</td>\n",
              "      <td>-0.872283</td>\n",
              "      <td>-0.969269</td>\n",
              "      <td>-2.678407</td>\n",
              "      <td>-1.630759</td>\n",
              "      <td>1.547502</td>\n",
              "      <td>-0.544668</td>\n",
              "      <td>1.254768</td>\n",
              "      <td>-0.287950</td>\n",
              "      <td>0.171805</td>\n",
              "      <td>-1.517195</td>\n",
              "      <td>-0.216674</td>\n",
              "      <td>-0.589037</td>\n",
              "      <td>0.375483</td>\n",
              "      <td>-0.387837</td>\n",
              "      <td>0.115370</td>\n",
              "      <td>0.490421</td>\n",
              "      <td>-0.653073</td>\n",
              "      <td>0.145084</td>\n",
              "      <td>-0.970827</td>\n",
              "      <td>0.526578</td>\n",
              "      <td>0.449443</td>\n",
              "      <td>-0.572763</td>\n",
              "      <td>0.866260</td>\n",
              "      <td>0.038119</td>\n",
              "      <td>0.719933</td>\n",
              "      <td>1.039973</td>\n",
              "      <td>-1.238742</td>\n",
              "      <td>0.570357</td>\n",
              "      <td>0.003402</td>\n",
              "      <td>-0.126933</td>\n",
              "      <td>-1.501078</td>\n",
              "      <td>-0.951082</td>\n",
              "      <td>-0.207751</td>\n",
              "    </tr>\n",
              "    <tr>\n",
              "      <th>1</th>\n",
              "      <td>-4.198198</td>\n",
              "      <td>0.918301</td>\n",
              "      <td>-0.019237</td>\n",
              "      <td>-0.850307</td>\n",
              "      <td>-0.017419</td>\n",
              "      <td>1.728393</td>\n",
              "      <td>3.267007</td>\n",
              "      <td>0.151428</td>\n",
              "      <td>0.212542</td>\n",
              "      <td>-1.210797</td>\n",
              "      <td>-0.143166</td>\n",
              "      <td>0.994389</td>\n",
              "      <td>0.335297</td>\n",
              "      <td>0.057848</td>\n",
              "      <td>0.411615</td>\n",
              "      <td>0.200280</td>\n",
              "      <td>0.131319</td>\n",
              "      <td>0.052286</td>\n",
              "      <td>0.393028</td>\n",
              "      <td>-0.481429</td>\n",
              "      <td>0.267889</td>\n",
              "      <td>0.049261</td>\n",
              "      <td>0.248662</td>\n",
              "      <td>-0.094076</td>\n",
              "      <td>-0.155533</td>\n",
              "      <td>0.288558</td>\n",
              "      <td>-0.338776</td>\n",
              "      <td>0.239198</td>\n",
              "      <td>0.560279</td>\n",
              "      <td>-0.029410</td>\n",
              "      <td>-0.454439</td>\n",
              "      <td>0.023187</td>\n",
              "      <td>-0.159089</td>\n",
              "      <td>-0.275215</td>\n",
              "      <td>-0.252223</td>\n",
              "      <td>-0.033832</td>\n",
              "      <td>0.072514</td>\n",
              "      <td>-0.318881</td>\n",
              "      <td>-0.111903</td>\n",
              "      <td>0.232860</td>\n",
              "      <td>...</td>\n",
              "      <td>0.963944</td>\n",
              "      <td>0.636700</td>\n",
              "      <td>-1.022817</td>\n",
              "      <td>-0.029623</td>\n",
              "      <td>-0.401291</td>\n",
              "      <td>1.109077</td>\n",
              "      <td>0.717038</td>\n",
              "      <td>-0.186111</td>\n",
              "      <td>-0.213441</td>\n",
              "      <td>0.413392</td>\n",
              "      <td>-0.837071</td>\n",
              "      <td>-0.679431</td>\n",
              "      <td>-0.239436</td>\n",
              "      <td>-0.422090</td>\n",
              "      <td>0.973325</td>\n",
              "      <td>-0.286437</td>\n",
              "      <td>-0.219065</td>\n",
              "      <td>0.179731</td>\n",
              "      <td>-0.299844</td>\n",
              "      <td>-1.309056</td>\n",
              "      <td>-0.844683</td>\n",
              "      <td>0.348239</td>\n",
              "      <td>-0.151020</td>\n",
              "      <td>-1.282019</td>\n",
              "      <td>-0.945522</td>\n",
              "      <td>-0.902422</td>\n",
              "      <td>-0.036766</td>\n",
              "      <td>-0.086976</td>\n",
              "      <td>-0.377086</td>\n",
              "      <td>-0.580153</td>\n",
              "      <td>-0.736114</td>\n",
              "      <td>-0.747902</td>\n",
              "      <td>0.180105</td>\n",
              "      <td>-1.020328</td>\n",
              "      <td>-1.344773</td>\n",
              "      <td>0.019623</td>\n",
              "      <td>-0.078254</td>\n",
              "      <td>0.711664</td>\n",
              "      <td>0.525808</td>\n",
              "      <td>1.102525</td>\n",
              "    </tr>\n",
              "    <tr>\n",
              "      <th>2</th>\n",
              "      <td>-2.184585</td>\n",
              "      <td>0.341355</td>\n",
              "      <td>-0.041594</td>\n",
              "      <td>0.241443</td>\n",
              "      <td>-0.013354</td>\n",
              "      <td>-0.587774</td>\n",
              "      <td>-1.773044</td>\n",
              "      <td>-0.157322</td>\n",
              "      <td>-0.248651</td>\n",
              "      <td>0.768677</td>\n",
              "      <td>0.007291</td>\n",
              "      <td>0.130192</td>\n",
              "      <td>0.192823</td>\n",
              "      <td>-0.137433</td>\n",
              "      <td>0.026784</td>\n",
              "      <td>-0.096379</td>\n",
              "      <td>-0.243281</td>\n",
              "      <td>0.115578</td>\n",
              "      <td>-0.744526</td>\n",
              "      <td>0.737177</td>\n",
              "      <td>0.101403</td>\n",
              "      <td>1.437011</td>\n",
              "      <td>0.023432</td>\n",
              "      <td>-0.326320</td>\n",
              "      <td>-0.003768</td>\n",
              "      <td>-0.683204</td>\n",
              "      <td>1.420820</td>\n",
              "      <td>-0.729103</td>\n",
              "      <td>-1.726959</td>\n",
              "      <td>-0.400997</td>\n",
              "      <td>0.513920</td>\n",
              "      <td>-0.965309</td>\n",
              "      <td>0.920563</td>\n",
              "      <td>0.094147</td>\n",
              "      <td>0.998172</td>\n",
              "      <td>0.164845</td>\n",
              "      <td>-0.107536</td>\n",
              "      <td>0.445927</td>\n",
              "      <td>0.388481</td>\n",
              "      <td>-0.172884</td>\n",
              "      <td>...</td>\n",
              "      <td>-0.061313</td>\n",
              "      <td>-0.011851</td>\n",
              "      <td>0.650680</td>\n",
              "      <td>0.111501</td>\n",
              "      <td>0.225843</td>\n",
              "      <td>-0.152830</td>\n",
              "      <td>0.318267</td>\n",
              "      <td>-0.112916</td>\n",
              "      <td>0.099977</td>\n",
              "      <td>-0.653613</td>\n",
              "      <td>-0.662896</td>\n",
              "      <td>-0.594568</td>\n",
              "      <td>-0.253872</td>\n",
              "      <td>-1.349140</td>\n",
              "      <td>0.244271</td>\n",
              "      <td>-0.306564</td>\n",
              "      <td>0.966897</td>\n",
              "      <td>0.059738</td>\n",
              "      <td>-0.007397</td>\n",
              "      <td>-0.353403</td>\n",
              "      <td>-0.514290</td>\n",
              "      <td>1.005319</td>\n",
              "      <td>-0.817899</td>\n",
              "      <td>0.342681</td>\n",
              "      <td>0.273348</td>\n",
              "      <td>0.131356</td>\n",
              "      <td>-0.849788</td>\n",
              "      <td>0.352593</td>\n",
              "      <td>0.627983</td>\n",
              "      <td>-1.054044</td>\n",
              "      <td>-0.270289</td>\n",
              "      <td>-0.092437</td>\n",
              "      <td>0.473432</td>\n",
              "      <td>-0.407904</td>\n",
              "      <td>0.448318</td>\n",
              "      <td>0.491411</td>\n",
              "      <td>0.930233</td>\n",
              "      <td>0.185232</td>\n",
              "      <td>0.294808</td>\n",
              "      <td>-0.708420</td>\n",
              "    </tr>\n",
              "    <tr>\n",
              "      <th>3</th>\n",
              "      <td>2.635817</td>\n",
              "      <td>-0.981398</td>\n",
              "      <td>0.370123</td>\n",
              "      <td>6.784440</td>\n",
              "      <td>0.181884</td>\n",
              "      <td>-4.813700</td>\n",
              "      <td>2.947691</td>\n",
              "      <td>-0.389435</td>\n",
              "      <td>0.242841</td>\n",
              "      <td>-5.538081</td>\n",
              "      <td>-3.209181</td>\n",
              "      <td>2.592758</td>\n",
              "      <td>0.284612</td>\n",
              "      <td>0.311896</td>\n",
              "      <td>0.420853</td>\n",
              "      <td>0.656282</td>\n",
              "      <td>-0.370351</td>\n",
              "      <td>1.756653</td>\n",
              "      <td>-2.860135</td>\n",
              "      <td>0.890030</td>\n",
              "      <td>2.802849</td>\n",
              "      <td>-0.791816</td>\n",
              "      <td>-0.836160</td>\n",
              "      <td>-0.657462</td>\n",
              "      <td>-2.216287</td>\n",
              "      <td>-0.460788</td>\n",
              "      <td>-3.921019</td>\n",
              "      <td>0.249641</td>\n",
              "      <td>3.349779</td>\n",
              "      <td>-2.063104</td>\n",
              "      <td>-0.132549</td>\n",
              "      <td>-0.622220</td>\n",
              "      <td>2.097544</td>\n",
              "      <td>-1.764041</td>\n",
              "      <td>-0.839825</td>\n",
              "      <td>0.244358</td>\n",
              "      <td>0.879780</td>\n",
              "      <td>-1.410531</td>\n",
              "      <td>-2.268467</td>\n",
              "      <td>-0.274188</td>\n",
              "      <td>...</td>\n",
              "      <td>3.843225</td>\n",
              "      <td>1.624315</td>\n",
              "      <td>1.509320</td>\n",
              "      <td>3.066951</td>\n",
              "      <td>2.764993</td>\n",
              "      <td>0.641619</td>\n",
              "      <td>-1.072649</td>\n",
              "      <td>-0.745930</td>\n",
              "      <td>2.169132</td>\n",
              "      <td>1.255436</td>\n",
              "      <td>-2.029698</td>\n",
              "      <td>0.078133</td>\n",
              "      <td>1.480618</td>\n",
              "      <td>-0.238716</td>\n",
              "      <td>1.528099</td>\n",
              "      <td>0.066347</td>\n",
              "      <td>-0.030252</td>\n",
              "      <td>-0.186388</td>\n",
              "      <td>-1.821754</td>\n",
              "      <td>-5.011550</td>\n",
              "      <td>-0.143830</td>\n",
              "      <td>-2.170460</td>\n",
              "      <td>1.092624</td>\n",
              "      <td>2.862042</td>\n",
              "      <td>-2.553674</td>\n",
              "      <td>1.141579</td>\n",
              "      <td>0.235469</td>\n",
              "      <td>-1.507244</td>\n",
              "      <td>-0.459409</td>\n",
              "      <td>0.561246</td>\n",
              "      <td>0.285324</td>\n",
              "      <td>0.996807</td>\n",
              "      <td>0.339820</td>\n",
              "      <td>1.389395</td>\n",
              "      <td>0.148546</td>\n",
              "      <td>-2.107265</td>\n",
              "      <td>-0.219938</td>\n",
              "      <td>0.845273</td>\n",
              "      <td>-0.650840</td>\n",
              "      <td>-0.272261</td>\n",
              "    </tr>\n",
              "    <tr>\n",
              "      <th>4</th>\n",
              "      <td>-1.733550</td>\n",
              "      <td>0.415109</td>\n",
              "      <td>-0.172579</td>\n",
              "      <td>0.277972</td>\n",
              "      <td>-0.184180</td>\n",
              "      <td>-1.372129</td>\n",
              "      <td>-5.879970</td>\n",
              "      <td>-0.288093</td>\n",
              "      <td>-1.098812</td>\n",
              "      <td>2.457142</td>\n",
              "      <td>-0.578323</td>\n",
              "      <td>-0.409814</td>\n",
              "      <td>1.923327</td>\n",
              "      <td>-1.001748</td>\n",
              "      <td>1.680158</td>\n",
              "      <td>-0.954766</td>\n",
              "      <td>0.891705</td>\n",
              "      <td>-0.266091</td>\n",
              "      <td>1.744536</td>\n",
              "      <td>-1.749431</td>\n",
              "      <td>0.325685</td>\n",
              "      <td>-0.187219</td>\n",
              "      <td>0.547948</td>\n",
              "      <td>-0.190725</td>\n",
              "      <td>-0.707469</td>\n",
              "      <td>0.527981</td>\n",
              "      <td>-1.148914</td>\n",
              "      <td>0.660462</td>\n",
              "      <td>1.568562</td>\n",
              "      <td>-0.157220</td>\n",
              "      <td>-0.263499</td>\n",
              "      <td>0.097952</td>\n",
              "      <td>0.037387</td>\n",
              "      <td>0.133308</td>\n",
              "      <td>-0.418348</td>\n",
              "      <td>-0.047024</td>\n",
              "      <td>-0.094112</td>\n",
              "      <td>0.012253</td>\n",
              "      <td>-0.101362</td>\n",
              "      <td>-0.005775</td>\n",
              "      <td>...</td>\n",
              "      <td>0.024021</td>\n",
              "      <td>0.055324</td>\n",
              "      <td>0.139084</td>\n",
              "      <td>-0.249916</td>\n",
              "      <td>-0.101067</td>\n",
              "      <td>0.215186</td>\n",
              "      <td>0.070543</td>\n",
              "      <td>-0.171761</td>\n",
              "      <td>-0.258776</td>\n",
              "      <td>0.592288</td>\n",
              "      <td>0.021885</td>\n",
              "      <td>0.412252</td>\n",
              "      <td>0.903269</td>\n",
              "      <td>-0.668851</td>\n",
              "      <td>-0.242840</td>\n",
              "      <td>-0.285315</td>\n",
              "      <td>0.259919</td>\n",
              "      <td>-0.330658</td>\n",
              "      <td>-0.280258</td>\n",
              "      <td>0.163440</td>\n",
              "      <td>0.372250</td>\n",
              "      <td>-0.235420</td>\n",
              "      <td>0.121218</td>\n",
              "      <td>0.361510</td>\n",
              "      <td>-0.440356</td>\n",
              "      <td>-0.034571</td>\n",
              "      <td>-0.319481</td>\n",
              "      <td>0.447107</td>\n",
              "      <td>-0.418393</td>\n",
              "      <td>0.180115</td>\n",
              "      <td>0.480223</td>\n",
              "      <td>-0.102527</td>\n",
              "      <td>-0.429491</td>\n",
              "      <td>-0.264918</td>\n",
              "      <td>0.116738</td>\n",
              "      <td>-0.258514</td>\n",
              "      <td>-0.119250</td>\n",
              "      <td>0.409685</td>\n",
              "      <td>0.009429</td>\n",
              "      <td>-0.247992</td>\n",
              "    </tr>\n",
              "    <tr>\n",
              "      <th>...</th>\n",
              "      <td>...</td>\n",
              "      <td>...</td>\n",
              "      <td>...</td>\n",
              "      <td>...</td>\n",
              "      <td>...</td>\n",
              "      <td>...</td>\n",
              "      <td>...</td>\n",
              "      <td>...</td>\n",
              "      <td>...</td>\n",
              "      <td>...</td>\n",
              "      <td>...</td>\n",
              "      <td>...</td>\n",
              "      <td>...</td>\n",
              "      <td>...</td>\n",
              "      <td>...</td>\n",
              "      <td>...</td>\n",
              "      <td>...</td>\n",
              "      <td>...</td>\n",
              "      <td>...</td>\n",
              "      <td>...</td>\n",
              "      <td>...</td>\n",
              "      <td>...</td>\n",
              "      <td>...</td>\n",
              "      <td>...</td>\n",
              "      <td>...</td>\n",
              "      <td>...</td>\n",
              "      <td>...</td>\n",
              "      <td>...</td>\n",
              "      <td>...</td>\n",
              "      <td>...</td>\n",
              "      <td>...</td>\n",
              "      <td>...</td>\n",
              "      <td>...</td>\n",
              "      <td>...</td>\n",
              "      <td>...</td>\n",
              "      <td>...</td>\n",
              "      <td>...</td>\n",
              "      <td>...</td>\n",
              "      <td>...</td>\n",
              "      <td>...</td>\n",
              "      <td>...</td>\n",
              "      <td>...</td>\n",
              "      <td>...</td>\n",
              "      <td>...</td>\n",
              "      <td>...</td>\n",
              "      <td>...</td>\n",
              "      <td>...</td>\n",
              "      <td>...</td>\n",
              "      <td>...</td>\n",
              "      <td>...</td>\n",
              "      <td>...</td>\n",
              "      <td>...</td>\n",
              "      <td>...</td>\n",
              "      <td>...</td>\n",
              "      <td>...</td>\n",
              "      <td>...</td>\n",
              "      <td>...</td>\n",
              "      <td>...</td>\n",
              "      <td>...</td>\n",
              "      <td>...</td>\n",
              "      <td>...</td>\n",
              "      <td>...</td>\n",
              "      <td>...</td>\n",
              "      <td>...</td>\n",
              "      <td>...</td>\n",
              "      <td>...</td>\n",
              "      <td>...</td>\n",
              "      <td>...</td>\n",
              "      <td>...</td>\n",
              "      <td>...</td>\n",
              "      <td>...</td>\n",
              "      <td>...</td>\n",
              "      <td>...</td>\n",
              "      <td>...</td>\n",
              "      <td>...</td>\n",
              "      <td>...</td>\n",
              "      <td>...</td>\n",
              "      <td>...</td>\n",
              "      <td>...</td>\n",
              "      <td>...</td>\n",
              "      <td>...</td>\n",
              "    </tr>\n",
              "    <tr>\n",
              "      <th>988</th>\n",
              "      <td>-1.400788</td>\n",
              "      <td>0.268468</td>\n",
              "      <td>0.014417</td>\n",
              "      <td>0.550553</td>\n",
              "      <td>-0.133198</td>\n",
              "      <td>-1.129133</td>\n",
              "      <td>-2.905026</td>\n",
              "      <td>-0.132737</td>\n",
              "      <td>-0.369714</td>\n",
              "      <td>1.147400</td>\n",
              "      <td>-0.181280</td>\n",
              "      <td>-0.547962</td>\n",
              "      <td>0.234145</td>\n",
              "      <td>-0.031726</td>\n",
              "      <td>0.074267</td>\n",
              "      <td>-0.266919</td>\n",
              "      <td>0.057343</td>\n",
              "      <td>0.188745</td>\n",
              "      <td>-0.362002</td>\n",
              "      <td>0.262474</td>\n",
              "      <td>0.233325</td>\n",
              "      <td>-0.095013</td>\n",
              "      <td>-0.236646</td>\n",
              "      <td>-0.033975</td>\n",
              "      <td>0.200706</td>\n",
              "      <td>-0.418918</td>\n",
              "      <td>0.233357</td>\n",
              "      <td>-0.209927</td>\n",
              "      <td>-0.212851</td>\n",
              "      <td>-0.007402</td>\n",
              "      <td>0.258224</td>\n",
              "      <td>0.107160</td>\n",
              "      <td>-0.270533</td>\n",
              "      <td>-0.231521</td>\n",
              "      <td>0.116767</td>\n",
              "      <td>-0.117601</td>\n",
              "      <td>0.033212</td>\n",
              "      <td>-0.068744</td>\n",
              "      <td>-0.026255</td>\n",
              "      <td>-0.540528</td>\n",
              "      <td>...</td>\n",
              "      <td>-0.005475</td>\n",
              "      <td>-0.015404</td>\n",
              "      <td>-0.189420</td>\n",
              "      <td>-0.117253</td>\n",
              "      <td>-0.057693</td>\n",
              "      <td>-0.149740</td>\n",
              "      <td>0.502766</td>\n",
              "      <td>0.360392</td>\n",
              "      <td>0.327780</td>\n",
              "      <td>0.083006</td>\n",
              "      <td>-0.133045</td>\n",
              "      <td>-0.797115</td>\n",
              "      <td>0.140631</td>\n",
              "      <td>0.068801</td>\n",
              "      <td>0.080503</td>\n",
              "      <td>-0.335255</td>\n",
              "      <td>0.146214</td>\n",
              "      <td>0.204365</td>\n",
              "      <td>-0.134699</td>\n",
              "      <td>0.028632</td>\n",
              "      <td>0.150736</td>\n",
              "      <td>0.170651</td>\n",
              "      <td>-0.430513</td>\n",
              "      <td>0.459045</td>\n",
              "      <td>-0.251609</td>\n",
              "      <td>-0.085956</td>\n",
              "      <td>-0.612316</td>\n",
              "      <td>0.008929</td>\n",
              "      <td>0.229128</td>\n",
              "      <td>-0.274321</td>\n",
              "      <td>0.211991</td>\n",
              "      <td>-0.283762</td>\n",
              "      <td>0.480643</td>\n",
              "      <td>0.553194</td>\n",
              "      <td>0.174618</td>\n",
              "      <td>-0.241759</td>\n",
              "      <td>-0.062868</td>\n",
              "      <td>0.214685</td>\n",
              "      <td>-0.007631</td>\n",
              "      <td>0.105898</td>\n",
              "    </tr>\n",
              "    <tr>\n",
              "      <th>989</th>\n",
              "      <td>-1.200541</td>\n",
              "      <td>0.133158</td>\n",
              "      <td>-0.105961</td>\n",
              "      <td>-0.097905</td>\n",
              "      <td>-0.231011</td>\n",
              "      <td>-0.254691</td>\n",
              "      <td>-2.698265</td>\n",
              "      <td>-0.219764</td>\n",
              "      <td>-0.394762</td>\n",
              "      <td>0.879648</td>\n",
              "      <td>-0.278472</td>\n",
              "      <td>-0.555648</td>\n",
              "      <td>0.666347</td>\n",
              "      <td>-0.017439</td>\n",
              "      <td>0.282277</td>\n",
              "      <td>0.307257</td>\n",
              "      <td>-0.121932</td>\n",
              "      <td>-0.369316</td>\n",
              "      <td>-0.238538</td>\n",
              "      <td>0.079234</td>\n",
              "      <td>-0.596113</td>\n",
              "      <td>0.058046</td>\n",
              "      <td>-0.957041</td>\n",
              "      <td>-0.234467</td>\n",
              "      <td>0.220555</td>\n",
              "      <td>-0.369464</td>\n",
              "      <td>0.690631</td>\n",
              "      <td>-0.213699</td>\n",
              "      <td>-0.253896</td>\n",
              "      <td>-0.276980</td>\n",
              "      <td>0.612030</td>\n",
              "      <td>0.816544</td>\n",
              "      <td>-0.703452</td>\n",
              "      <td>-1.391842</td>\n",
              "      <td>-0.650432</td>\n",
              "      <td>0.077497</td>\n",
              "      <td>0.549171</td>\n",
              "      <td>-0.871050</td>\n",
              "      <td>0.364752</td>\n",
              "      <td>-0.414686</td>\n",
              "      <td>...</td>\n",
              "      <td>0.374147</td>\n",
              "      <td>-0.686978</td>\n",
              "      <td>0.041811</td>\n",
              "      <td>-0.226312</td>\n",
              "      <td>1.010152</td>\n",
              "      <td>-0.287082</td>\n",
              "      <td>1.247380</td>\n",
              "      <td>0.292557</td>\n",
              "      <td>-0.039431</td>\n",
              "      <td>-0.563562</td>\n",
              "      <td>0.115829</td>\n",
              "      <td>0.507528</td>\n",
              "      <td>0.687795</td>\n",
              "      <td>0.887658</td>\n",
              "      <td>-0.078326</td>\n",
              "      <td>-0.713117</td>\n",
              "      <td>-0.157939</td>\n",
              "      <td>0.938866</td>\n",
              "      <td>-0.728863</td>\n",
              "      <td>0.170725</td>\n",
              "      <td>1.021039</td>\n",
              "      <td>-0.431519</td>\n",
              "      <td>-0.215857</td>\n",
              "      <td>0.699710</td>\n",
              "      <td>-0.315904</td>\n",
              "      <td>-0.927790</td>\n",
              "      <td>-0.879815</td>\n",
              "      <td>-0.429229</td>\n",
              "      <td>-0.226317</td>\n",
              "      <td>-0.519214</td>\n",
              "      <td>-0.038668</td>\n",
              "      <td>0.131392</td>\n",
              "      <td>0.701114</td>\n",
              "      <td>1.373249</td>\n",
              "      <td>0.669796</td>\n",
              "      <td>0.126807</td>\n",
              "      <td>-0.075985</td>\n",
              "      <td>-0.161526</td>\n",
              "      <td>-0.770834</td>\n",
              "      <td>-0.102356</td>\n",
              "    </tr>\n",
              "    <tr>\n",
              "      <th>990</th>\n",
              "      <td>-2.850396</td>\n",
              "      <td>0.642447</td>\n",
              "      <td>0.150821</td>\n",
              "      <td>0.243440</td>\n",
              "      <td>-0.074320</td>\n",
              "      <td>-0.609208</td>\n",
              "      <td>-1.945175</td>\n",
              "      <td>-0.174044</td>\n",
              "      <td>-0.229344</td>\n",
              "      <td>0.602717</td>\n",
              "      <td>-0.389641</td>\n",
              "      <td>-0.144884</td>\n",
              "      <td>0.105028</td>\n",
              "      <td>0.845566</td>\n",
              "      <td>0.215623</td>\n",
              "      <td>0.811996</td>\n",
              "      <td>-0.014184</td>\n",
              "      <td>0.306055</td>\n",
              "      <td>-1.159943</td>\n",
              "      <td>1.061650</td>\n",
              "      <td>0.408786</td>\n",
              "      <td>0.088417</td>\n",
              "      <td>-1.099014</td>\n",
              "      <td>-0.175576</td>\n",
              "      <td>0.329523</td>\n",
              "      <td>-0.759062</td>\n",
              "      <td>0.596935</td>\n",
              "      <td>-0.513399</td>\n",
              "      <td>-0.193350</td>\n",
              "      <td>-0.400039</td>\n",
              "      <td>0.519815</td>\n",
              "      <td>1.808276</td>\n",
              "      <td>-2.221941</td>\n",
              "      <td>-0.025704</td>\n",
              "      <td>-0.542960</td>\n",
              "      <td>-1.217866</td>\n",
              "      <td>-1.677260</td>\n",
              "      <td>-0.061747</td>\n",
              "      <td>1.296634</td>\n",
              "      <td>-1.391215</td>\n",
              "      <td>...</td>\n",
              "      <td>-1.466840</td>\n",
              "      <td>-0.069699</td>\n",
              "      <td>-0.250354</td>\n",
              "      <td>-1.008162</td>\n",
              "      <td>0.291915</td>\n",
              "      <td>0.202908</td>\n",
              "      <td>1.122185</td>\n",
              "      <td>1.154964</td>\n",
              "      <td>0.156179</td>\n",
              "      <td>-2.829421</td>\n",
              "      <td>0.289480</td>\n",
              "      <td>0.959588</td>\n",
              "      <td>1.661933</td>\n",
              "      <td>0.334217</td>\n",
              "      <td>-0.585470</td>\n",
              "      <td>-0.331246</td>\n",
              "      <td>-0.323891</td>\n",
              "      <td>-0.169064</td>\n",
              "      <td>-0.016562</td>\n",
              "      <td>0.794893</td>\n",
              "      <td>0.495804</td>\n",
              "      <td>-0.919506</td>\n",
              "      <td>0.616213</td>\n",
              "      <td>-0.563245</td>\n",
              "      <td>-0.008348</td>\n",
              "      <td>-1.429577</td>\n",
              "      <td>-0.271460</td>\n",
              "      <td>0.040068</td>\n",
              "      <td>-0.408999</td>\n",
              "      <td>-1.200426</td>\n",
              "      <td>-0.399271</td>\n",
              "      <td>0.205920</td>\n",
              "      <td>1.338007</td>\n",
              "      <td>-0.527707</td>\n",
              "      <td>-0.862726</td>\n",
              "      <td>-0.427041</td>\n",
              "      <td>-0.579384</td>\n",
              "      <td>1.092152</td>\n",
              "      <td>0.286241</td>\n",
              "      <td>0.681399</td>\n",
              "    </tr>\n",
              "    <tr>\n",
              "      <th>991</th>\n",
              "      <td>-0.686578</td>\n",
              "      <td>-0.130861</td>\n",
              "      <td>-0.056682</td>\n",
              "      <td>0.375415</td>\n",
              "      <td>-0.280407</td>\n",
              "      <td>-0.983030</td>\n",
              "      <td>-2.222143</td>\n",
              "      <td>-0.084417</td>\n",
              "      <td>-0.107624</td>\n",
              "      <td>0.940768</td>\n",
              "      <td>0.354731</td>\n",
              "      <td>-0.615119</td>\n",
              "      <td>-0.239773</td>\n",
              "      <td>0.028439</td>\n",
              "      <td>-0.704311</td>\n",
              "      <td>0.154545</td>\n",
              "      <td>-0.761142</td>\n",
              "      <td>-0.101086</td>\n",
              "      <td>-2.095969</td>\n",
              "      <td>2.131825</td>\n",
              "      <td>-0.270485</td>\n",
              "      <td>0.163785</td>\n",
              "      <td>-0.669459</td>\n",
              "      <td>0.998167</td>\n",
              "      <td>1.541508</td>\n",
              "      <td>-1.411578</td>\n",
              "      <td>1.694019</td>\n",
              "      <td>-1.372561</td>\n",
              "      <td>-2.933299</td>\n",
              "      <td>0.468123</td>\n",
              "      <td>0.336573</td>\n",
              "      <td>-1.449412</td>\n",
              "      <td>1.184040</td>\n",
              "      <td>0.241662</td>\n",
              "      <td>1.516438</td>\n",
              "      <td>0.451132</td>\n",
              "      <td>0.297990</td>\n",
              "      <td>0.849633</td>\n",
              "      <td>0.311949</td>\n",
              "      <td>0.112046</td>\n",
              "      <td>...</td>\n",
              "      <td>0.151653</td>\n",
              "      <td>-0.779321</td>\n",
              "      <td>-0.235034</td>\n",
              "      <td>0.451830</td>\n",
              "      <td>0.036635</td>\n",
              "      <td>-0.462738</td>\n",
              "      <td>0.539107</td>\n",
              "      <td>0.217005</td>\n",
              "      <td>-0.261059</td>\n",
              "      <td>-0.428704</td>\n",
              "      <td>-0.678704</td>\n",
              "      <td>0.163722</td>\n",
              "      <td>-0.127290</td>\n",
              "      <td>0.393728</td>\n",
              "      <td>0.171990</td>\n",
              "      <td>-0.360654</td>\n",
              "      <td>-0.059142</td>\n",
              "      <td>0.632387</td>\n",
              "      <td>0.018088</td>\n",
              "      <td>-0.355459</td>\n",
              "      <td>-0.002664</td>\n",
              "      <td>-0.351038</td>\n",
              "      <td>-0.562804</td>\n",
              "      <td>0.164669</td>\n",
              "      <td>-0.028772</td>\n",
              "      <td>-0.662354</td>\n",
              "      <td>-0.717446</td>\n",
              "      <td>0.330407</td>\n",
              "      <td>-0.191870</td>\n",
              "      <td>-0.384929</td>\n",
              "      <td>-0.147147</td>\n",
              "      <td>0.455936</td>\n",
              "      <td>-0.138884</td>\n",
              "      <td>-0.792204</td>\n",
              "      <td>0.006856</td>\n",
              "      <td>0.515714</td>\n",
              "      <td>0.588382</td>\n",
              "      <td>-0.045046</td>\n",
              "      <td>0.099856</td>\n",
              "      <td>0.298924</td>\n",
              "    </tr>\n",
              "    <tr>\n",
              "      <th>992</th>\n",
              "      <td>5.184285</td>\n",
              "      <td>-1.729004</td>\n",
              "      <td>-0.973697</td>\n",
              "      <td>-4.272509</td>\n",
              "      <td>-0.585764</td>\n",
              "      <td>2.090588</td>\n",
              "      <td>-1.404931</td>\n",
              "      <td>-0.222927</td>\n",
              "      <td>0.008897</td>\n",
              "      <td>-0.674938</td>\n",
              "      <td>2.137367</td>\n",
              "      <td>5.053840</td>\n",
              "      <td>-1.319840</td>\n",
              "      <td>-0.049644</td>\n",
              "      <td>1.098554</td>\n",
              "      <td>0.273670</td>\n",
              "      <td>0.898603</td>\n",
              "      <td>0.482426</td>\n",
              "      <td>-2.045441</td>\n",
              "      <td>0.632251</td>\n",
              "      <td>-1.698789</td>\n",
              "      <td>0.177551</td>\n",
              "      <td>1.227981</td>\n",
              "      <td>1.392277</td>\n",
              "      <td>1.892701</td>\n",
              "      <td>2.926960</td>\n",
              "      <td>-0.835445</td>\n",
              "      <td>-1.398373</td>\n",
              "      <td>-1.515939</td>\n",
              "      <td>0.860832</td>\n",
              "      <td>-2.328427</td>\n",
              "      <td>0.435598</td>\n",
              "      <td>2.178927</td>\n",
              "      <td>6.099603</td>\n",
              "      <td>-9.940754</td>\n",
              "      <td>0.384944</td>\n",
              "      <td>3.713788</td>\n",
              "      <td>-1.574733</td>\n",
              "      <td>-3.654408</td>\n",
              "      <td>-0.812630</td>\n",
              "      <td>...</td>\n",
              "      <td>0.585009</td>\n",
              "      <td>-0.628282</td>\n",
              "      <td>-0.375743</td>\n",
              "      <td>1.404560</td>\n",
              "      <td>2.465891</td>\n",
              "      <td>-0.900946</td>\n",
              "      <td>0.059456</td>\n",
              "      <td>-5.424493</td>\n",
              "      <td>-1.928299</td>\n",
              "      <td>-2.992534</td>\n",
              "      <td>0.943299</td>\n",
              "      <td>5.099324</td>\n",
              "      <td>0.093486</td>\n",
              "      <td>3.799989</td>\n",
              "      <td>-0.600667</td>\n",
              "      <td>-4.409060</td>\n",
              "      <td>-1.948253</td>\n",
              "      <td>-0.057440</td>\n",
              "      <td>-3.170076</td>\n",
              "      <td>-2.042948</td>\n",
              "      <td>2.604721</td>\n",
              "      <td>0.923704</td>\n",
              "      <td>-2.646468</td>\n",
              "      <td>2.862322</td>\n",
              "      <td>0.671571</td>\n",
              "      <td>0.962978</td>\n",
              "      <td>9.349066</td>\n",
              "      <td>1.900779</td>\n",
              "      <td>10.644177</td>\n",
              "      <td>-4.946707</td>\n",
              "      <td>3.290616</td>\n",
              "      <td>-5.101639</td>\n",
              "      <td>6.943926</td>\n",
              "      <td>-6.111185</td>\n",
              "      <td>3.901894</td>\n",
              "      <td>-2.792967</td>\n",
              "      <td>1.546947</td>\n",
              "      <td>3.693580</td>\n",
              "      <td>0.933582</td>\n",
              "      <td>0.157632</td>\n",
              "    </tr>\n",
              "  </tbody>\n",
              "</table>\n",
              "<p>993 rows × 184 columns</p>\n",
              "</div>"
            ],
            "text/plain": [
              "          0         1         2    ...       181       182       183\n",
              "0   -3.824716  0.829441  0.014317  ... -1.501078 -0.951082 -0.207751\n",
              "1   -4.198198  0.918301 -0.019237  ...  0.711664  0.525808  1.102525\n",
              "2   -2.184585  0.341355 -0.041594  ...  0.185232  0.294808 -0.708420\n",
              "3    2.635817 -0.981398  0.370123  ...  0.845273 -0.650840 -0.272261\n",
              "4   -1.733550  0.415109 -0.172579  ...  0.409685  0.009429 -0.247992\n",
              "..        ...       ...       ...  ...       ...       ...       ...\n",
              "988 -1.400788  0.268468  0.014417  ...  0.214685 -0.007631  0.105898\n",
              "989 -1.200541  0.133158 -0.105961  ... -0.161526 -0.770834 -0.102356\n",
              "990 -2.850396  0.642447  0.150821  ...  1.092152  0.286241  0.681399\n",
              "991 -0.686578 -0.130861 -0.056682  ... -0.045046  0.099856  0.298924\n",
              "992  5.184285 -1.729004 -0.973697  ...  3.693580  0.933582  0.157632\n",
              "\n",
              "[993 rows x 184 columns]"
            ]
          },
          "metadata": {
            "tags": []
          },
          "execution_count": 57
        }
      ]
    },
    {
      "cell_type": "markdown",
      "metadata": {
        "id": "vnUHu21MI-5E",
        "colab_type": "text"
      },
      "source": [
        "**K-MEANS**"
      ]
    },
    {
      "cell_type": "code",
      "metadata": {
        "id": "JG5hF0RPI9Ua",
        "colab_type": "code",
        "colab": {}
      },
      "source": [
        "#Import libraries\n",
        "import matplotlib.pyplot as plt\n",
        "from sklearn.cluster import KMeans"
      ],
      "execution_count": 0,
      "outputs": []
    },
    {
      "cell_type": "code",
      "metadata": {
        "id": "rPbz7jj8JZ6K",
        "colab_type": "code",
        "outputId": "c5a37556-f2fd-4795-c7fe-39760b1a3346",
        "colab": {
          "base_uri": "https://localhost:8080/",
          "height": 295
        }
      },
      "source": [
        "Error =[]\n",
        "for i in range(1, 50):\n",
        "    kmeans = KMeans(n_clusters = i).fit(X_train)\n",
        "    kmeans.fit(X_train)\n",
        "    Error.append(kmeans.inertia_)\n",
        "import matplotlib.pyplot as plt\n",
        "plt.plot(range(1, 50), Error)\n",
        "plt.title('Elbow method')\n",
        "plt.xlabel('No of clusters')\n",
        "plt.ylabel('Error')\n",
        "plt.show()"
      ],
      "execution_count": 0,
      "outputs": [
        {
          "output_type": "display_data",
          "data": {
            "image/png": "[encoded data removed]",
            "text/plain": [
              "<Figure size 432x288 with 1 Axes>"
            ]
          },
          "metadata": {
            "tags": [],
            "needs_background": "light"
          }
        }
      ]
    },
    {
      "cell_type": "markdown",
      "metadata": {
        "id": "PT_FUg04KrVV",
        "colab_type": "text"
      },
      "source": [
        "**20 number of clusters seems like a good option**"
      ]
    },
    {
      "cell_type": "code",
      "metadata": {
        "id": "iLh29JvAI9R7",
        "colab_type": "code",
        "colab": {}
      },
      "source": [
        "kmeans20 = KMeans(n_clusters=20)\n",
        "y_kmeans20 = kmeans20.fit_predict(X_train)\n",
        "print(y_kmeans20)\n",
        "kmeans20.cluster_centers_"
      ],
      "execution_count": 0,
      "outputs": []
    },
    {
      "cell_type": "code",
      "metadata": {
        "id": "R_oKHrxzsLMS",
        "colab_type": "code",
        "outputId": "810d5016-bf0d-4b83-8206-d39e31294f2f",
        "colab": {
          "base_uri": "https://localhost:8080/",
          "height": 34
        }
      },
      "source": [
        "from sklearn import metrics\n",
        "metrics.silhouette_score(X_train,y_kmeans20)"
      ],
      "execution_count": 0,
      "outputs": [
        {
          "output_type": "execute_result",
          "data": {
            "text/plain": [
              "0.00751945691050922"
            ]
          },
          "metadata": {
            "tags": []
          },
          "execution_count": 37
        }
      ]
    },
    {
      "cell_type": "code",
      "metadata": {
        "id": "eimRcyXokCNM",
        "colab_type": "code",
        "colab": {}
      },
      "source": [
        "after_kmeans = pd.DataFrame(X_train)\n",
        "y_kmeans20.shape\n",
        "after_kmeans.shape\n",
        "after_kmeans['k_val']= y_kmeans20"
      ],
      "execution_count": 0,
      "outputs": []
    },
    {
      "cell_type": "code",
      "metadata": {
        "id": "6XOoj_iPC9Kh",
        "colab_type": "code",
        "colab": {}
      },
      "source": [
        "after_kmeans['product_name'] = df_desktop_1['product_name']"
      ],
      "execution_count": 0,
      "outputs": []
    },
    {
      "cell_type": "markdown",
      "metadata": {
        "id": "ftx4UxLEOlpY",
        "colab_type": "text"
      },
      "source": [
        "**Sorting according to cluster value**"
      ]
    },
    {
      "cell_type": "code",
      "metadata": {
        "id": "k3Pvl3hkNpRx",
        "colab_type": "code",
        "outputId": "c6529724-907f-4152-d119-d2e8c97dc28d",
        "colab": {
          "base_uri": "https://localhost:8080/",
          "height": 34
        }
      },
      "source": [
        "after_kmeans.sort_values(by=['k_val'],inplace=True)\n",
        "set(y_kmeans20)"
      ],
      "execution_count": 0,
      "outputs": [
        {
          "output_type": "execute_result",
          "data": {
            "text/plain": [
              "{0, 1, 2, 3, 4, 5, 6, 7, 8, 9, 10, 11, 12, 13, 14, 15, 16, 17, 18, 19}"
            ]
          },
          "metadata": {
            "tags": []
          },
          "execution_count": 73
        }
      ]
    },
    {
      "cell_type": "code",
      "metadata": {
        "id": "C6LtgWO3pKsn",
        "colab_type": "code",
        "outputId": "d0c56e79-c43b-4ed2-a0ca-26c166a11c2f",
        "colab": {
          "base_uri": "https://localhost:8080/",
          "height": 594
        }
      },
      "source": [
        "data = pd.DataFrame(X_train).iloc[:,0:2]\n",
        "data['label']=y_kmeans20\n",
        "data.columns= ['P1','P2','label']\n",
        "import matplotlib\n",
        "cmap={0:'salmon',1:'red',2:'green',3:'yellow',4:'purple',5:'brown',6:'orange',7:'coral',8:'deeppink',9:'darkblue',10:'tan',11:'plum',12:'olive',13:'teal',14:'blue',15:'gold',16:'azure',17:'sienna',18:'pink',19:'darkgreen'}\n",
        "\n",
        "fig, ax = plt.subplots()\n",
        "for l in range(len(data.loc[:,'label'].unique())):\n",
        "  pca_temp = data[data['label']==l]\n",
        "  ax.scatter(pca_temp['P1'], pca_temp['P2'], c=cmap[l], label= 'Cluster '+str(l))\n",
        "ax.legend()\n",
        "fig.set_size_inches(10,10)\n"
      ],
      "execution_count": 0,
      "outputs": [
        {
          "output_type": "display_data",
          "data": {
            "image/png": "[encoded data removed]",
            "text/plain": [
              "<Figure size 720x720 with 1 Axes>"
            ]
          },
          "metadata": {
            "tags": []
          }
        }
      ]
    },
    {
      "cell_type": "markdown",
      "metadata": {
        "id": "eUo2kYdERQHY",
        "colab_type": "text"
      },
      "source": [
        "**LDA**"
      ]
    },
    {
      "cell_type": "code",
      "metadata": {
        "id": "Au_x70L0xf65",
        "colab_type": "code",
        "colab": {}
      },
      "source": [
        "def ldafunc(data):\n",
        "  def sent_to_words(sentences):\n",
        "    for sentence in sentences:\n",
        "        yield(gensim.utils.simple_preprocess(str(sentence), deacc=True))  # deacc=True removes punctuations\n",
        "\n",
        "  data_words = list(sent_to_words(data))\n",
        "\n",
        "  #print(data_words[:1])\n",
        "  # Build the bigram and trigram models\n",
        "  bigram = gensim.models.Phrases(data_words, min_count=5, threshold=100) # higher threshold fewer phrases.\n",
        "  trigram = gensim.models.Phrases(bigram[data_words], threshold=100)  \n",
        "\n",
        "  # Faster way to get a sentence clubbed as a trigram/bigram\n",
        "  bigram_mod = gensim.models.phrases.Phraser(bigram)\n",
        "  trigram_mod = gensim.models.phrases.Phraser(trigram)\n",
        "\n",
        "  # See trigram example\n",
        "  #print(trigram_mod[bigram_mod[data_words[0]]])\n",
        "  # Define functions for stopwords, bigrams, trigrams and lemmatization\n",
        "  def remove_stopwords(texts):\n",
        "    return [[word for word in simple_preprocess(str(doc)) if word not in stop_words] for doc in texts]\n",
        "\n",
        "  def make_bigrams(texts):\n",
        "    return [bigram_mod[doc] for doc in texts]\n",
        "\n",
        "  def make_trigrams(texts):\n",
        "    return [trigram_mod[bigram_mod[doc]] for doc in texts]\n",
        "\n",
        "  def lemmatization(texts, allowed_postags=['NOUN', 'ADJ', 'VERB', 'ADV']):\n",
        "    \"\"\"https://spacy.io/api/annotation\"\"\"\n",
        "    texts_out = []\n",
        "    for sent in texts:\n",
        "        doc = nlp(\" \".join(sent)) \n",
        "        texts_out.append([token.lemma_ for token in doc if token.pos_ in allowed_postags])\n",
        "    return texts_out \n",
        "  #To run this code it is necessary to get the spacy moidel: \"!python - m spacy download en\", last depends on the used language \n",
        "\n",
        "  # Remove Stop Words\n",
        "  data_words_nostops = remove_stopwords(data_words)\n",
        "\n",
        "  # Form Bigrams\n",
        "  data_words_bigrams = make_bigrams(data_words_nostops)\n",
        "\n",
        "  # Initialize spacy 'es' model, keeping only tagger component (for efficiency)\n",
        "  #python3 -m spacy download es\n",
        "  nlp = spacy.load('en', disable=['parser', 'ner'])\n",
        "\n",
        "  # Do lemmatization keeping only noun, adj, vb, adv\n",
        "  data_lemmatized = lemmatization(data_words_bigrams, allowed_postags=['NOUN', 'ADJ', 'VERB', 'ADV'])\n",
        "\n",
        "  # Create Dictionary\n",
        "  id2word = corpora.Dictionary(data_lemmatized)\n",
        "\n",
        "  # Create Corpus\n",
        "  texts = data_lemmatized\n",
        "\n",
        "  # Term Document Frequency\n",
        "  corpus = [id2word.doc2bow(text) for text in texts]\n",
        "\n",
        "  # View\n",
        "  #print(corpus[:1])\n",
        "  # Human readable format of corpus (term-frequency)\n",
        "  [[(id2word[id], freq) for id, freq in cp] for cp in corpus[:2]]\n",
        "\n",
        "  # Build LDA model\n",
        "  lda_model = gensim.models.ldamodel.LdaModel(corpus=corpus,\n",
        "                                           id2word=id2word,\n",
        "                                           num_topics=2, \n",
        "                                           random_state=100,\n",
        "                                           update_every=1,\n",
        "                                           chunksize=100,\n",
        "                                           passes=14,\n",
        "                                           alpha='auto',\n",
        "                                           per_word_topics=True)\n",
        "\n",
        "  # Print the Keyword in the 2 topics\n",
        "  #pprint(lda_model.print_topics())\n",
        "  doc_lda = lda_model[corpus]\n",
        "\n",
        "  # Compute Perplexity\n",
        "  #print('\\nPerplexity: ', lda_model.log_perplexity(corpus))  # a measure of how good the model is. lower the better.\n",
        "\n",
        "  # Compute Coherence Score\n",
        "  coherence_model_lda = CoherenceModel(model=lda_model, texts=data_lemmatized, dictionary=id2word, coherence='c_v')\n",
        "  coherence_lda = coherence_model_lda.get_coherence()\n",
        "  #print('\\nCoherence Score: ', coherence_lda)\n",
        "\n",
        "  # Visualize the topics\n",
        "  pyLDAvis.enable_notebook()\n",
        "  vis = pyLDAvis.gensim.prepare(lda_model, corpus, id2word)\n",
        "  vis\n",
        "\n",
        "  return lda_model.print_topics()"
      ],
      "execution_count": 0,
      "outputs": []
    },
    {
      "cell_type": "code",
      "metadata": {
        "id": "2aLWxIUXyyuI",
        "colab_type": "code",
        "colab": {}
      },
      "source": [
        "cluster_results = {}\n",
        "for i in range(len(set(y_kmeans20))):\n",
        "  print(i)\n",
        "  x1 = after_kmeans['product_name'][after_kmeans['k_val']==i].tolist()\n",
        "  ans = ldafunc(x1)\n",
        "  num = 'cluster'+str(i)\n",
        "  cluster_results[num] = ans"
      ],
      "execution_count": 0,
      "outputs": []
    },
    {
      "cell_type": "code",
      "metadata": {
        "id": "Uk4565eJziZn",
        "colab_type": "code",
        "outputId": "cc7d8fe4-71a3-430c-bb0a-c179fbb16173",
        "colab": {
          "base_uri": "https://localhost:8080/",
          "height": 1000
        }
      },
      "source": [
        "cluster_results"
      ],
      "execution_count": 0,
      "outputs": [
        {
          "output_type": "execute_result",
          "data": {
            "text/plain": [
              "{'cluster0': [(0,\n",
              "   '0.081*\"home\" + 0.060*\"memory\" + 0.056*\"bit\" + 0.053*\"include\" + 0.050*\"pc\" + 0.045*\"window\" + 0.045*\"gaming\" + 0.044*\"computer\" + 0.041*\"desktop\" + 0.039*\"bluetooth\"'),\n",
              "  (1,\n",
              "   '0.143*\"core\" + 0.104*\"refurbish\" + 0.095*\"keyboard\" + 0.095*\"pc\" + 0.072*\"home\" + 0.054*\"monitor\" + 0.036*\"pro\" + 0.035*\"dual\" + 0.034*\"mouse\" + 0.029*\"lcd\"')],\n",
              " 'cluster1': [(0, '0.336*\"read\" + 0.336*\"monitor\" + 0.328*\"complete\"'),\n",
              "  (1, '0.336*\"complete\" + 0.332*\"monitor\" + 0.332*\"read\"')],\n",
              " 'cluster10': [(0,\n",
              "   '0.125*\"language\" + 0.125*\"gateway\" + 0.125*\"desktop\" + 0.125*\"year\" + 0.125*\"warranty\" + 0.125*\"refurbish\" + 0.125*\"multi\" + 0.125*\"bit\"'),\n",
              "  (1,\n",
              "   '0.125*\"bit\" + 0.125*\"multi\" + 0.125*\"refurbish\" + 0.125*\"warranty\" + 0.125*\"year\" + 0.125*\"desktop\" + 0.125*\"gateway\" + 0.125*\"language\"')],\n",
              " 'cluster11': [(0,\n",
              "   '0.167*\"window\" + 0.167*\"pc\" + 0.167*\"mini\" + 0.167*\"pro\" + 0.167*\"fanless\" + 0.166*\"cherry\"'),\n",
              "  (1,\n",
              "   '0.169*\"cherry\" + 0.167*\"fanless\" + 0.167*\"pro\" + 0.166*\"mini\" + 0.166*\"pc\" + 0.165*\"window\"')],\n",
              " 'cluster12': [(0, '0.627*\"pc\" + 0.373*\"keyboard\"'),\n",
              "  (1, '0.566*\"pc\" + 0.434*\"keyboard\"')],\n",
              " 'cluster13': [(0, '0.336*\"refurbish\" + 0.336*\"install\" + 0.328*\"core\"'),\n",
              "  (1, '0.336*\"core\" + 0.332*\"install\" + 0.332*\"refurbish\"')],\n",
              " 'cluster14': [(0, '1.000*\"pc\"'), (1, '1.000*\"pc\"')],\n",
              " 'cluster15': [(0,\n",
              "   '0.143*\"everyday\" + 0.143*\"value\" + 0.143*\"home\" + 0.143*\"elitegroup\" + 0.143*\"wifi\" + 0.143*\"win\" + 0.143*\"black\"'),\n",
              "  (1,\n",
              "   '0.143*\"black\" + 0.143*\"win\" + 0.143*\"wifi\" + 0.143*\"elitegroup\" + 0.143*\"home\" + 0.143*\"value\" + 0.143*\"everyday\"')],\n",
              " 'cluster16': [(0,\n",
              "   '0.089*\"computer\" + 0.084*\"display\" + 0.063*\"late\" + 0.061*\"grade\" + 0.060*\"mouse\" + 0.059*\"keyboard\" + 0.059*\"apple\" + 0.051*\"include\" + 0.039*\"imac\" + 0.032*\"refurbish\"'),\n",
              "  (1,\n",
              "   '0.309*\"refurbish\" + 0.076*\"desktop\" + 0.072*\"certify\" + 0.050*\"core\" + 0.047*\"apple\" + 0.044*\"silver\" + 0.043*\"computer\" + 0.039*\"imac\" + 0.027*\"scratch\" + 0.027*\"dent\"')],\n",
              " 'cluster17': [(0,\n",
              "   '0.179*\"core\" + 0.179*\"wlan\" + 0.128*\"full\" + 0.077*\"keyboard\" + 0.077*\"lead\" + 0.077*\"pro\" + 0.077*\"bluetooth\" + 0.077*\"hd\" + 0.026*\"monitor\" + 0.026*\"home\"'),\n",
              "  (1,\n",
              "   '0.103*\"bit\" + 0.103*\"remarkete\" + 0.103*\"win\" + 0.103*\"home\" + 0.103*\"monitor\" + 0.103*\"lead\" + 0.103*\"keyboard\" + 0.103*\"full\" + 0.035*\"wlan\" + 0.035*\"core\"')],\n",
              " 'cluster18': [(0,\n",
              "   '0.077*\"window\" + 0.077*\"reader\" + 0.077*\"hdmi\" + 0.077*\"display\" + 0.077*\"support\" + 0.077*\"usb\" + 0.077*\"capable\" + 0.077*\"card\" + 0.077*\"dual\" + 0.077*\"port\"'),\n",
              "  (1,\n",
              "   '0.077*\"bluetooth\" + 0.077*\"wifi\" + 0.077*\"monitor\" + 0.077*\"port\" + 0.077*\"dual\" + 0.077*\"card\" + 0.077*\"capable\" + 0.077*\"usb\" + 0.077*\"support\" + 0.077*\"display\"')],\n",
              " 'cluster19': [(0,\n",
              "   '0.255*\"lead\" + 0.250*\"keyboard\" + 0.250*\"refurbish\" + 0.244*\"core\"'),\n",
              "  (1, '0.253*\"core\" + 0.250*\"refurbish\" + 0.250*\"keyboard\" + 0.247*\"lead\"')],\n",
              " 'cluster2': [(0,\n",
              "   '0.167*\"xddr\" + 0.167*\"single\" + 0.167*\"pack\" + 0.167*\"win\" + 0.167*\"cay\" + 0.166*\"box\"'),\n",
              "  (1,\n",
              "   '0.169*\"box\" + 0.167*\"cay\" + 0.167*\"win\" + 0.166*\"pack\" + 0.166*\"single\" + 0.165*\"xddr\"')],\n",
              " 'cluster3': [(0, '0.336*\"pale\" + 0.336*\"gold\" + 0.328*\"bit\"'),\n",
              "  (1, '0.336*\"bit\" + 0.332*\"gold\" + 0.332*\"pale\"')],\n",
              " 'cluster4': [(0,\n",
              "   '0.091*\"window\" + 0.091*\"shipping\" + 0.091*\"place\" + 0.091*\"order\" + 0.091*\"weekday\" + 0.091*\"gb\" + 0.091*\"refurbish\" + 0.091*\"core\" + 0.091*\"pc\" + 0.091*\"day\"'),\n",
              "  (1,\n",
              "   '0.091*\"wifi\" + 0.091*\"day\" + 0.091*\"pc\" + 0.091*\"core\" + 0.091*\"refurbish\" + 0.091*\"gb\" + 0.091*\"weekday\" + 0.091*\"order\" + 0.091*\"place\" + 0.090*\"shipping\"')],\n",
              " 'cluster5': [(0,\n",
              "   '0.119*\"monitor\" + 0.116*\"refurbish\" + 0.114*\"memory\" + 0.113*\"drive\" + 0.108*\"window\" + 0.099*\"include\" + 0.082*\"pro\" + 0.079*\"core\" + 0.045*\"hard\" + 0.037*\"desktop\"'),\n",
              "  (1,\n",
              "   '0.135*\"refurbish\" + 0.095*\"computer\" + 0.085*\"pc\" + 0.052*\"hard\" + 0.047*\"lcd\" + 0.046*\"desktop\" + 0.036*\"mouse\" + 0.035*\"keyboard\" + 0.033*\"tower\" + 0.031*\"core\"')],\n",
              " 'cluster6': [(0, '0.336*\"metal\" + 0.336*\"life\" + 0.328*\"black\"'),\n",
              "  (1, '0.336*\"black\" + 0.332*\"life\" + 0.332*\"metal\"')],\n",
              " 'cluster7': [(0, '0.507*\"win\" + 0.493*\"pro\"'),\n",
              "  (1, '0.504*\"pro\" + 0.496*\"win\"')],\n",
              " 'cluster8': [(0,\n",
              "   '0.100*\"clean\" + 0.100*\"warranty\" + 0.100*\"solution\" + 0.100*\"screen\" + 0.100*\"extend\" + 0.100*\"computer\" + 0.100*\"inch\" + 0.100*\"year\" + 0.100*\"desktop\" + 0.100*\"bundle\"'),\n",
              "  (1,\n",
              "   '0.100*\"bundle\" + 0.100*\"desktop\" + 0.100*\"year\" + 0.100*\"inch\" + 0.100*\"computer\" + 0.100*\"extend\" + 0.100*\"screen\" + 0.100*\"solution\" + 0.100*\"warranty\" + 0.100*\"clean\"')],\n",
              " 'cluster9': [(0, '0.507*\"memory\" + 0.493*\"compatible\"'),\n",
              "  (1, '0.504*\"compatible\" + 0.496*\"memory\"')]}"
            ]
          },
          "metadata": {
            "tags": []
          },
          "execution_count": 43
        }
      ]
    },
    {
      "cell_type": "markdown",
      "metadata": {
        "id": "DzvGQiIADyrj",
        "colab_type": "text"
      },
      "source": [
        "**GMM Modeling**"
      ]
    },
    {
      "cell_type": "code",
      "metadata": {
        "id": "NszJJ0nFDqzJ",
        "colab_type": "code",
        "colab": {}
      },
      "source": [
        "import numpy as np\n",
        "from sklearn import metrics\n",
        "from sklearn.mixture import GaussianMixture\n",
        "from matplotlib import pyplot as plt\n",
        "import seaborn as sns\n",
        "sns.set()"
      ],
      "execution_count": 0,
      "outputs": []
    },
    {
      "cell_type": "markdown",
      "metadata": {
        "id": "9LUuxUZnK-vq",
        "colab_type": "text"
      },
      "source": [
        "**Best number of cluster according to BIC**"
      ]
    },
    {
      "cell_type": "code",
      "metadata": {
        "id": "EysKlSllK9jv",
        "colab_type": "code",
        "outputId": "05eafc2f-9a67-4efe-dc09-1c738a5b4882",
        "colab": {
          "base_uri": "https://localhost:8080/",
          "height": 313
        }
      },
      "source": [
        "n_components = np.arange(1, 50)\n",
        "models = [GaussianMixture(n, covariance_type='full', random_state=0).fit(X_train) for n in n_components]\n",
        "\n",
        "# BIC Scores \n",
        "plt.plot(n_components, [m.bic(X_train) for m in models], label='BIC')\n",
        "#plt.plot(n_components, [m.aic(X_train) for m in models], label='AIC')\n",
        "plt.legend(loc='best')\n",
        "plt.xlabel('n_components')"
      ],
      "execution_count": 0,
      "outputs": [
        {
          "output_type": "execute_result",
          "data": {
            "text/plain": [
              "Text(0.5, 0, 'n_components')"
            ]
          },
          "metadata": {
            "tags": []
          },
          "execution_count": 59
        },
        {
          "output_type": "display_data",
          "data": {
            "image/png": "[encoded data removed]",
            "text/plain": [
              "<Figure size 432x288 with 1 Axes>"
            ]
          },
          "metadata": {
            "tags": []
          }
        }
      ]
    },
    {
      "cell_type": "markdown",
      "metadata": {
        "id": "XTFwC6NuLQNN",
        "colab_type": "text"
      },
      "source": [
        "**BIC Best number of clusters = 9**"
      ]
    },
    {
      "cell_type": "markdown",
      "metadata": {
        "id": "HP-5IUuSLU5p",
        "colab_type": "text"
      },
      "source": [
        "**According to Silhouette Score**"
      ]
    },
    {
      "cell_type": "code",
      "metadata": {
        "id": "HlfY3L-fIPqq",
        "colab_type": "code",
        "colab": {}
      },
      "source": [
        "sil_score = []\n",
        "for i in range(2,50):\n",
        "  gmm = GaussianMixture(n_components=i)\n",
        "  gmm.fit(X_train)\n",
        "  labels = gmm.predict(X_train)\n",
        "  sil_score.append(metrics.silhouette_score(X_train,labels))\n",
        "\n",
        "sil_score = pd.DataFrame(range(2,50,1),sil_score)\n"
      ],
      "execution_count": 0,
      "outputs": []
    },
    {
      "cell_type": "code",
      "metadata": {
        "id": "p-acdNA-PEmR",
        "colab_type": "code",
        "outputId": "81dcfb40-8b6f-4dee-a50e-7486dea2586c",
        "colab": {
          "base_uri": "https://localhost:8080/",
          "height": 1000
        }
      },
      "source": [
        "sil_score.sort_index(ascending=False)"
      ],
      "execution_count": 0,
      "outputs": [
        {
          "output_type": "execute_result",
          "data": {
            "text/html": [
              "<div>\n",
              "<style scoped>\n",
              "    .dataframe tbody tr th:only-of-type {\n",
              "        vertical-align: middle;\n",
              "    }\n",
              "\n",
              "    .dataframe tbody tr th {\n",
              "        vertical-align: top;\n",
              "    }\n",
              "\n",
              "    .dataframe thead th {\n",
              "        text-align: right;\n",
              "    }\n",
              "</style>\n",
              "<table border=\"1\" class=\"dataframe\">\n",
              "  <thead>\n",
              "    <tr style=\"text-align: right;\">\n",
              "      <th></th>\n",
              "      <th>0</th>\n",
              "    </tr>\n",
              "  </thead>\n",
              "  <tbody>\n",
              "    <tr>\n",
              "      <th>0.660699</th>\n",
              "      <td>4</td>\n",
              "    </tr>\n",
              "    <tr>\n",
              "      <th>0.657900</th>\n",
              "      <td>5</td>\n",
              "    </tr>\n",
              "    <tr>\n",
              "      <th>0.570366</th>\n",
              "      <td>8</td>\n",
              "    </tr>\n",
              "    <tr>\n",
              "      <th>0.370126</th>\n",
              "      <td>3</td>\n",
              "    </tr>\n",
              "    <tr>\n",
              "      <th>0.278535</th>\n",
              "      <td>2</td>\n",
              "    </tr>\n",
              "    <tr>\n",
              "      <th>0.182464</th>\n",
              "      <td>7</td>\n",
              "    </tr>\n",
              "    <tr>\n",
              "      <th>0.147238</th>\n",
              "      <td>11</td>\n",
              "    </tr>\n",
              "    <tr>\n",
              "      <th>0.055303</th>\n",
              "      <td>43</td>\n",
              "    </tr>\n",
              "    <tr>\n",
              "      <th>0.054370</th>\n",
              "      <td>41</td>\n",
              "    </tr>\n",
              "    <tr>\n",
              "      <th>0.050536</th>\n",
              "      <td>31</td>\n",
              "    </tr>\n",
              "    <tr>\n",
              "      <th>0.049124</th>\n",
              "      <td>49</td>\n",
              "    </tr>\n",
              "    <tr>\n",
              "      <th>0.046888</th>\n",
              "      <td>48</td>\n",
              "    </tr>\n",
              "    <tr>\n",
              "      <th>0.035689</th>\n",
              "      <td>40</td>\n",
              "    </tr>\n",
              "    <tr>\n",
              "      <th>0.033890</th>\n",
              "      <td>37</td>\n",
              "    </tr>\n",
              "    <tr>\n",
              "      <th>0.028971</th>\n",
              "      <td>46</td>\n",
              "    </tr>\n",
              "    <tr>\n",
              "      <th>0.013566</th>\n",
              "      <td>13</td>\n",
              "    </tr>\n",
              "    <tr>\n",
              "      <th>0.000629</th>\n",
              "      <td>39</td>\n",
              "    </tr>\n",
              "    <tr>\n",
              "      <th>0.000039</th>\n",
              "      <td>32</td>\n",
              "    </tr>\n",
              "    <tr>\n",
              "      <th>-0.000036</th>\n",
              "      <td>42</td>\n",
              "    </tr>\n",
              "    <tr>\n",
              "      <th>-0.005773</th>\n",
              "      <td>29</td>\n",
              "    </tr>\n",
              "    <tr>\n",
              "      <th>-0.008399</th>\n",
              "      <td>14</td>\n",
              "    </tr>\n",
              "    <tr>\n",
              "      <th>-0.009537</th>\n",
              "      <td>47</td>\n",
              "    </tr>\n",
              "    <tr>\n",
              "      <th>-0.016114</th>\n",
              "      <td>12</td>\n",
              "    </tr>\n",
              "    <tr>\n",
              "      <th>-0.016875</th>\n",
              "      <td>35</td>\n",
              "    </tr>\n",
              "    <tr>\n",
              "      <th>-0.019421</th>\n",
              "      <td>44</td>\n",
              "    </tr>\n",
              "    <tr>\n",
              "      <th>-0.020089</th>\n",
              "      <td>28</td>\n",
              "    </tr>\n",
              "    <tr>\n",
              "      <th>-0.025957</th>\n",
              "      <td>21</td>\n",
              "    </tr>\n",
              "    <tr>\n",
              "      <th>-0.032928</th>\n",
              "      <td>20</td>\n",
              "    </tr>\n",
              "    <tr>\n",
              "      <th>-0.033596</th>\n",
              "      <td>33</td>\n",
              "    </tr>\n",
              "    <tr>\n",
              "      <th>-0.035512</th>\n",
              "      <td>38</td>\n",
              "    </tr>\n",
              "    <tr>\n",
              "      <th>-0.041390</th>\n",
              "      <td>34</td>\n",
              "    </tr>\n",
              "    <tr>\n",
              "      <th>-0.042684</th>\n",
              "      <td>45</td>\n",
              "    </tr>\n",
              "    <tr>\n",
              "      <th>-0.059356</th>\n",
              "      <td>23</td>\n",
              "    </tr>\n",
              "    <tr>\n",
              "      <th>-0.064828</th>\n",
              "      <td>27</td>\n",
              "    </tr>\n",
              "    <tr>\n",
              "      <th>-0.066203</th>\n",
              "      <td>25</td>\n",
              "    </tr>\n",
              "    <tr>\n",
              "      <th>-0.067351</th>\n",
              "      <td>36</td>\n",
              "    </tr>\n",
              "    <tr>\n",
              "      <th>-0.068634</th>\n",
              "      <td>26</td>\n",
              "    </tr>\n",
              "    <tr>\n",
              "      <th>-0.074695</th>\n",
              "      <td>30</td>\n",
              "    </tr>\n",
              "    <tr>\n",
              "      <th>-0.077560</th>\n",
              "      <td>6</td>\n",
              "    </tr>\n",
              "    <tr>\n",
              "      <th>-0.083077</th>\n",
              "      <td>19</td>\n",
              "    </tr>\n",
              "    <tr>\n",
              "      <th>-0.083089</th>\n",
              "      <td>15</td>\n",
              "    </tr>\n",
              "    <tr>\n",
              "      <th>-0.086715</th>\n",
              "      <td>24</td>\n",
              "    </tr>\n",
              "    <tr>\n",
              "      <th>-0.096862</th>\n",
              "      <td>16</td>\n",
              "    </tr>\n",
              "    <tr>\n",
              "      <th>-0.101724</th>\n",
              "      <td>10</td>\n",
              "    </tr>\n",
              "    <tr>\n",
              "      <th>-0.103198</th>\n",
              "      <td>17</td>\n",
              "    </tr>\n",
              "    <tr>\n",
              "      <th>-0.117607</th>\n",
              "      <td>9</td>\n",
              "    </tr>\n",
              "    <tr>\n",
              "      <th>-0.120389</th>\n",
              "      <td>18</td>\n",
              "    </tr>\n",
              "    <tr>\n",
              "      <th>-0.158517</th>\n",
              "      <td>22</td>\n",
              "    </tr>\n",
              "  </tbody>\n",
              "</table>\n",
              "</div>"
            ],
            "text/plain": [
              "            0\n",
              " 0.660699   4\n",
              " 0.657900   5\n",
              " 0.570366   8\n",
              " 0.370126   3\n",
              " 0.278535   2\n",
              " 0.182464   7\n",
              " 0.147238  11\n",
              " 0.055303  43\n",
              " 0.054370  41\n",
              " 0.050536  31\n",
              " 0.049124  49\n",
              " 0.046888  48\n",
              " 0.035689  40\n",
              " 0.033890  37\n",
              " 0.028971  46\n",
              " 0.013566  13\n",
              " 0.000629  39\n",
              " 0.000039  32\n",
              "-0.000036  42\n",
              "-0.005773  29\n",
              "-0.008399  14\n",
              "-0.009537  47\n",
              "-0.016114  12\n",
              "-0.016875  35\n",
              "-0.019421  44\n",
              "-0.020089  28\n",
              "-0.025957  21\n",
              "-0.032928  20\n",
              "-0.033596  33\n",
              "-0.035512  38\n",
              "-0.041390  34\n",
              "-0.042684  45\n",
              "-0.059356  23\n",
              "-0.064828  27\n",
              "-0.066203  25\n",
              "-0.067351  36\n",
              "-0.068634  26\n",
              "-0.074695  30\n",
              "-0.077560   6\n",
              "-0.083077  19\n",
              "-0.083089  15\n",
              "-0.086715  24\n",
              "-0.096862  16\n",
              "-0.101724  10\n",
              "-0.103198  17\n",
              "-0.117607   9\n",
              "-0.120389  18\n",
              "-0.158517  22"
            ]
          },
          "metadata": {
            "tags": []
          },
          "execution_count": 61
        }
      ]
    },
    {
      "cell_type": "markdown",
      "metadata": {
        "id": "o1YUzeBINAxc",
        "colab_type": "text"
      },
      "source": [
        "**Number of clusters here is 8**\n",
        "\n",
        "\n",
        "**Comparable to Silhouette Score**"
      ]
    },
    {
      "cell_type": "code",
      "metadata": {
        "id": "INDA_5l7M_vW",
        "colab_type": "code",
        "outputId": "7a0159f2-9dca-460f-f052-6ec90245d8b6",
        "colab": {
          "base_uri": "https://localhost:8080/",
          "height": 34
        }
      },
      "source": [
        "gmm = GaussianMixture(n_components=8)\n",
        "gmm.fit(X_train)\n",
        "labels = gmm.predict(X_train)\n",
        "set(labels)"
      ],
      "execution_count": 0,
      "outputs": [
        {
          "output_type": "execute_result",
          "data": {
            "text/plain": [
              "{0, 1, 2, 3, 4, 5, 6, 7}"
            ]
          },
          "metadata": {
            "tags": []
          },
          "execution_count": 62
        }
      ]
    },
    {
      "cell_type": "code",
      "metadata": {
        "id": "YkbElUg2wkG9",
        "colab_type": "code",
        "colab": {}
      },
      "source": [
        "data = pd.DataFrame(X_train).iloc[:,0:2]\n",
        "data['label']=labels\n",
        "data.columns= ['P1','P2','label']"
      ],
      "execution_count": 0,
      "outputs": []
    },
    {
      "cell_type": "code",
      "metadata": {
        "id": "_ikFNQD3YCfj",
        "colab_type": "code",
        "colab": {}
      },
      "source": [
        "after_gmm = pd.DataFrame(a[a['pre_define_cat']== 'desktop'])\n",
        "after_gmm['cluster'] = labels"
      ],
      "execution_count": 0,
      "outputs": []
    },
    {
      "cell_type": "code",
      "metadata": {
        "id": "M7Bgpax-SmcP",
        "colab_type": "code",
        "outputId": "b4b2bdb9-7226-4866-c20b-18a95d209230",
        "colab": {
          "base_uri": "https://localhost:8080/",
          "height": 440
        }
      },
      "source": [
        "cluster_gmm_results = {}\n",
        "for i in range(len(set(labels))):\n",
        "  print(i)\n",
        "  x1 = after_kmeans['product_name'][after_gmm['cluster']==i].tolist()\n",
        "  ans = ldafunc(x1)\n",
        "  num = 'cluster'+str(i)\n",
        "  cluster_gmm_results[num] = ans"
      ],
      "execution_count": 0,
      "outputs": [
        {
          "output_type": "stream",
          "text": [
            "0\n"
          ],
          "name": "stdout"
        },
        {
          "output_type": "stream",
          "text": [
            "/usr/local/lib/python3.6/dist-packages/gensim/models/phrases.py:598: UserWarning: For a faster implementation, use the gensim.models.phrases.Phraser class\n",
            "  warnings.warn(\"For a faster implementation, use the gensim.models.phrases.Phraser class\")\n"
          ],
          "name": "stderr"
        },
        {
          "output_type": "stream",
          "text": [
            "1\n"
          ],
          "name": "stdout"
        },
        {
          "output_type": "stream",
          "text": [
            "/usr/local/lib/python3.6/dist-packages/gensim/models/phrases.py:598: UserWarning: For a faster implementation, use the gensim.models.phrases.Phraser class\n",
            "  warnings.warn(\"For a faster implementation, use the gensim.models.phrases.Phraser class\")\n"
          ],
          "name": "stderr"
        },
        {
          "output_type": "stream",
          "text": [
            "2\n"
          ],
          "name": "stdout"
        },
        {
          "output_type": "stream",
          "text": [
            "/usr/local/lib/python3.6/dist-packages/gensim/models/phrases.py:598: UserWarning: For a faster implementation, use the gensim.models.phrases.Phraser class\n",
            "  warnings.warn(\"For a faster implementation, use the gensim.models.phrases.Phraser class\")\n"
          ],
          "name": "stderr"
        },
        {
          "output_type": "stream",
          "text": [
            "3\n"
          ],
          "name": "stdout"
        },
        {
          "output_type": "stream",
          "text": [
            "/usr/local/lib/python3.6/dist-packages/gensim/models/phrases.py:598: UserWarning: For a faster implementation, use the gensim.models.phrases.Phraser class\n",
            "  warnings.warn(\"For a faster implementation, use the gensim.models.phrases.Phraser class\")\n"
          ],
          "name": "stderr"
        },
        {
          "output_type": "stream",
          "text": [
            "4\n"
          ],
          "name": "stdout"
        },
        {
          "output_type": "stream",
          "text": [
            "/usr/local/lib/python3.6/dist-packages/gensim/models/phrases.py:598: UserWarning: For a faster implementation, use the gensim.models.phrases.Phraser class\n",
            "  warnings.warn(\"For a faster implementation, use the gensim.models.phrases.Phraser class\")\n"
          ],
          "name": "stderr"
        },
        {
          "output_type": "stream",
          "text": [
            "5\n"
          ],
          "name": "stdout"
        },
        {
          "output_type": "stream",
          "text": [
            "/usr/local/lib/python3.6/dist-packages/gensim/models/phrases.py:598: UserWarning: For a faster implementation, use the gensim.models.phrases.Phraser class\n",
            "  warnings.warn(\"For a faster implementation, use the gensim.models.phrases.Phraser class\")\n"
          ],
          "name": "stderr"
        },
        {
          "output_type": "stream",
          "text": [
            "6\n"
          ],
          "name": "stdout"
        },
        {
          "output_type": "stream",
          "text": [
            "/usr/local/lib/python3.6/dist-packages/gensim/models/phrases.py:598: UserWarning: For a faster implementation, use the gensim.models.phrases.Phraser class\n",
            "  warnings.warn(\"For a faster implementation, use the gensim.models.phrases.Phraser class\")\n"
          ],
          "name": "stderr"
        },
        {
          "output_type": "stream",
          "text": [
            "7\n"
          ],
          "name": "stdout"
        },
        {
          "output_type": "stream",
          "text": [
            "/usr/local/lib/python3.6/dist-packages/gensim/models/phrases.py:598: UserWarning: For a faster implementation, use the gensim.models.phrases.Phraser class\n",
            "  warnings.warn(\"For a faster implementation, use the gensim.models.phrases.Phraser class\")\n"
          ],
          "name": "stderr"
        }
      ]
    },
    {
      "cell_type": "code",
      "metadata": {
        "id": "HCv6FxqRvLTu",
        "colab_type": "code",
        "outputId": "b3330b9d-71c6-4376-a983-f83e1e20f378",
        "colab": {
          "base_uri": "https://localhost:8080/",
          "height": 594
        }
      },
      "source": [
        "import matplotlib\n",
        "cmap={0:'blue',1:'lightpink',2:'green',3:'yellow',4:'purple',5:'brown',6:'orange',7:'coral',8:'deeppink',9:'darkblue'}\n",
        "\n",
        "fig, ax = plt.subplots()\n",
        "for l in range(len(data.loc[:,'label'].unique())):\n",
        "  pca_temp = data[data['label']==l]\n",
        "  ax.scatter(pca_temp['P1'], pca_temp['P2'], c=cmap[l], label= 'Cluster '+str(l))\n",
        "ax.legend()\n",
        "fig.set_size_inches(10,10)\n"
      ],
      "execution_count": 0,
      "outputs": [
        {
          "output_type": "display_data",
          "data": {
            "image/png": "[encoded data removed]",
            "text/plain": [
              "<Figure size 720x720 with 1 Axes>"
            ]
          },
          "metadata": {
            "tags": []
          }
        }
      ]
    },
    {
      "cell_type": "code",
      "metadata": {
        "id": "EK5uYYL4b2Au",
        "colab_type": "code",
        "outputId": "0aa42674-dcfa-4570-f565-57bb0bc82f51",
        "colab": {
          "base_uri": "https://localhost:8080/",
          "height": 440
        }
      },
      "source": [
        "cluster_gmm_results"
      ],
      "execution_count": 0,
      "outputs": [
        {
          "output_type": "execute_result",
          "data": {
            "text/plain": [
              "{'cluster0': [(0,\n",
              "   '0.126*\"home\" + 0.126*\"core\" + 0.125*\"window\" + 0.125*\"factor\" + 0.125*\"desktop\" + 0.124*\"small\" + 0.124*\"gb\" + 0.124*\"form\"'),\n",
              "  (1,\n",
              "   '0.235*\"core\" + 0.167*\"home\" + 0.100*\"form\" + 0.100*\"gb\" + 0.100*\"small\" + 0.100*\"desktop\" + 0.100*\"factor\" + 0.099*\"window\"')],\n",
              " 'cluster1': [(0,\n",
              "   '0.113*\"core\" + 0.110*\"refurbish\" + 0.092*\"keyboard\" + 0.088*\"monitor\" + 0.059*\"window\" + 0.048*\"include\" + 0.043*\"pro\" + 0.042*\"pc\" + 0.035*\"memory\" + 0.033*\"dual\"'),\n",
              "  (1,\n",
              "   '0.141*\"pc\" + 0.116*\"home\" + 0.057*\"desktop\" + 0.049*\"computer\" + 0.045*\"refurbish\" + 0.042*\"core\" + 0.035*\"wifi\" + 0.031*\"gaming\" + 0.030*\"usb\" + 0.026*\"memory\"')],\n",
              " 'cluster2': [(0, '0.336*\"memory\" + 0.336*\"graphic\" + 0.328*\"flash\"'),\n",
              "  (1, '0.336*\"flash\" + 0.332*\"graphic\" + 0.332*\"memory\"')],\n",
              " 'cluster3': [(0,\n",
              "   '0.114*\"pc\" + 0.114*\"pavilion\" + 0.114*\"privacy\" + 0.114*\"fhd\" + 0.114*\"keyboard\" + 0.068*\"wireless\" + 0.068*\"optane\" + 0.068*\"core\" + 0.068*\"memory\" + 0.023*\"intel\"'),\n",
              "  (1,\n",
              "   '0.120*\"memory\" + 0.118*\"pc\" + 0.072*\"core\" + 0.071*\"pavilion\" + 0.071*\"touch\" + 0.071*\"home\" + 0.071*\"drive\" + 0.071*\"processor\" + 0.071*\"hard\" + 0.071*\"celerion\"')],\n",
              " 'cluster4': [(0, '0.507*\"linux\" + 0.493*\"desktop\"'),\n",
              "  (1, '0.504*\"desktop\" + 0.496*\"linux\"')],\n",
              " 'cluster5': [(0,\n",
              "   '0.122*\"service\" + 0.073*\"year\" + 0.073*\"remote\" + 0.073*\"none\" + 0.073*\"home\" + 0.073*\"vpro\" + 0.073*\"diagnosis\" + 0.073*\"hardware\" + 0.073*\"monitor\" + 0.073*\"pro\"'),\n",
              "  (1,\n",
              "   '0.077*\"service\" + 0.077*\"bit\" + 0.077*\"win\" + 0.077*\"onsite\" + 0.077*\"pro\" + 0.077*\"monitor\" + 0.077*\"hardware\" + 0.077*\"diagnosis\" + 0.077*\"vpro\" + 0.077*\"home\"')],\n",
              " 'cluster6': [(0,\n",
              "   '0.090*\"refurbish\" + 0.083*\"computer\" + 0.083*\"late\" + 0.070*\"keyboard\" + 0.068*\"mouse\" + 0.068*\"include\" + 0.068*\"display\" + 0.053*\"grade\" + 0.053*\"imac\" + 0.053*\"apple\"'),\n",
              "  (1,\n",
              "   '0.115*\"core\" + 0.090*\"wlan\" + 0.090*\"full\" + 0.089*\"lead\" + 0.087*\"keyboard\" + 0.039*\"bit\" + 0.039*\"home\" + 0.039*\"remarkete\" + 0.039*\"win\" + 0.039*\"monitor\"')]}"
            ]
          },
          "metadata": {
            "tags": []
          },
          "execution_count": 91
        }
      ]
    }
  ]
}
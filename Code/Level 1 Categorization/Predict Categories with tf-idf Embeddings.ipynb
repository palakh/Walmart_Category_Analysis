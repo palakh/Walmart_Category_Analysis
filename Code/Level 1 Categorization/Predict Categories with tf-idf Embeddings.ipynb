{
  "nbformat": 4,
  "nbformat_minor": 0,
  "metadata": {
    "colab": {
      "name": "tf-idf+PCA+RF_Palakh.ipynb",
      "provenance": [],
      "collapsed_sections": [],
      "machine_shape": "hm"
    },
    "kernelspec": {
      "name": "python3",
      "display_name": "Python 3"
    }
  },
  "cells": [
    {
      "cell_type": "markdown",
      "metadata": {
        "id": "dq78zjUpkctM",
        "colab_type": "text"
      },
      "source": [
        "**Get Data**"
      ]
    },
    {
      "cell_type": "markdown",
      "metadata": {
        "id": "Jx_9z5fEDe9X",
        "colab_type": "text"
      },
      "source": [
        "**ALL FUNCTIONS**"
      ]
    },
    {
      "cell_type": "code",
      "metadata": {
        "id": "Fg_3L6xJDd37",
        "colab_type": "code",
        "colab": {}
      },
      "source": [
        "custom_spec_list = ['Specifications','Processor Type','Hard Drive Capacity','Condition','Product Dimensions (L x W x H)','Processor Speed','Manufacturer Part Number','Wireless Technology','RAM Memory','Maximum RAM Supported'\n",
        ",'Operating System','Model','Screen Size','Brand',' Inches','Supported Media Format','See Description']\n",
        "\n",
        "def preprocess(pdf):\n",
        "  custom_spec_list = ['Specifications','Processor Type','Hard Drive Capacity','Condition','Product Dimensions (L x W x H)','Processor Speed','Manufacturer Part Number','Wireless Technology','RAM Memory','Maximum RAM Supported'\n",
        "  ,'Operating System','Model','Screen Size','Brand',' Inches','Supported Media Format','See Description']\n",
        "  for i in custom_spec_list:\n",
        "    pdf=str(pdf).lstrip().rstrip().replace(i,' ')\n",
        "  return pdf\n",
        "\n",
        "def corpus_create(corpus,p):\n",
        "  for i in p:\n",
        "    corpus.append(i)\n",
        "  \n",
        "    "
      ],
      "execution_count": 0,
      "outputs": []
    },
    {
      "cell_type": "markdown",
      "metadata": {
        "id": "Qujw0iWmDiNR",
        "colab_type": "text"
      },
      "source": [
        "**Mount drive**"
      ]
    },
    {
      "cell_type": "code",
      "metadata": {
        "id": "iDUjUwm1DWJS",
        "colab_type": "code",
        "outputId": "feedb5f1-688b-4525-ef5f-9e3150d5bb43",
        "colab": {
          "base_uri": "https://localhost:8080/",
          "height": 121
        }
      },
      "source": [
        "#Mount google drive to upload file\n",
        "from google.colab import drive\n",
        "drive.mount('/content/drive')"
      ],
      "execution_count": 0,
      "outputs": [
        {
          "output_type": "stream",
          "text": [
            "Go to this URL in a browser: https://accounts.google.com/o/oauth2/auth?client_id=947318989803-6bn6qk8qdgf4n4g3pfee6491hc0brc4i.apps.googleusercontent.com&redirect_uri=urn%3aietf%3awg%3aoauth%3a2.0%3aoob&response_type=code&scope=email%20https%3a%2f%2fwww.googleapis.com%2fauth%2fdocs.test%20https%3a%2f%2fwww.googleapis.com%2fauth%2fdrive%20https%3a%2f%2fwww.googleapis.com%2fauth%2fdrive.photos.readonly%20https%3a%2f%2fwww.googleapis.com%2fauth%2fpeopleapi.readonly\n",
            "\n",
            "Enter your authorization code:\n",
            "··········\n",
            "Mounted at /content/drive\n"
          ],
          "name": "stdout"
        }
      ]
    },
    {
      "cell_type": "code",
      "metadata": {
        "id": "CTuneEYNce_K",
        "colab_type": "code",
        "colab": {}
      },
      "source": [
        "from google.colab import drive\n",
        "drive.mount('/content/drive')"
      ],
      "execution_count": 0,
      "outputs": []
    },
    {
      "cell_type": "markdown",
      "metadata": {
        "id": "pzX3mQsomRDs",
        "colab_type": "text"
      },
      "source": [
        "**All Imports**"
      ]
    },
    {
      "cell_type": "code",
      "metadata": {
        "id": "fcpJEz1XmQUd",
        "colab_type": "code",
        "outputId": "5bc70de3-4a37-4588-eaf5-35f4ef1d6444",
        "colab": {
          "base_uri": "https://localhost:8080/",
          "height": 34
        }
      },
      "source": [
        "import pandas as pd\n",
        "!pip install stop_words\n",
        "from stop_words import get_stop_words\n",
        "import re\n",
        "from sklearn.feature_extraction.text import TfidfVectorizer"
      ],
      "execution_count": 0,
      "outputs": [
        {
          "output_type": "stream",
          "text": [
            "Requirement already satisfied: stop_words in /usr/local/lib/python3.6/dist-packages (2018.7.23)\n"
          ],
          "name": "stdout"
        }
      ]
    },
    {
      "cell_type": "markdown",
      "metadata": {
        "id": "X2ukIusruKkv",
        "colab_type": "text"
      },
      "source": [
        "**Read in the scraped data**"
      ]
    },
    {
      "cell_type": "code",
      "metadata": {
        "id": "cpudMAJOkX65",
        "colab_type": "code",
        "colab": {}
      },
      "source": [
        "df = pd.read_excel('/content/all_data.xlsx')\n",
        "df.head()\n",
        "df['Category'] = 0"
      ],
      "execution_count": 0,
      "outputs": []
    },
    {
      "cell_type": "markdown",
      "metadata": {
        "id": "r4owChvguPDu",
        "colab_type": "text"
      },
      "source": [
        "**Category Path - y**\n",
        "\n",
        "\n",
        "**Very Imp - Removing products which don't have a path**"
      ]
    },
    {
      "cell_type": "code",
      "metadata": {
        "id": "q8xkygcp-pkF",
        "colab_type": "code",
        "colab": {}
      },
      "source": [
        "df = df[df['product_path'].notnull()]  "
      ],
      "execution_count": 0,
      "outputs": []
    },
    {
      "cell_type": "code",
      "metadata": {
        "id": "HA2g6LeTqINf",
        "colab_type": "code",
        "colab": {}
      },
      "source": [
        "df['Category'] = df['product_path'].apply(lambda x: str(x).split('/')[1])"
      ],
      "execution_count": 0,
      "outputs": []
    },
    {
      "cell_type": "markdown",
      "metadata": {
        "id": "JXJvH8zwbvx7",
        "colab_type": "text"
      },
      "source": [
        "**Dataset Final - Product Name, Category, ATI, Specs**\n",
        "\n",
        "**Presently working with specs** "
      ]
    },
    {
      "cell_type": "code",
      "metadata": {
        "id": "1y7RWLVVskab",
        "colab_type": "code",
        "outputId": "83a32f2c-4ce1-43a2-ad69-8dbc0af9b7a2",
        "colab": {
          "base_uri": "https://localhost:8080/",
          "height": 279
        }
      },
      "source": [
        "\n",
        "final = df[['Category','product_name','product_ati','product_specs']]\n",
        "final.head()"
      ],
      "execution_count": 0,
      "outputs": [
        {
          "output_type": "execute_result",
          "data": {
            "text/html": [
              "<div>\n",
              "<style scoped>\n",
              "    .dataframe tbody tr th:only-of-type {\n",
              "        vertical-align: middle;\n",
              "    }\n",
              "\n",
              "    .dataframe tbody tr th {\n",
              "        vertical-align: top;\n",
              "    }\n",
              "\n",
              "    .dataframe thead th {\n",
              "        text-align: right;\n",
              "    }\n",
              "</style>\n",
              "<table border=\"1\" class=\"dataframe\">\n",
              "  <thead>\n",
              "    <tr style=\"text-align: right;\">\n",
              "      <th></th>\n",
              "      <th>Category</th>\n",
              "      <th>product_name</th>\n",
              "      <th>product_ati</th>\n",
              "      <th>product_specs</th>\n",
              "    </tr>\n",
              "  </thead>\n",
              "  <tbody>\n",
              "    <tr>\n",
              "      <th>0</th>\n",
              "      <td>Computers</td>\n",
              "      <td>Refurbished Lenovo THINKCENTRE M92P-SFF Deskto...</td>\n",
              "      <td>Do as much as you like with this Lenovo THINKC...</td>\n",
              "      <td>SpecificationsBrandLenovoOperating SystemWindo...</td>\n",
              "    </tr>\n",
              "    <tr>\n",
              "      <th>1</th>\n",
              "      <td>Computers</td>\n",
              "      <td>Refurbished Dell Optiplex 790-SFF WA1-0309 Des...</td>\n",
              "      <td>Certified Refurbished Items: \\n  \\n What to Ex...</td>\n",
              "      <td>SpecificationsBrandDellOperating SystemWindows...</td>\n",
              "    </tr>\n",
              "    <tr>\n",
              "      <th>2</th>\n",
              "      <td>Computers</td>\n",
              "      <td>HP 8200 Elite Desktop Computer with Windows 10...</td>\n",
              "      <td>This HP desktop computer is very fast and depe...</td>\n",
              "      <td>SpecificationsBrandHPOperating SystemWindows 1...</td>\n",
              "    </tr>\n",
              "    <tr>\n",
              "      <th>3</th>\n",
              "      <td>Computers</td>\n",
              "      <td>Apple iMac 21.5\" 2.7GHz Core i5 (ME086LL/A) Al...</td>\n",
              "      <td>The iMac \"Core i5\" 2.7 21.5-Inch Aluminum (Lat...</td>\n",
              "      <td>SpecificationsBrandAppleOperating SystemMac OS...</td>\n",
              "    </tr>\n",
              "    <tr>\n",
              "      <th>4</th>\n",
              "      <td>Computers</td>\n",
              "      <td>Refurbished - Dell Optiplex Desktop Computer 3...</td>\n",
              "      <td>Refurbished - Dell Optiplex Desktop Computer 3...</td>\n",
              "      <td>SpecificationsBrandDellOperating SystemWindows...</td>\n",
              "    </tr>\n",
              "  </tbody>\n",
              "</table>\n",
              "</div>"
            ],
            "text/plain": [
              "    Category  ...                                      product_specs\n",
              "0  Computers  ...  SpecificationsBrandLenovoOperating SystemWindo...\n",
              "1  Computers  ...  SpecificationsBrandDellOperating SystemWindows...\n",
              "2  Computers  ...  SpecificationsBrandHPOperating SystemWindows 1...\n",
              "3  Computers  ...  SpecificationsBrandAppleOperating SystemMac OS...\n",
              "4  Computers  ...  SpecificationsBrandDellOperating SystemWindows...\n",
              "\n",
              "[5 rows x 4 columns]"
            ]
          },
          "metadata": {
            "tags": []
          },
          "execution_count": 9
        }
      ]
    },
    {
      "cell_type": "markdown",
      "metadata": {
        "id": "Xf-HbF_hb7Ra",
        "colab_type": "text"
      },
      "source": [
        "**Preprocessed the SPECS with a user defined functions**"
      ]
    },
    {
      "cell_type": "code",
      "metadata": {
        "id": "W2IuvN7aYyI5",
        "colab_type": "code",
        "outputId": "7c5f980a-fb16-41d6-8c8b-75e0d0210738",
        "colab": {
          "base_uri": "https://localhost:8080/",
          "height": 481
        }
      },
      "source": [
        "final['cleaned_specs']= final['product_specs']\n",
        "final['cleaned_specs'] = final['cleaned_specs'].apply(preprocess)\n",
        "final.head()"
      ],
      "execution_count": 0,
      "outputs": [
        {
          "output_type": "stream",
          "text": [
            "/usr/local/lib/python3.6/dist-packages/ipykernel_launcher.py:1: SettingWithCopyWarning: \n",
            "A value is trying to be set on a copy of a slice from a DataFrame.\n",
            "Try using .loc[row_indexer,col_indexer] = value instead\n",
            "\n",
            "See the caveats in the documentation: https://pandas.pydata.org/pandas-docs/stable/user_guide/indexing.html#returning-a-view-versus-a-copy\n",
            "  \"\"\"Entry point for launching an IPython kernel.\n",
            "/usr/local/lib/python3.6/dist-packages/ipykernel_launcher.py:2: SettingWithCopyWarning: \n",
            "A value is trying to be set on a copy of a slice from a DataFrame.\n",
            "Try using .loc[row_indexer,col_indexer] = value instead\n",
            "\n",
            "See the caveats in the documentation: https://pandas.pydata.org/pandas-docs/stable/user_guide/indexing.html#returning-a-view-versus-a-copy\n",
            "  \n"
          ],
          "name": "stderr"
        },
        {
          "output_type": "execute_result",
          "data": {
            "text/html": [
              "<div>\n",
              "<style scoped>\n",
              "    .dataframe tbody tr th:only-of-type {\n",
              "        vertical-align: middle;\n",
              "    }\n",
              "\n",
              "    .dataframe tbody tr th {\n",
              "        vertical-align: top;\n",
              "    }\n",
              "\n",
              "    .dataframe thead th {\n",
              "        text-align: right;\n",
              "    }\n",
              "</style>\n",
              "<table border=\"1\" class=\"dataframe\">\n",
              "  <thead>\n",
              "    <tr style=\"text-align: right;\">\n",
              "      <th></th>\n",
              "      <th>Category</th>\n",
              "      <th>product_name</th>\n",
              "      <th>product_ati</th>\n",
              "      <th>product_specs</th>\n",
              "      <th>cleaned_specs</th>\n",
              "    </tr>\n",
              "  </thead>\n",
              "  <tbody>\n",
              "    <tr>\n",
              "      <th>0</th>\n",
              "      <td>Computers</td>\n",
              "      <td>Refurbished Lenovo THINKCENTRE M92P-SFF Deskto...</td>\n",
              "      <td>Do as much as you like with this Lenovo THINKC...</td>\n",
              "      <td>SpecificationsBrandLenovoOperating SystemWindo...</td>\n",
              "      <td>Lenovo Windows 10 4 GB M92P Intel Core i5-3470...</td>\n",
              "    </tr>\n",
              "    <tr>\n",
              "      <th>1</th>\n",
              "      <td>Computers</td>\n",
              "      <td>Refurbished Dell Optiplex 790-SFF WA1-0309 Des...</td>\n",
              "      <td>Certified Refurbished Items: \\n  \\n What to Ex...</td>\n",
              "      <td>SpecificationsBrandDellOperating SystemWindows...</td>\n",
              "      <td>Dell Windows 10 8 GB 790 Intel Core i5-2500 Pr...</td>\n",
              "    </tr>\n",
              "    <tr>\n",
              "      <th>2</th>\n",
              "      <td>Computers</td>\n",
              "      <td>HP 8200 Elite Desktop Computer with Windows 10...</td>\n",
              "      <td>This HP desktop computer is very fast and depe...</td>\n",
              "      <td>SpecificationsBrandHPOperating SystemWindows 1...</td>\n",
              "      <td>HP Windows 10 4.00 GB 8200 Elite Intel Quad Co...</td>\n",
              "    </tr>\n",
              "    <tr>\n",
              "      <th>3</th>\n",
              "      <td>Computers</td>\n",
              "      <td>Apple iMac 21.5\" 2.7GHz Core i5 (ME086LL/A) Al...</td>\n",
              "      <td>The iMac \"Core i5\" 2.7 21.5-Inch Aluminum (Lat...</td>\n",
              "      <td>SpecificationsBrandAppleOperating SystemMac OS...</td>\n",
              "      <td>Apple Mac OS 10.12 Sierra, Mac OS 8 GB ME086LL...</td>\n",
              "    </tr>\n",
              "    <tr>\n",
              "      <th>4</th>\n",
              "      <td>Computers</td>\n",
              "      <td>Refurbished - Dell Optiplex Desktop Computer 3...</td>\n",
              "      <td>Refurbished - Dell Optiplex Desktop Computer 3...</td>\n",
              "      <td>SpecificationsBrandDellOperating SystemWindows...</td>\n",
              "      <td>Dell Windows 10 4.00 GB K_00180 Intel Core 2 D...</td>\n",
              "    </tr>\n",
              "  </tbody>\n",
              "</table>\n",
              "</div>"
            ],
            "text/plain": [
              "    Category  ...                                      cleaned_specs\n",
              "0  Computers  ...  Lenovo Windows 10 4 GB M92P Intel Core i5-3470...\n",
              "1  Computers  ...  Dell Windows 10 8 GB 790 Intel Core i5-2500 Pr...\n",
              "2  Computers  ...  HP Windows 10 4.00 GB 8200 Elite Intel Quad Co...\n",
              "3  Computers  ...  Apple Mac OS 10.12 Sierra, Mac OS 8 GB ME086LL...\n",
              "4  Computers  ...  Dell Windows 10 4.00 GB K_00180 Intel Core 2 D...\n",
              "\n",
              "[5 rows x 5 columns]"
            ]
          },
          "metadata": {
            "tags": []
          },
          "execution_count": 10
        }
      ]
    },
    {
      "cell_type": "markdown",
      "metadata": {
        "id": "EyQTNB5fDOP6",
        "colab_type": "text"
      },
      "source": [
        "**Baseline Model - tf-idf**"
      ]
    },
    {
      "cell_type": "markdown",
      "metadata": {
        "id": "9Afa8yW9Cl8Y",
        "colab_type": "text"
      },
      "source": [
        "**Creating corpus and using td-idf vectorizer**"
      ]
    },
    {
      "cell_type": "code",
      "metadata": {
        "id": "Mo2GYa0b249D",
        "colab_type": "code",
        "colab": {}
      },
      "source": [
        "#count vectorizer \n",
        "corpus = []\n",
        "corpus_create(corpus,final['cleaned_specs'])\n",
        "vectorizer = TfidfVectorizer()\n",
        "tfidf_final = vectorizer.fit_transform(corpus)"
      ],
      "execution_count": 0,
      "outputs": []
    },
    {
      "cell_type": "code",
      "metadata": {
        "id": "teZ_9yaNe0UH",
        "colab_type": "code",
        "colab": {}
      },
      "source": [
        "corp = pd.DataFrame()\n",
        "corp['collected'] = list(tfidf_final.toarray())\n",
        "fin_l=[]\n",
        "for i in corp['collected']:\n",
        "  fin_l.append(list(i))\n",
        "\n",
        "df1 = pd.DataFrame(fin_l)\n"
      ],
      "execution_count": 0,
      "outputs": []
    },
    {
      "cell_type": "code",
      "metadata": {
        "id": "ygzus6HfICsK",
        "colab_type": "code",
        "outputId": "e2d765b0-34ea-4505-9961-9f7386d9a5ba",
        "colab": {
          "base_uri": "https://localhost:8080/",
          "height": 34
        }
      },
      "source": [
        "df1.shape\n",
        "#df1.to_csv('tf-idfValues')"
      ],
      "execution_count": 0,
      "outputs": [
        {
          "output_type": "execute_result",
          "data": {
            "text/plain": [
              "(13085, 20243)"
            ]
          },
          "metadata": {
            "tags": []
          },
          "execution_count": 24
        }
      ]
    },
    {
      "cell_type": "markdown",
      "metadata": {
        "id": "KbXxPMSYcJCA",
        "colab_type": "text"
      },
      "source": [
        "**Adding feature names to tf-idf matrix**"
      ]
    },
    {
      "cell_type": "code",
      "metadata": {
        "id": "yamUi78wkCi7",
        "colab_type": "code",
        "colab": {}
      },
      "source": [
        "a = vectorizer.vocabulary_\n",
        "len(a.keys())\n",
        "df1.columns = a.keys()\n",
        "df1['product_name'] = final['product_name']"
      ],
      "execution_count": 0,
      "outputs": []
    },
    {
      "cell_type": "code",
      "metadata": {
        "id": "9AVh6E7BucS6",
        "colab_type": "code",
        "colab": {}
      },
      "source": [
        "df1['product_name'] = final['product_name']\n",
        "df1"
      ],
      "execution_count": 0,
      "outputs": []
    },
    {
      "cell_type": "markdown",
      "metadata": {
        "id": "MKRvdvhjcQ1C",
        "colab_type": "text"
      },
      "source": [
        "**Final Dataset - df1**"
      ]
    },
    {
      "cell_type": "code",
      "metadata": {
        "id": "f-Ul5Gkd1_8I",
        "colab_type": "code",
        "colab": {}
      },
      "source": [
        "#df1.to_csv('Final_tf-idf_df')\n",
        "import pandas as pd\n",
        "df1 = pd.read_csv('/content/Final_tf-idf_df')"
      ],
      "execution_count": 0,
      "outputs": []
    },
    {
      "cell_type": "code",
      "metadata": {
        "id": "TxdT4MGmCfhT",
        "colab_type": "code",
        "colab": {}
      },
      "source": [
        "df1= df1.loc[:, df1.columns != 'Unnamed: 0']\n",
        "df1"
      ],
      "execution_count": 0,
      "outputs": []
    },
    {
      "cell_type": "markdown",
      "metadata": {
        "id": "3WTi_Rs7C8z3",
        "colab_type": "text"
      },
      "source": [
        "**Td-idf Vectorization done**"
      ]
    },
    {
      "cell_type": "markdown",
      "metadata": {
        "id": "CIedWd0WDBe1",
        "colab_type": "text"
      },
      "source": [
        "**Second Part - PCA, LDA, t-SNE, AE**\n",
        "\n",
        "\n",
        "**PCA**"
      ]
    },
    {
      "cell_type": "markdown",
      "metadata": {
        "id": "WTlel9aUcXIX",
        "colab_type": "text"
      },
      "source": [
        "**y variable**"
      ]
    },
    {
      "cell_type": "code",
      "metadata": {
        "id": "giHnCnMtBqqV",
        "colab_type": "code",
        "colab": {}
      },
      "source": [
        "final['Category'].unique()"
      ],
      "execution_count": 0,
      "outputs": []
    },
    {
      "cell_type": "code",
      "metadata": {
        "id": "AzrLp4c_428m",
        "colab_type": "code",
        "colab": {}
      },
      "source": [
        "from sklearn.model_selection import train_test_split \n",
        "from sklearn.preprocessing import StandardScaler\n",
        "from sklearn.decomposition import PCA  \n",
        "sc = StandardScaler() \n",
        "\n",
        "def PCArun(df,testdata,x):\n",
        "  # Creating train and test set\n",
        "  X_train, X_test, y_train, y_test = train_test_split(df, testdata, test_size = 0.2, random_state = 0) \n",
        "\n",
        "  #Fitting model  \n",
        "  X_train = sc.fit_transform(X_train) \n",
        "  X_test = sc.transform(X_test) \n",
        "\n",
        "  # Applying PCA function on training for 80% variance \n",
        "  pca = PCA(x) \n",
        "  \n",
        "  X_train = pca.fit_transform(X_train) \n",
        "  X_test = pca.transform(X_test)  \n",
        "  explained_variance = pca.explained_variance_ratio_ \n",
        "  return X_train, X_test,y_train,y_test,explained_variance\n",
        "\n",
        "\n"
      ],
      "execution_count": 0,
      "outputs": []
    },
    {
      "cell_type": "markdown",
      "metadata": {
        "id": "MRkGOArSMdvo",
        "colab_type": "text"
      },
      "source": [
        "**Random Forest for final output**"
      ]
    },
    {
      "cell_type": "code",
      "metadata": {
        "id": "SNbIN0B93pxZ",
        "colab_type": "code",
        "colab": {}
      },
      "source": [
        "from sklearn.ensemble import RandomForestClassifier\n",
        "from sklearn.metrics import confusion_matrix\n",
        "from sklearn.metrics import accuracy_score\n",
        "from sklearn.metrics import mean_squared_error\n",
        "from sklearn.metrics import accuracy_score\n",
        "from sklearn.metrics import roc_curve, roc_auc_score, f1_score"
      ],
      "execution_count": 0,
      "outputs": []
    },
    {
      "cell_type": "markdown",
      "metadata": {
        "id": "yre3stvq2pEi",
        "colab_type": "text"
      },
      "source": [
        "**1. RF for Non PCA Data**"
      ]
    },
    {
      "cell_type": "code",
      "metadata": {
        "id": "H5E6Fcvk2n4J",
        "colab_type": "code",
        "outputId": "759ef1be-bc10-4f21-9768-2c74569f12ed",
        "colab": {
          "base_uri": "https://localhost:8080/",
          "height": 50
        }
      },
      "source": [
        "X_train_non_pca, X_test_non_pca,y_train_non_pca, y_test_non_pca, = train_test_split(df1.loc[:, df1.columns != 'product_name'],final['Category'], test_size = 0.2, random_state = 0) \n",
        "\n",
        "\n",
        "classifier_non_pca = RandomForestClassifier(max_depth=2, random_state=0,)\n",
        "classifier_non_pca.fit(X_train_non_pca, y_train_non_pca)\n",
        "\n",
        "# Predicting the Test set results\n",
        "y_pred_non_pca = classifier_non_pca.predict(X_test_non_pca)\n",
        "\n",
        "cm_non_pca = confusion_matrix(y_test_non_pca, y_pred_non_pca)\n",
        "\n",
        "print(f1_score(y_test_non_pca, y_pred_non_pca,average='weighted'))\n",
        "print(accuracy_score(y_test_non_pca, y_pred_non_pca))\n"
      ],
      "execution_count": 0,
      "outputs": [
        {
          "output_type": "stream",
          "text": [
            "0.43415696568428047\n",
            "0.5869316010699274\n"
          ],
          "name": "stdout"
        }
      ]
    },
    {
      "cell_type": "markdown",
      "metadata": {
        "id": "YqkAEDuebYQ-",
        "colab_type": "text"
      },
      "source": [
        "**2. RF for PCA Data - 0.7**"
      ]
    },
    {
      "cell_type": "code",
      "metadata": {
        "id": "AQfU3THROthN",
        "colab_type": "code",
        "outputId": "e886c196-3081-4fcc-a075-d22d5f364ed3",
        "colab": {
          "base_uri": "https://localhost:8080/",
          "height": 50
        }
      },
      "source": [
        "\n",
        "X_train_seven, X_test_seven,y_train_seven,y_test_seven, explained_variance_seven = PCArun(df1.loc[:, df1.columns != 'product_name'],final['Category'],0.7)\n",
        "classifier_seven = RandomForestClassifier(max_depth=2, random_state=0,)\n",
        "classifier_seven.fit(X_train_seven, y_train_seven)\n",
        "# Predicting the Test set results\n",
        "y_pred_seven = classifier.predict(X_test_seven)\n",
        "#y_pred\n",
        "cm = confusion_matrix(y_test_seven, y_pred_seven)\n",
        "\n",
        "print(\"f1 Score:\", round(f1_score(y_test_seven, y_pred_seven,average='weighted'),4), \"\\n\"\n",
        "     \"Accuracy:\", round(accuracy_score(y_test_seven, y_pred_seven),4))"
      ],
      "execution_count": 0,
      "outputs": [
        {
          "output_type": "stream",
          "text": [
            "f1 Score: 0.7002 \n",
            "Accuracy: 0.7711\n"
          ],
          "name": "stdout"
        }
      ]
    },
    {
      "cell_type": "markdown",
      "metadata": {
        "id": "rdlDkeBUEyIX",
        "colab_type": "text"
      },
      "source": [
        "**3. RF for PCA Data - 0.8**\n",
        "\n",
        "**PCA gives us 3097 dimensions for 80% variance**\n"
      ]
    },
    {
      "cell_type": "code",
      "metadata": {
        "id": "o43m5ycwEyp2",
        "colab_type": "code",
        "outputId": "9a4b11d9-1901-4835-89cf-9b542b0baee0",
        "colab": {
          "base_uri": "https://localhost:8080/",
          "height": 50
        }
      },
      "source": [
        "X_train_eight, X_test_eight,y_train_eight,y_test_eight, explained_variance_eight = PCArun(df1.loc[:, df1.columns != 'product_name'],final['Category'],0.8)\n",
        "classifier_eight = RandomForestClassifier(max_depth=2, random_state=0,)\n",
        "classifier_eight.fit(X_train_eight, y_train_eight)\n",
        "# Predicting the Test set results\n",
        "y_pred_eight = classifier_eight.predict(X_test_eight)\n",
        "#y_pred\n",
        "cm = confusion_matrix(y_test_eight, y_pred_eight)\n",
        "\n",
        "print(\"f1 Score:\", round(f1_score(y_test_eight, y_pred_eight,average='weighted'),4), \"\\n\"\n",
        "     \"Accuracy:\", round(accuracy_score(y_test_eight, y_pred_eight),4))"
      ],
      "execution_count": 0,
      "outputs": [
        {
          "output_type": "stream",
          "text": [
            "f1 Score: 0.7013 \n",
            "Accuracy: 0.7723\n"
          ],
          "name": "stdout"
        }
      ]
    },
    {
      "cell_type": "markdown",
      "metadata": {
        "id": "5K1EWJt6HnWV",
        "colab_type": "text"
      },
      "source": [
        "**XGBoost for final output**"
      ]
    },
    {
      "cell_type": "code",
      "metadata": {
        "id": "kstYGIb0L687",
        "colab_type": "code",
        "colab": {}
      },
      "source": [
        "from xgboost import XGBClassifier\n",
        "from sklearn.grid_search import GridSearchCV\n",
        "from sklearn.metrics import mean_squared_error\n",
        "from sklearn.metrics import accuracy_score\n",
        "from sklearn.metrics import roc_curve, roc_auc_score, f1_score"
      ],
      "execution_count": 0,
      "outputs": []
    },
    {
      "cell_type": "markdown",
      "metadata": {
        "id": "dKeQVpScbb9r",
        "colab_type": "text"
      },
      "source": [
        "**1. XGBOOST FOR Non PCA DATA**"
      ]
    },
    {
      "cell_type": "code",
      "metadata": {
        "id": "pFz05iDhcMoC",
        "colab_type": "code",
        "colab": {}
      },
      "source": [
        "from sklearn.metrics import mean_squared_error\n",
        "from sklearn.metrics import accuracy_score\n",
        "from sklearn.metrics import roc_curve, roc_auc_score, f1_score"
      ],
      "execution_count": 0,
      "outputs": []
    },
    {
      "cell_type": "code",
      "metadata": {
        "id": "xwkmorXpcYlS",
        "colab_type": "code",
        "colab": {}
      },
      "source": [
        "from xgboost import XGBClassifier\n",
        "xgb_non_pca = XGBClassifier()\n",
        "xgb_non_pca.fit(X_train_non_pca, y_train_non_pca)\n",
        "y_pred_test_non_pca = xgb_non_pca.predict(X_test_non_pca)\n",
        "print(f1_score(y_test_non_pca ,y_pred_test_non_pca,average='weighted' ))\n",
        "print(accuracy_score(y_test_non_pca ,y_pred_test_non_pca ))\n",
        "\n"
      ],
      "execution_count": 0,
      "outputs": []
    },
    {
      "cell_type": "markdown",
      "metadata": {
        "id": "EDutOVZfH5oh",
        "colab_type": "text"
      },
      "source": [
        "**2. XGBOOST FOR PCA = 0.7**"
      ]
    },
    {
      "cell_type": "code",
      "metadata": {
        "id": "8uFGMcUMcYnp",
        "colab_type": "code",
        "colab": {}
      },
      "source": [
        "xgb_seven = XGBClassifier()\n",
        "xgb_seven .fit(X_train, y_train)\n",
        "y_pred_train_seven  = xgb.predict(X_train_seven)\n",
        "y_pred_test_seven  = xgb.predict(X_test_seven)\n",
        "#y_pred_test_proba = xgb.predict_proba(x_test)[:,1]\n",
        "print(\"training accuracy:\", round(accuracy_score(y_train_seven ,y_pred_train_seven ),4), \"\\n\"\n",
        "     \"test accuracy:\", round(accuracy_score(y_test_seven ,y_pred_test_seven ),4))"
      ],
      "execution_count": 0,
      "outputs": []
    },
    {
      "cell_type": "markdown",
      "metadata": {
        "colab_type": "text",
        "id": "Vz0o8_I6LIQu"
      },
      "source": [
        "**3. XGBOOST FOR PCA = 0.8**"
      ]
    },
    {
      "cell_type": "code",
      "metadata": {
        "id": "krFzWIL2cYwX",
        "colab_type": "code",
        "colab": {}
      },
      "source": [
        "xgb_eight = XGBClassifier()\n",
        "xgb_eight.fit(X_train_eight, y_train_eight)\n",
        "y_pred_train_eight = xgb.predict(X_train_eight)\n",
        "y_pred_test_eight = xgb.predict(X_test_eight)\n",
        "#y_pred_test_proba = xgb.predict_proba(x_test)[:,1]\n",
        "print(\"training accuracy:\", round(accuracy_score(y_train_eight,y_pred_train_eight),4), \"\\n\"\n",
        "     \"test accuracy:\", round(accuracy_score(y_test_eight,y_pred_test_eight),4))"
      ],
      "execution_count": 0,
      "outputs": []
    },
    {
      "cell_type": "markdown",
      "metadata": {
        "id": "_lFTX9CRMBYR",
        "colab_type": "text"
      },
      "source": [
        "**MLP for final output**"
      ]
    },
    {
      "cell_type": "code",
      "metadata": {
        "id": "rCRYWDaWNOb3",
        "colab_type": "code",
        "colab": {}
      },
      "source": [
        "from sklearn.neural_network import MLPClassifier\n",
        "from sklearn.metrics import mean_squared_error\n",
        "from sklearn.metrics import accuracy_score\n",
        "from sklearn.metrics import roc_curve, roc_auc_score, f1_score"
      ],
      "execution_count": 0,
      "outputs": []
    },
    {
      "cell_type": "markdown",
      "metadata": {
        "id": "R18_KtzmMFYB",
        "colab_type": "text"
      },
      "source": [
        "**1. MLP FOR Non PCA DATA**"
      ]
    },
    {
      "cell_type": "code",
      "metadata": {
        "id": "qoEEPEzlcYyR",
        "colab_type": "code",
        "outputId": "ae1c78a5-bc85-48bc-a71e-ce10c647db1c",
        "colab": {
          "base_uri": "https://localhost:8080/",
          "height": 50
        }
      },
      "source": [
        "mlp_non_pca = MLPClassifier()\n",
        "mlp_non_pca .fit(X_train_non_pca , y_train_non_pca)\n",
        "y_pred_test_non_pca  = mlp_non_pca.predict(X_test_non_pca)\n",
        "print(f1_score(y_test_non_pca ,y_pred_test_non_pca,average='weighted' ))\n",
        "print(accuracy_score(y_test_non_pca ,y_pred_test_non_pca ))"
      ],
      "execution_count": 0,
      "outputs": [
        {
          "output_type": "stream",
          "text": [
            "training accuracy: 0.9691 \n",
            "test accuracy: 0.88\n"
          ],
          "name": "stdout"
        }
      ]
    },
    {
      "cell_type": "markdown",
      "metadata": {
        "id": "GDwkuQPHMGVT",
        "colab_type": "text"
      },
      "source": [
        "**2. MLP FOR PCA = 0.7**"
      ]
    },
    {
      "cell_type": "code",
      "metadata": {
        "id": "aFbRNWF1MTR2",
        "colab_type": "code",
        "outputId": "56970d5c-d69f-443c-b57e-dedca82d7e0a",
        "colab": {
          "base_uri": "https://localhost:8080/",
          "height": 50
        }
      },
      "source": [
        "mlp_seven = MLPClassifier()\n",
        "mlp_seven.fit(X_train_seven, y_train_seven)\n",
        "y_pred_test_seven = mlp_seven.predict(X_test_seven)\n",
        "print(f1_score(y_test_seven ,y_pred_test_seven,average='weighted' ))\n",
        "print(accuracy_score(y_test_seven ,y_pred_test_seven))"
      ],
      "execution_count": 0,
      "outputs": [
        {
          "output_type": "stream",
          "text": [
            "0.8582228702317342\n",
            "0.8685517768437142\n"
          ],
          "name": "stdout"
        }
      ]
    },
    {
      "cell_type": "markdown",
      "metadata": {
        "id": "KQXfkxhyMUK0",
        "colab_type": "text"
      },
      "source": [
        "**3. MLP FOR PCA = 0.8**"
      ]
    },
    {
      "cell_type": "code",
      "metadata": {
        "id": "-RtpHUTxMWhH",
        "colab_type": "code",
        "outputId": "758faef6-119e-4e89-dba4-3de8279a7dab",
        "colab": {
          "base_uri": "https://localhost:8080/",
          "height": 50
        }
      },
      "source": [
        "mlp_eight = MLPClassifier()\n",
        "mlp_eight.fit(X_train_eight, y_train_eight)\n",
        "y_pred_test_eight = mlp_eight.predict(X_test_eight)\n",
        "print(f1_score(y_test_eight ,y_pred_test_eight,average='weighted' ))\n",
        "print(accuracy_score(y_test_eight ,y_pred_test_eight))"
      ],
      "execution_count": 0,
      "outputs": [
        {
          "output_type": "stream",
          "text": [
            "0.8597146762569609\n",
            "0.8670233091325946\n"
          ],
          "name": "stdout"
        }
      ]
    },
    {
      "cell_type": "code",
      "metadata": {
        "id": "pKfDZwSMnjMV",
        "colab_type": "code",
        "colab": {}
      },
      "source": [
        "print(f1_score(y_test_eight ,y_pred_test_eight,average='weighted' ))"
      ],
      "execution_count": 0,
      "outputs": []
    },
    {
      "cell_type": "markdown",
      "metadata": {
        "id": "bmNgyE_u3alv",
        "colab_type": "text"
      },
      "source": [
        "**Auto-encoding**"
      ]
    },
    {
      "cell_type": "code",
      "metadata": {
        "id": "s53Hf2SpRbp2",
        "colab_type": "code",
        "colab": {}
      },
      "source": [
        "import seaborn as sns\n",
        "from sklearn.metrics import log_loss\n",
        "from sklearn.model_selection import RandomizedSearchCV\n",
        "from sklearn.ensemble import ExtraTreesClassifier\n",
        "from sklearn.model_selection import train_test_split\n",
        "from sklearn.preprocessing import minmax_scale\n",
        "from numpy.random import seed\n",
        "\n",
        "from keras.layers import Input, Dense\n",
        "from keras.models import Model"
      ],
      "execution_count": 0,
      "outputs": []
    },
    {
      "cell_type": "code",
      "metadata": {
        "id": "GwYITE0JPrWG",
        "colab_type": "code",
        "colab": {}
      },
      "source": [
        "from sklearn.model_selection import train_test_split\n",
        "y = final['pre_define_cat']\n",
        "x_train,x_test,y_train,y_test=train_test_split(all_data_fastext,y,test_size=0.20,random_state=20)"
      ],
      "execution_count": 0,
      "outputs": []
    },
    {
      "cell_type": "code",
      "metadata": {
        "id": "Uwwv94A37En0",
        "colab_type": "code",
        "colab": {}
      },
      "source": [
        "from sklearn.preprocessing import StandardScaler\n",
        "scaler = StandardScaler()\n",
        "scaler.fit(x_train)\n",
        "\n",
        "x_train_sc = scaler.transform(x_train)\n",
        "x_test_sc = scaler.transform(x_test)"
      ],
      "execution_count": 0,
      "outputs": []
    },
    {
      "cell_type": "code",
      "metadata": {
        "id": "PLA6LybzQsSg",
        "colab_type": "code",
        "colab": {}
      },
      "source": [
        "x_sc = scaler.transform(all_data_fastext)"
      ],
      "execution_count": 0,
      "outputs": []
    },
    {
      "cell_type": "code",
      "metadata": {
        "id": "2YWAFxdD8tKH",
        "colab_type": "code",
        "colab": {}
      },
      "source": [
        "def ae_setting(start_feature_num, end_feature_num,X_train,X_test,all_data_scaled):\n",
        "  encoding_dim = end_feature_num\n",
        "  ncol = start_feature_num\n",
        "  middle_num = (start_feature_num+end_feature_num)//2\n",
        "\n",
        "  input_dim = Input(shape = (ncol, ))\n",
        "\n",
        "  # Encoder Layers\n",
        "  encoded1 = Dense(middle_num, activation = 'relu')(input_dim)\n",
        "  encoded2 = Dense(encoding_dim, activation = 'relu')(encoded1)\n",
        "\n",
        "  # Decoder Layers\n",
        "  decoded1 = Dense(middle_num, activation = 'relu')(encoded2)\n",
        "  decoded2 = Dense(ncol, activation = 'sigmoid')(decoded1)\n",
        "\n",
        "  # Combine Encoder and Deocder layers\n",
        "  autoencoder = Model(inputs = input_dim, outputs = decoded2)\n",
        "\n",
        "  # Compile the Model\n",
        "  autoencoder.compile(optimizer = 'adadelta', loss = 'binary_crossentropy')\n",
        "\n",
        "  print(autoencoder.summary())\n",
        "\n",
        "  autoencoder.fit(X_train, X_train, nb_epoch = 30, batch_size = 32, shuffle = False, validation_data = (X_test, X_test))\n",
        "\n",
        "  encoder = Model(inputs = input_dim, outputs = encoded2)\n",
        "  encoded_input = Input(shape = (encoding_dim, ))\n",
        "\n",
        "  encoded_x = pd.DataFrame(encoder.predict(all_data_scaled))\n",
        "  encoded_x = encoded_x.add_prefix('feature_')\n",
        "\n",
        "  return encoded_x"
      ],
      "execution_count": 0,
      "outputs": []
    },
    {
      "cell_type": "code",
      "metadata": {
        "id": "A2kplTu9_LN2",
        "colab_type": "code",
        "colab": {}
      },
      "source": [
        "test_function = ae_setting(30,5,x_train_sc,x_test_sc,x_sc)"
      ],
      "execution_count": 0,
      "outputs": []
    }
  ]
}
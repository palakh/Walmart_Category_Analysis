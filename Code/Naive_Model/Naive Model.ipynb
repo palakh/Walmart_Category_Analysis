{
 "cells": [
  {
   "cell_type": "code",
   "execution_count": 1,
   "metadata": {},
   "outputs": [],
   "source": [
    "import pandas as pd\n",
    "import numpy as np\n",
    "import nltk as nltk\n",
    "from nltk.tokenize import word_tokenize\n",
    "from nltk.stem import WordNetLemmatizer\n",
    "from nltk.stem.snowball import SnowballStemmer\n",
    "import re\n",
    "from sklearn.metrics import mean_squared_error\n",
    "from sklearn.metrics import accuracy_score\n",
    "from sklearn.metrics import roc_curve, roc_auc_score, f1_score\n",
    "from sklearn.metrics import confusion_matrix\n",
    "import scikitplot as skplt"
   ]
  },
  {
   "cell_type": "code",
   "execution_count": 2,
   "metadata": {},
   "outputs": [],
   "source": [
    "df = pd.read_csv('C:/Users/Junhong/Google Drive/Spring 2020/Capstone Project/Data/Final Datasets/all.csv')"
   ]
  },
  {
   "cell_type": "code",
   "execution_count": 3,
   "metadata": {},
   "outputs": [],
   "source": [
    "df['product_name'] = df['product_name'].apply(lambda x: x.lower())"
   ]
  },
  {
   "cell_type": "code",
   "execution_count": 4,
   "metadata": {},
   "outputs": [],
   "source": [
    "df['cat2'] = df['cat2'].apply(lambda x: x.lower())"
   ]
  },
  {
   "cell_type": "code",
   "execution_count": 5,
   "metadata": {},
   "outputs": [
    {
     "data": {
      "text/plain": [
       "0    pantene pro-v conditioner, daily moisture rene...\n",
       "1    ogx anti-breakage keratin oil conditioner, 19....\n",
       "2    ogx ever straightening + brazilian keratin the...\n",
       "3    pantene pro-v radiant color volume conditioner...\n",
       "4    softsheen-carson optimum salon hair care amla ...\n",
       "Name: product_name, dtype: object"
      ]
     },
     "execution_count": 5,
     "metadata": {},
     "output_type": "execute_result"
    }
   ],
   "source": [
    "df['product_name'].head()"
   ]
  },
  {
   "cell_type": "markdown",
   "metadata": {},
   "source": [
    "## Pre-processed the categories"
   ]
  },
  {
   "cell_type": "code",
   "execution_count": 6,
   "metadata": {},
   "outputs": [],
   "source": [
    "#unique_cats = df['cat2'].unique()"
   ]
  },
  {
   "cell_type": "code",
   "execution_count": 7,
   "metadata": {},
   "outputs": [],
   "source": [
    "#unique_cats = pd.DataFrame(unique_cats, columns = ['cats'])"
   ]
  },
  {
   "cell_type": "code",
   "execution_count": 8,
   "metadata": {},
   "outputs": [],
   "source": [
    "#unique_cats.head()"
   ]
  },
  {
   "cell_type": "code",
   "execution_count": 9,
   "metadata": {},
   "outputs": [],
   "source": [
    "#some cleaning on the unique_cats\n",
    "df['tokenized'] = df['cat2'].apply(lambda x: nltk.word_tokenize(x))"
   ]
  },
  {
   "cell_type": "code",
   "execution_count": 10,
   "metadata": {},
   "outputs": [],
   "source": [
    "lemmatizer = WordNetLemmatizer() "
   ]
  },
  {
   "cell_type": "code",
   "execution_count": 11,
   "metadata": {},
   "outputs": [],
   "source": [
    "df['stemmed'] = df['tokenized'].apply(lambda x:[lemmatizer.lemmatize(y) for y in x])"
   ]
  },
  {
   "cell_type": "code",
   "execution_count": 12,
   "metadata": {},
   "outputs": [],
   "source": [
    "from nltk.tokenize.treebank import TreebankWordDetokenizer as Detok\n",
    "detokenizer = Detok()"
   ]
  },
  {
   "cell_type": "code",
   "execution_count": 13,
   "metadata": {},
   "outputs": [],
   "source": [
    "df['processed_cats'] = df['stemmed'].apply(lambda x:detokenizer.detokenize(x))"
   ]
  },
  {
   "cell_type": "code",
   "execution_count": 14,
   "metadata": {},
   "outputs": [],
   "source": [
    "df['processed_cats'] = df['processed_cats'].apply(lambda x: re.sub('&','',x))"
   ]
  },
  {
   "cell_type": "code",
   "execution_count": 15,
   "metadata": {},
   "outputs": [],
   "source": [
    "df['processed_cats'] = df['processed_cats'].apply(lambda x: re.sub('  ',' ',x))"
   ]
  },
  {
   "cell_type": "code",
   "execution_count": 16,
   "metadata": {},
   "outputs": [
    {
     "data": {
      "text/plain": [
       "array(['conditioner', 'eye makeup', 'face makeup', 'face mask',\n",
       "       'facial cleanser', 'fake nail', 'hair color', 'hair styling tool',\n",
       "       'lip care', 'lip makeup', 'makeup tool brush', 'manicure tool',\n",
       "       'moisturizers', 'nail polish', 'nail polish remover', 'shampoo',\n",
       "       '1080p tv', '4k tv', '720p tv', 'all-in-one printer',\n",
       "       'computer accessory', 'desktop', 'dvd blue-ray player',\n",
       "       'home theater', 'inkjet printer', 'laptop', 'laser printer',\n",
       "       'monitor', 'pc component', 'printer ink', 'printer paper',\n",
       "       'printer toner', 'projector', 'whole bean coffee',\n",
       "       'bottled coffee', 'cooky', 'energy drinks/all energy drink',\n",
       "       'water', 'instant coffee', 'ground coffee', 'soda pop',\n",
       "       'pasta noodle', 'soup', 'single-serve cup pod',\n",
       "       'nut, trail mix seed', 'cracker', 'boxed meal', 'milk',\n",
       "       'canned good', 'chip', 'juice', 'porch swing',\n",
       "       'outdoor lounge furniture', 'outdoor fireplace', 'firewood rack',\n",
       "       'all trimmer and edger', 'tiki torch', 'fire pit table',\n",
       "       'all generator', 'fire pit accessory', 'outdoor dining furniture',\n",
       "       'tiller cultivator', 'bistro set', 'patio chair seating',\n",
       "       'chainsaw', 'all lawn mower', 'all pressure washer', 'fire pit',\n",
       "       'patio set', 'pole saw', 'leaf blower', 'patio heater',\n",
       "       'outdoor bar furniture', 'chimineas', 'gas grill',\n",
       "       'portable grill', 'flat top grill outdoor griddle',\n",
       "       'outdoor cooking tool accessory', 'combo grill', 'electric grill',\n",
       "       'smoker', 'charcoal grill', 'pellet grill', 'kamado grill', 'desk',\n",
       "       'chair', 'tv stand', 'sofa', 'mattress', 'bed', 'bookcase',\n",
       "       'vacuum', 'microwave', 'fridge', 'dishwasher', 'washer dryer',\n",
       "       'small appliance', 'oven range', 'wall art', 'candle', 'rug',\n",
       "       'throw pillow', 'curtain', 'lighting', 'mirror', 'dinnerware',\n",
       "       'cookware', 'food storage', 'tool gadget', 'barware', 'cutlery',\n",
       "       'flatware'], dtype=object)"
      ]
     },
     "execution_count": 16,
     "metadata": {},
     "output_type": "execute_result"
    }
   ],
   "source": [
    "df['processed_cats'].unique()"
   ]
  },
  {
   "cell_type": "markdown",
   "metadata": {},
   "source": [
    "## Pre-processed the product_names"
   ]
  },
  {
   "cell_type": "code",
   "execution_count": 17,
   "metadata": {},
   "outputs": [],
   "source": [
    "df['product_name_tokenized'] = df['product_name'].apply(lambda x: nltk.word_tokenize(x))"
   ]
  },
  {
   "cell_type": "code",
   "execution_count": 18,
   "metadata": {},
   "outputs": [],
   "source": [
    "lemmatizer = WordNetLemmatizer() \n",
    "df['product_name_tokenized'] = df['product_name_tokenized'].apply(lambda x:[lemmatizer.lemmatize(y) for y in x])"
   ]
  },
  {
   "cell_type": "code",
   "execution_count": 19,
   "metadata": {},
   "outputs": [],
   "source": [
    "df['product_name_processed'] = df['product_name_tokenized'].apply(lambda x:detokenizer.detokenize(x))"
   ]
  },
  {
   "cell_type": "code",
   "execution_count": 20,
   "metadata": {},
   "outputs": [
    {
     "data": {
      "text/plain": [
       "0        pantene pro-v conditioner, daily moisture rene...\n",
       "1        ogx anti-breakage keratin oil conditioner , 19...\n",
       "2        ogx ever straightening + brazilian keratin the...\n",
       "3        pantene pro-v radiant color volume conditioner...\n",
       "4        softsheen-carson optimum salon hair care amla ...\n",
       "                               ...                        \n",
       "16890    farberware professional set of 8 rubber and st...\n",
       "16891    gibson home sensation ii 16-piece flatware set...\n",
       "16892                      imusa usa 12\"wood serving spoon\n",
       "16893    mainstay pierremont 20 piece stainless steel f...\n",
       "16894    peroptimist 6pcs round long handle soup coffee...\n",
       "Name: product_name_processed, Length: 16895, dtype: object"
      ]
     },
     "execution_count": 20,
     "metadata": {},
     "output_type": "execute_result"
    }
   ],
   "source": [
    "df['product_name_processed']"
   ]
  },
  {
   "cell_type": "markdown",
   "metadata": {},
   "source": [
    "## Find matching (predict cat2 labels)"
   ]
  },
  {
   "cell_type": "code",
   "execution_count": 21,
   "metadata": {},
   "outputs": [],
   "source": [
    "def check_cat(x):\n",
    "    for i in df['processed_cats'].unique():\n",
    "        a = re.search(i,x)\n",
    "        if a != None:\n",
    "            return i"
   ]
  },
  {
   "cell_type": "code",
   "execution_count": 22,
   "metadata": {},
   "outputs": [],
   "source": [
    "df['cat_pred'] = df['product_name_processed'].apply(lambda x: check_cat(x))"
   ]
  },
  {
   "cell_type": "code",
   "execution_count": 23,
   "metadata": {},
   "outputs": [
    {
     "data": {
      "text/plain": [
       "9031"
      ]
     },
     "execution_count": 23,
     "metadata": {},
     "output_type": "execute_result"
    }
   ],
   "source": [
    "(df['cat_pred'].isnull()).sum()"
   ]
  },
  {
   "cell_type": "code",
   "execution_count": 24,
   "metadata": {},
   "outputs": [
    {
     "data": {
      "text/plain": [
       "6152"
      ]
     },
     "execution_count": 24,
     "metadata": {},
     "output_type": "execute_result"
    }
   ],
   "source": [
    "(df['cat_pred'] ==df['processed_cats']).sum()"
   ]
  },
  {
   "cell_type": "code",
   "execution_count": 25,
   "metadata": {},
   "outputs": [
    {
     "data": {
      "text/plain": [
       "(16895,)"
      ]
     },
     "execution_count": 25,
     "metadata": {},
     "output_type": "execute_result"
    }
   ],
   "source": [
    "df['cat_pred'].shape"
   ]
  },
  {
   "cell_type": "code",
   "execution_count": 26,
   "metadata": {},
   "outputs": [],
   "source": [
    "df['cat_pred_valid'] = df['cat_pred'].apply(lambda x: x in df['processed_cats'].unique())"
   ]
  },
  {
   "cell_type": "code",
   "execution_count": 27,
   "metadata": {},
   "outputs": [
    {
     "data": {
      "text/plain": [
       "7864"
      ]
     },
     "execution_count": 27,
     "metadata": {},
     "output_type": "execute_result"
    }
   ],
   "source": [
    "df['cat_pred_valid'].sum()"
   ]
  },
  {
   "cell_type": "code",
   "execution_count": 28,
   "metadata": {},
   "outputs": [],
   "source": [
    "#df.to_csv('naive_model.csv',index=False)"
   ]
  },
  {
   "cell_type": "markdown",
   "metadata": {},
   "source": [
    "## Some anlysis on the Naive Model"
   ]
  },
  {
   "cell_type": "code",
   "execution_count": 29,
   "metadata": {},
   "outputs": [
    {
     "data": {
      "text/plain": [
       "46.54631547795206"
      ]
     },
     "execution_count": 29,
     "metadata": {},
     "output_type": "execute_result"
    }
   ],
   "source": [
    "(7864/16895)*100"
   ]
  },
  {
   "cell_type": "markdown",
   "metadata": {},
   "source": [
    "### 7864 out of 16895 products have a label (46.5%)"
   ]
  },
  {
   "cell_type": "code",
   "execution_count": 30,
   "metadata": {},
   "outputs": [],
   "source": [
    "pd.options.display.max_rows = 500"
   ]
  },
  {
   "cell_type": "code",
   "execution_count": 31,
   "metadata": {},
   "outputs": [
    {
     "data": {
      "text/plain": [
       "array(['conditioner', 'eye makeup', 'face makeup', 'face masks',\n",
       "       'facial cleansers', 'fake nails', 'hair color',\n",
       "       'hair styling tools', 'lip care', 'manicure tools', 'nail polish',\n",
       "       'shampoos', '1080p tv', '720p tv', 'all-in-one printers',\n",
       "       'desktop', 'home theater', 'inkjet printers', 'laptops',\n",
       "       'laser printers', 'monitors', 'printer paper', 'projectors',\n",
       "       'whole bean coffee', 'cookies', 'water', 'ground coffee',\n",
       "       'crackers', 'soups', 'milk', 'instant coffee', 'juices', 'chips',\n",
       "       'soda pop', 'porch swings', 'bistro sets', 'chainsaws',\n",
       "       'fire pits', 'pole saws', 'patio heaters', 'tiki torches',\n",
       "       'fire pit tables', 'outdoor fireplaces', 'leaf blowers',\n",
       "       'tillers & cultivators', 'firewood racks', 'patio sets',\n",
       "       'combo grills', 'charcoal grills', 'kamado grills', 'smokers',\n",
       "       'gas grills', 'pellet grills', 'portable grills',\n",
       "       'electric grills', 'desks', 'chairs', 'tv stands', 'sofas',\n",
       "       'mattresses', 'beds', 'bookcases', 'vacuums', 'microwaves',\n",
       "       'fridges', 'dishwashers', 'washer & dryers', 'small appliances',\n",
       "       'wall art', 'candles', 'rugs', 'throw pillows', 'curtains',\n",
       "       'lightings', 'mirrors', 'dinnerware', 'cookware', 'food storage',\n",
       "       'tools & gadgets', 'barware', 'cutlery', 'flatware'], dtype=object)"
      ]
     },
     "execution_count": 31,
     "metadata": {},
     "output_type": "execute_result"
    }
   ],
   "source": [
    "#some categories that are predicted correctly\n",
    "df['cat2'][df['cat_pred'] ==df['processed_cats']].unique()"
   ]
  },
  {
   "cell_type": "code",
   "execution_count": 32,
   "metadata": {},
   "outputs": [
    {
     "data": {
      "text/plain": [
       "82"
      ]
     },
     "execution_count": 32,
     "metadata": {},
     "output_type": "execute_result"
    }
   ],
   "source": [
    "#Categories that have some right prediction\n",
    "df['cat2'][df['cat_pred'] ==df['processed_cats']].nunique()"
   ]
  },
  {
   "cell_type": "code",
   "execution_count": 33,
   "metadata": {},
   "outputs": [
    {
     "data": {
      "text/plain": [
       "30"
      ]
     },
     "execution_count": 33,
     "metadata": {},
     "output_type": "execute_result"
    }
   ],
   "source": [
    "df['processed_cats'].nunique()-82"
   ]
  },
  {
   "cell_type": "markdown",
   "metadata": {},
   "source": [
    "## 30 categories got no correct prediction"
   ]
  },
  {
   "cell_type": "code",
   "execution_count": 34,
   "metadata": {},
   "outputs": [],
   "source": [
    "#All the ones that has a valid prediction\n",
    "df_valid = df[df['cat_pred_valid']==True]"
   ]
  },
  {
   "cell_type": "code",
   "execution_count": 35,
   "metadata": {},
   "outputs": [],
   "source": [
    "y_true = df_valid['processed_cats']\n",
    "y_pred = df_valid['cat_pred']"
   ]
  },
  {
   "cell_type": "code",
   "execution_count": 36,
   "metadata": {},
   "outputs": [
    {
     "name": "stdout",
     "output_type": "stream",
     "text": [
      "Accuracy: 0.7823 \n",
      "F1 score: 0.7477\n"
     ]
    }
   ],
   "source": [
    "print(\"Accuracy:\", round(accuracy_score(y_true,y_pred),4), \"\\n\"\n",
    "     \"F1 score:\", round(f1_score(y_true,y_pred,average = 'weighted'),4))"
   ]
  },
  {
   "cell_type": "markdown",
   "metadata": {},
   "source": [
    "## Bad accuracy even for those that are labelled!"
   ]
  },
  {
   "cell_type": "code",
   "execution_count": 37,
   "metadata": {},
   "outputs": [
    {
     "data": {
      "text/plain": [
       "array(['Hair Care', 'Makeup', 'Skin Care', 'Nail Care', 'TV',\n",
       "       'Printer & Supplies', 'Computers', 'Home Audio & Theater',\n",
       "       'Coffee', 'Snacks, Cookies & Chips', 'Beverages',\n",
       "       'Meal Solutions, Grains & Pasta', 'Patio Furniture',\n",
       "       'Outdoor Heating', 'Outdoor Power Equipment',\n",
       "       'Grills & Outdoor Cooking', 'Furnitures', 'Appliances',\n",
       "       'Home Decor', 'Kitchen & Dining'], dtype=object)"
      ]
     },
     "execution_count": 37,
     "metadata": {},
     "output_type": "execute_result"
    }
   ],
   "source": [
    "df_valid['cat1'].unique()"
   ]
  },
  {
   "cell_type": "code",
   "execution_count": 38,
   "metadata": {},
   "outputs": [],
   "source": [
    "#can look at different cat1 categories to see how it does\n",
    "df_app = df_valid[df_valid['cat0']=='Electronics']"
   ]
  },
  {
   "cell_type": "code",
   "execution_count": 39,
   "metadata": {},
   "outputs": [],
   "source": [
    "y_true = df_app['processed_cats']\n",
    "y_pred = df_app['cat_pred']"
   ]
  },
  {
   "cell_type": "code",
   "execution_count": 40,
   "metadata": {},
   "outputs": [
    {
     "name": "stdout",
     "output_type": "stream",
     "text": [
      "Accuracy: 0.7377 \n",
      "F1 score: 0.7085\n"
     ]
    }
   ],
   "source": [
    "print(\"Accuracy:\", round(accuracy_score(y_true,y_pred),4), \"\\n\"\n",
    "     \"F1 score:\", round(f1_score(y_true,y_pred,average = 'weighted'),4))"
   ]
  },
  {
   "cell_type": "code",
   "execution_count": 41,
   "metadata": {},
   "outputs": [
    {
     "data": {
      "text/plain": [
       "<matplotlib.axes._subplots.AxesSubplot at 0x1fd036d6dc8>"
      ]
     },
     "execution_count": 41,
     "metadata": {},
     "output_type": "execute_result"
    },
    {
     "data": {
      "image/png": "[encoded data removed]",
      "text/plain": [
       "<Figure size 864x864 with 2 Axes>"
      ]
     },
     "metadata": {
      "needs_background": "light"
     },
     "output_type": "display_data"
    }
   ],
   "source": [
    "import scikitplot as skplt\n",
    "\n",
    "skplt.metrics.plot_confusion_matrix(\n",
    "    y_true, \n",
    "    y_pred,\n",
    "    figsize=(12,12),\n",
    "    x_tick_rotation = 90)"
   ]
  },
  {
   "cell_type": "markdown",
   "metadata": {},
   "source": [
    "## Predictions are all over the place"
   ]
  },
  {
   "cell_type": "code",
   "execution_count": 196,
   "metadata": {},
   "outputs": [
    {
     "data": {
      "text/plain": [
       "array(['Hair Care', 'Makeup', 'Skin Care', 'Nail Care', 'TV',\n",
       "       'Printer & Supplies', 'Computers', 'Home Audio & Theater',\n",
       "       'Coffee', 'Snacks, Cookies & Chips', 'Beverages',\n",
       "       'Meal Solutions, Grains & Pasta', 'Patio Furniture',\n",
       "       'Outdoor Heating', 'Outdoor Power Equipment',\n",
       "       'Grills & Outdoor Cooking', 'Furnitures', 'Appliances',\n",
       "       'Home Decor', 'Kitchen & Dining'], dtype=object)"
      ]
     },
     "execution_count": 196,
     "metadata": {},
     "output_type": "execute_result"
    }
   ],
   "source": [
    "df['cat1'].unique()"
   ]
  },
  {
   "cell_type": "code",
   "execution_count": 197,
   "metadata": {},
   "outputs": [],
   "source": [
    "df_G = df[df['cat0'] == 'Garden & Patio']"
   ]
  },
  {
   "cell_type": "code",
   "execution_count": 205,
   "metadata": {},
   "outputs": [],
   "source": [
    "z = df['cat1'][df['cat_pred'] ==df['processed_cats']].unique()"
   ]
  },
  {
   "cell_type": "code",
   "execution_count": 206,
   "metadata": {},
   "outputs": [
    {
     "data": {
      "text/plain": [
       "(3956, 27)"
      ]
     },
     "execution_count": 206,
     "metadata": {},
     "output_type": "execute_result"
    }
   ],
   "source": [
    "df_G.shape"
   ]
  },
  {
   "cell_type": "code",
   "execution_count": 207,
   "metadata": {},
   "outputs": [],
   "source": [
    "df_G_valid = df_G[df_G['cat_pred_valid']==True]"
   ]
  },
  {
   "cell_type": "code",
   "execution_count": 208,
   "metadata": {},
   "outputs": [
    {
     "data": {
      "text/plain": [
       "(1816, 27)"
      ]
     },
     "execution_count": 208,
     "metadata": {},
     "output_type": "execute_result"
    }
   ],
   "source": [
    "df_G_valid.shape"
   ]
  },
  {
   "cell_type": "code",
   "execution_count": 209,
   "metadata": {},
   "outputs": [
    {
     "data": {
      "text/plain": [
       "array(['porch swing', 'chair', 'fire pit', 'bistro set', 'chainsaw',\n",
       "       'pole saw', 'patio heater', 'sofa', 'tiki torch', 'water',\n",
       "       'fire pit table', 'outdoor fireplace', 'vacuum', 'leaf blower',\n",
       "       'rug', 'desktop', 'cookware', 'tiller cultivator', 'mirror',\n",
       "       'firewood rack', 'patio set', 'lighting', 'bed', 'microwave',\n",
       "       'gas grill', 'smoker', 'combo grill', 'charcoal grill',\n",
       "       'pellet grill', 'kamado grill', 'portable grill', 'electric grill',\n",
       "       'dishwasher', 'desk', 'chip'], dtype=object)"
      ]
     },
     "execution_count": 209,
     "metadata": {},
     "output_type": "execute_result"
    }
   ],
   "source": [
    "df_G_valid['cat_pred'].unique()"
   ]
  },
  {
   "cell_type": "code",
   "execution_count": 210,
   "metadata": {},
   "outputs": [
    {
     "data": {
      "text/plain": [
       "0.4590495449949444"
      ]
     },
     "execution_count": 210,
     "metadata": {},
     "output_type": "execute_result"
    }
   ],
   "source": [
    "1816/3956"
   ]
  },
  {
   "cell_type": "code",
   "execution_count": 211,
   "metadata": {},
   "outputs": [
    {
     "name": "stdout",
     "output_type": "stream",
     "text": [
      "Accuracy: 0.5672 \n",
      "F1 score: 0.5567\n"
     ]
    }
   ],
   "source": [
    "print(\"Accuracy:\", round(accuracy_score(df_G_valid['processed_cats'],df_G_valid['cat_pred']),4), \"\\n\"\n",
    "     \"F1 score:\", round(f1_score(df_G_valid['processed_cats'],df_G_valid['cat_pred'],average = 'weighted'),4))"
   ]
  },
  {
   "cell_type": "code",
   "execution_count": 76,
   "metadata": {},
   "outputs": [
    {
     "ename": "SyntaxError",
     "evalue": "invalid syntax (<ipython-input-76-4e7e12a38a77>, line 1)",
     "output_type": "error",
     "traceback": [
      "\u001b[1;36m  File \u001b[1;32m\"<ipython-input-76-4e7e12a38a77>\"\u001b[1;36m, line \u001b[1;32m1\u001b[0m\n\u001b[1;33m    df_G_correct df_G_valid[df_G_valid['cat_pred']==df_G_valid['processed_cats']]\u001b[0m\n\u001b[1;37m                          ^\u001b[0m\n\u001b[1;31mSyntaxError\u001b[0m\u001b[1;31m:\u001b[0m invalid syntax\n"
     ]
    }
   ],
   "source": [
    "df_G_correct df_G_valid[df_G_valid['cat_pred']==df_G_valid['processed_cats']]"
   ]
  },
  {
   "cell_type": "code",
   "execution_count": null,
   "metadata": {},
   "outputs": [],
   "source": []
  }
 ],
 "metadata": {
  "kernelspec": {
   "display_name": "Python 3",
   "language": "python",
   "name": "python3"
  },
  "language_info": {
   "codemirror_mode": {
    "name": "ipython",
    "version": 3
   },
   "file_extension": ".py",
   "mimetype": "text/x-python",
   "name": "python",
   "nbconvert_exporter": "python",
   "pygments_lexer": "ipython3",
   "version": "3.7.6"
  }
 },
 "nbformat": 4,
 "nbformat_minor": 4
}
